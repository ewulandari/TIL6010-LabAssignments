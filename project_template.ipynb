{
 "cells": [
  {
   "cell_type": "markdown",
   "metadata": {},
   "source": [
    "# Project Group - \n",
    "\n",
    "Members: \n",
    "Alex van Wijngaarden - \r\n",
    "Eka Dev  Wulandar - 5912822i\r\n",
    "Nadhini Widiafi - 5835429na\r\n",
    "Sion, van der Ho - 5125227rst\r\n",
    "iet,  - 4498445Krs: "
   ]
  },
  {
   "cell_type": "markdown",
   "metadata": {},
   "source": [
    "# Research Objective\n",
    "\n",
    "*Requires data modeling and quantitative research in Transport, Infrastructure & Logistics*"
   ]
  },
  {
   "cell_type": "markdown",
   "metadata": {},
   "source": [
    "\n",
    "“How does the weather influence traffic accidents in cities and rural areas in the Netherlands during the period of 2021-2022, and how do these areas compare?”\r\n"
   ]
  },
  {
   "cell_type": "markdown",
   "metadata": {},
   "source": [
    "# Contribution Statement\n",
    "\n",
    "*Be specific. Some of the tasks can be coding (expect everyone to do this), background research, conceptualisation, visualisation, data analysis, data modelling*"
   ]
  },
  {
   "cell_type": "markdown",
   "metadata": {},
   "source": [
    "** Alex, Eka, Nadhira, Simon, Wiet **:\n",
    "Conceptulization\n",
    "\n",
    "** Wiet, Simon **:\n",
    "data modeling (data pipeline)\n",
    "\n",
    "** Wiet, Simon **:\n",
    "Data analysis (correlation heatmap)\n",
    "\n",
    "** NAdhira, Eka **:\n",
    "Data visualizaiton (plotly, seaborne etc)\n",
    "\n",
    "** Alex **:\n",
    "Narative section (report) "
   ]
  },
  {
   "cell_type": "markdown",
   "metadata": {},
   "source": [
    "# Data Used"
   ]
  },
  {
   "cell_type": "markdown",
   "metadata": {},
   "source": [
    "Verkeersongevallen - Bestand geRegistreerde Ongevallen Nederland\n",
    "https://data.overheid.nl/dataset/9841-verkeersongevallen---bestand-geregistreerde-ongevallen-nederland\n"
   ]
  },
  {
   "cell_type": "markdown",
   "metadata": {},
   "source": [
    "# Data Pipeline"
   ]
  },
  {
   "cell_type": "markdown",
   "metadata": {},
   "source": [
    "1. Source\n",
    "Verkeersongevallen - Bestand geRegistreerde Ongevallen Nederland\n",
    "3. Staging areag\n",
    "    Transform the data from .txt to pandas?\n",
    "4. Data warehouse\n",
    "   .pkl file?"
   ]
  }
 ],
 "metadata": {
  "kernelspec": {
   "display_name": "Python 3 (ipykernel)",
   "language": "python",
   "name": "python3"
  },
  "language_info": {
   "codemirror_mode": {
    "name": "ipython",
    "version": 3
   },
   "file_extension": ".py",
   "mimetype": "text/x-python",
   "name": "python",
   "nbconvert_exporter": "python",
   "pygments_lexer": "ipython3",
   "version": "3.11.4"
  },
  "vscode": {
   "interpreter": {
    "hash": "31f2aee4e71d21fbe5cf8b01ff0e069b9275f58929596ceb00d14d90e3e16cd6"
   }
  }
 },
 "nbformat": 4,
 "nbformat_minor": 4
}
