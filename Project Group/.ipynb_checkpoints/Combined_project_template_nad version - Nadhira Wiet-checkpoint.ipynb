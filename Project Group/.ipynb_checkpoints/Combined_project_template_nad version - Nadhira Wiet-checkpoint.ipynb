{
 "cells": [
  {
   "cell_type": "markdown",
   "metadata": {},
   "source": [
    "# Project Group - \n",
    "\n",
    "**Members:** \n",
    "\n",
    "Alex van Wijngaarden - 4874277\n",
    "\n",
    "Eka Devi  Wulandari - 5912822\n",
    "\n",
    "Nadhira Zahrani Widiafina - 5835429\n",
    "\n",
    "Simon, van der Horst - 5125227\n",
    "\n",
    "Wiet Kalf  - 4498445"
   ]
  },
  {
   "cell_type": "markdown",
   "metadata": {},
   "source": [
    "# Research Objective\n",
    "\n",
    "*Requires data modeling and quantitative research in Transport, Infrastructure & Logistics*"
   ]
  },
  {
   "cell_type": "markdown",
   "metadata": {},
   "source": [
    "\n",
    "“How does the weather influence traffic accidents in cities and rural areas in the Netherlands during the period of 2021-2022, and how do these areas compare?”\n"
   ]
  },
  {
   "cell_type": "markdown",
   "metadata": {},
   "source": [
    "# Contribution Statement\n",
    "\n",
    "*Be specific. Some of the tasks can be coding (expect everyone to do this), background research, conceptualisation, visualisation, data analysis, data modelling*"
   ]
  },
  {
   "cell_type": "markdown",
   "metadata": {},
   "source": [
    "**Conceptulization:**\n",
    "Alex, Eka, Nadhira, Simon, Wiet\n",
    "\n",
    "**Data modeling (data pipeline):**\n",
    "Wiet, Simon\n",
    "\n",
    "**Data analysis (correlation heatmap):**\n",
    "Wiet, Simon\n",
    "\n",
    "**Data visualizaiton (plotly, seaborne etc):**\n",
    "Nadhira, Eka\n",
    "\n",
    "**Narative section (report):**\n",
    "Alex\n"
   ]
  },
  {
   "cell_type": "markdown",
   "metadata": {},
   "source": [
    "# Data Used"
   ]
  },
  {
   "cell_type": "markdown",
   "metadata": {},
   "source": [
    "Verkeersongevallen - Bestand geRegistreerde Ongevallen Nederland\n",
    "https://data.overheid.nl/dataset/9841-verkeersongevallen---bestand-geregistreerde-ongevallen-nederland\n"
   ]
  },
  {
   "cell_type": "markdown",
   "metadata": {},
   "source": [
    "# Data Pipeline"
   ]
  },
  {
   "cell_type": "markdown",
   "metadata": {},
   "source": [
    "1. Source\n",
    "Verkeersongevallen - Bestand geRegistreerde Ongevallen Nederland\n",
    "3. Staging areag\n",
    "    Transform the data from .txt to pandas?\n",
    "4. Data warehouse\n",
    "   .pkl file?"
   ]
  },
  {
   "cell_type": "markdown",
   "metadata": {},
   "source": [
    "# Report"
   ]
  },
  {
   "cell_type": "markdown",
   "metadata": {},
   "source": [
    "## 1. Introduction\n",
    "Explain the background / reasoning behind the chosen topic"
   ]
  },
  {
   "cell_type": "markdown",
   "metadata": {},
   "source": [
    "## 2. Data Processing\n",
    "- import data from the excel\n",
    "- give explanation for each column, what data does the column is represented for?\n",
    "- merge data into 1 dataset\n",
    "- identify outlier\n",
    "- finalize data and remove the outlier (if any)"
   ]
  },
  {
   "cell_type": "markdown",
   "metadata": {},
   "source": [
    "Columns necessary:\n",
    "AP3_CODE: This attribute categorizes accidents into fatalities, injuries and just material damage \\\n",
    "\"DOD\" = \"Dodelijk\"\\\n",
    "\"LET = ,\"Letsel\\\"\n",
    "\"UM = \",\"Uitsluitend materiele schade\\\n",
    "\n",
    "WGD_CODE_1\n",
    "BEBKOM\n",
    "MAXSNELHD\n",
    "IND_ALC"
   ]
  },
  {
   "cell_type": "code",
   "execution_count": 1,
   "metadata": {},
   "outputs": [],
   "source": [
    "import pandas as pd\n",
    "\n"
   ]
  },
  {
   "cell_type": "code",
   "execution_count": 3,
   "metadata": {},
   "outputs": [
    {
     "name": "stdout",
     "output_type": "stream",
     "text": [
      "       AP3_CODE WGD_CODE_1 BEBKOM  MAXSNELHD IND_ALC          GME_NAAM  \\\n",
      "0           DOD          D     BI       30.0       N  's-Hertogenbosch   \n",
      "1           DOD          D     BU       60.0       N               Ede   \n",
      "2           DOD          D     BU       80.0       N         Maasdriel   \n",
      "3           DOD          D     BI        NaN       N     's-Gravenhage   \n",
      "4           DOD          D     BU       80.0       N        Koggenland   \n",
      "...         ...        ...    ...        ...     ...               ...   \n",
      "114214      UMS        NaN    NaN      100.0       N           Veendam   \n",
      "114215      UMS        NaN    NaN      100.0       N           Veendam   \n",
      "114216      UMS        NaN    NaN      100.0       N  Midden-Groningen   \n",
      "114217      UMS        NaN    NaN      100.0       N           Veendam   \n",
      "114218      UMS        NaN    NaN      100.0       N        Dinkelland   \n",
      "\n",
      "             PVE_NAAM         DISTRNAAM  \n",
      "0       Noord-Brabant               NaN  \n",
      "1          Gelderland               NaN  \n",
      "2          Gelderland               NaN  \n",
      "3        Zuid-Holland               NaN  \n",
      "4       Noord-Holland               NaN  \n",
      "...               ...               ...  \n",
      "114214      Groningen  NN District Oost  \n",
      "114215      Groningen  NN District Oost  \n",
      "114216      Groningen  NN District Oost  \n",
      "114217      Groningen  NN District Oost  \n",
      "114218     Overijssel  ON District Oost  \n",
      "\n",
      "[114219 rows x 8 columns]\n",
      "       AP3_CODE WGD_CODE_1 BEBKOM  MAXSNELHD IND_ALC          GME_NAAM  \\\n",
      "12          DOD          D     BU      100.0       N         Amsterdam   \n",
      "15          DOD          D     BI      100.0       N           Tilburg   \n",
      "16          DOD          D     BU       80.0       N  's-Hertogenbosch   \n",
      "30          UMS          D     BU       80.0       N   Súdwest-Fryslân   \n",
      "31          UMS          D     BU      100.0       N    Smallingerland   \n",
      "...         ...        ...    ...        ...     ...               ...   \n",
      "113135      UMS          D     BU       30.0       N            Voorst   \n",
      "113136      UMS          D     BU      100.0       N           Nijkerk   \n",
      "113140      UMS          D     BU      100.0       N         Rotterdam   \n",
      "113149      UMS          D     BU       30.0       N    Haarlemmermeer   \n",
      "113154      UMS          D     BU      100.0       N         Hoogeveen   \n",
      "\n",
      "             PVE_NAAM           DISTRNAAM  \n",
      "12      Noord-Holland   WNN District Zuid  \n",
      "15      Noord-Brabant    ZN District West  \n",
      "16      Noord-Brabant  ZN District Midden  \n",
      "30          Friesland    NN District West  \n",
      "31          Friesland    NN District West  \n",
      "...               ...                 ...  \n",
      "113135     Gelderland   ON District Noord  \n",
      "113136     Gelderland   ON District Noord  \n",
      "113140   Zuid-Holland   WNZ District Zuid  \n",
      "113149  Noord-Holland   WNN District Zuid  \n",
      "113154        Drenthe    NN District Oost  \n",
      "\n",
      "[7704 rows x 8 columns]\n"
     ]
    }
   ],
   "source": [
    "\n",
    "#local absolute file path of large dataset\n",
    "filename = r\"C:\\Users\\simon\\TIL jaar 1\\TIL programming\\project\\traffic data\\PGS0112-o-CSV-bestand-J-1-N-N-N\\Ongevallengegevens\\ongevallen.txt\"\n",
    "#loading the dataset\n",
    "df = pd.read_csv(filename, encoding = 'latin1', low_memory=False)\n",
    "# alcohol indicator for no was an empty column so that is filled with an n\n",
    "df[\"IND_ALC\"].fillna(\"N\", inplace = True) \n",
    "#selecting the necessary columns\n",
    "data = df[[\"AP3_CODE\", \"WGD_CODE_1\", \"BEBKOM\", \"MAXSNELHD\", \"IND_ALC\", \"GME_NAAM\", \"PVE_NAAM\", \"DISTRNAAM\"]]\n",
    "#dropping rows where either 1 of the columns has no value, reduces the amount of rows by approximately half\n",
    "print(data)\n",
    "data_cleaned = data.dropna()\n",
    "print(data_cleaned)\n",
    "#converting the dataframe to a .pkl file format for easier sharing\n",
    "data_cleaned.to_pickle(\"accidents.pkl\")\n"
   ]
  },
  {
   "cell_type": "markdown",
   "metadata": {},
   "source": [
    "## 3. Descriptive Analysis of the data\n",
    "- accident trend over year (using bar chart) + narrative paragraph\n",
    "- accident distribution in NL (using map) + narrative paragraph\n",
    "- correlation between accident and weather for each weather type (since weather data is categorical) + narrative paragraph\n",
    "     - reference from Julia B. Edwards's paper: **The Relationship Between Road Accident Severity and Recorded Weather**\n",
    "         - define weather classification\n",
    "         - identify severity ratio\n",
    "         - identify the correlation (using chi-square?)\n",
    "     - proposed approach:\n",
    "         - identify impact of weather on 2 things: severity level and number of accident\n",
    "         - using trend line aggregated in monthly basis, every line/colour represent 1 weather type\n",
    "         - to asess the correlation, using chi-square test\n"
   ]
  },
  {
   "cell_type": "code",
   "execution_count": 9,
   "metadata": {
    "scrolled": true
   },
   "outputs": [
    {
     "name": "stdout",
     "output_type": "stream",
     "text": [
      "       AP3_CODE WGD_CODE_1 BEBKOM  MAXSNELHD IND_ALC          GME_NAAM  \\\n",
      "12          DOD          D     BU      100.0       N         Amsterdam   \n",
      "15          DOD          D     BI      100.0       N           Tilburg   \n",
      "16          DOD          D     BU       80.0       N  's-Hertogenbosch   \n",
      "30          UMS          D     BU       80.0       N   Súdwest-Fryslân   \n",
      "31          UMS          D     BU      100.0       N    Smallingerland   \n",
      "...         ...        ...    ...        ...     ...               ...   \n",
      "113135      UMS          D     BU       30.0       N            Voorst   \n",
      "113136      UMS          D     BU      100.0       N           Nijkerk   \n",
      "113140      UMS          D     BU      100.0       N         Rotterdam   \n",
      "113149      UMS          D     BU       30.0       N    Haarlemmermeer   \n",
      "113154      UMS          D     BU      100.0       N         Hoogeveen   \n",
      "\n",
      "             PVE_NAAM           DISTRNAAM  \n",
      "12      Noord-Holland   WNN District Zuid  \n",
      "15      Noord-Brabant    ZN District West  \n",
      "16      Noord-Brabant  ZN District Midden  \n",
      "30          Friesland    NN District West  \n",
      "31          Friesland    NN District West  \n",
      "...               ...                 ...  \n",
      "113135     Gelderland   ON District Noord  \n",
      "113136     Gelderland   ON District Noord  \n",
      "113140   Zuid-Holland   WNZ District Zuid  \n",
      "113149  Noord-Holland   WNN District Zuid  \n",
      "113154        Drenthe    NN District Oost  \n",
      "\n",
      "[7704 rows x 8 columns]\n"
     ]
    }
   ],
   "source": [
    "df_accidents = pd.read_pickle(\"accidents.pkl\")\n",
    "print(df_accidents)"
   ]
  },
  {
   "cell_type": "markdown",
   "metadata": {},
   "source": [
    "### 3.1 Accident and Heatmap Visualization"
   ]
  },
  {
   "cell_type": "markdown",
   "metadata": {},
   "source": [
    "Section 3.1 focuses on the synthesis of accident data with geospatial analysis to create an intuitive heatmap visualization. This method graphically represents the density and distribution of traffic accidents, offering a clear visual summary of areas with higher and lower incident frequencies. Heatmaps are particularly effective in revealing hotspots and patterns that might not be immediately apparent from raw data, thereby providing valuable insights for further investigation and targeted safety measures."
   ]
  },
  {
   "cell_type": "markdown",
   "metadata": {},
   "source": [
    "### 3.1.1 Display Municipality Information"
   ]
  },
  {
   "cell_type": "markdown",
   "metadata": {},
   "source": [
    "The visualization process begins by identifying and enumerating the unique municipalities involved in the traffic accident dataset. Utilizing the GME_NAAM column, the code snippet isolates each distinct municipality and computes the total count of such unique entities. This preliminary step is instrumental in the preparation for subsequent visual mapping. The output, which includes both a count and a detailed list of these municipalities, serves as a cornerstone for the accurate plotting of incidents in the following stages of analysis. It ensures that the data fed into the heatmap visualization is well-structured and comprehensive, reflecting the true breadth of the dataset's geographic coverage."
   ]
  },
  {
   "cell_type": "code",
   "execution_count": 10,
   "metadata": {},
   "outputs": [
    {
     "name": "stdout",
     "output_type": "stream",
     "text": [
      "Number of unique municipalities (GME_NAAM): 253\n",
      "List of unique municipalities:\n",
      "Amsterdam\n",
      "Tilburg\n",
      "'s-Hertogenbosch\n",
      "Súdwest-Fryslân\n",
      "Smallingerland\n",
      "Westerkwartier\n",
      "Oost Gelre\n",
      "Roerdalen\n",
      "Horst aan de Maas\n",
      "Venlo\n",
      "Breda\n",
      "Terneuzen\n",
      "Best\n",
      "Waddinxveen\n",
      "Weststellingwerf\n",
      "De Fryske Marren\n",
      "Leeuwarden\n",
      "Apeldoorn\n",
      "Barneveld\n",
      "Hattem\n",
      "Gilze en Rijen\n",
      "Rotterdam\n",
      "Schiedam\n",
      "Oosterhout\n",
      "Geertruidenberg\n",
      "Venray\n",
      "Neder-Betuwe\n",
      "Deventer\n",
      "Overbetuwe\n",
      "Nijmegen\n",
      "Purmerend\n",
      "Zuidplas\n",
      "'s-Gravenhage\n",
      "Leidschendam-Voorburg\n",
      "Weert\n",
      "Echt-Susteren\n",
      "Haarlemmermeer\n",
      "Rijswijk\n",
      "Koggenland\n",
      "Kaag en Braassem\n",
      "Moerdijk\n",
      "Vlissingen\n",
      "Oirschot\n",
      "Vught\n",
      "Maashorst\n",
      "Opsterland\n",
      "Amersfoort\n",
      "Hollands Kroon\n",
      "Papendrecht\n",
      "Staphorst\n",
      "Waadhoeke\n",
      "Arnhem\n",
      "Leiden\n",
      "Wierden\n",
      "Noordoostpolder\n",
      "Eindhoven\n",
      "Veldhoven\n",
      "Beuningen\n",
      "West Betuwe\n",
      "Land van Cuijk\n",
      "Heumen\n",
      "Utrecht\n",
      "Houten\n",
      "Utrechtse Heuvelrug\n",
      "Oostzaan\n",
      "Beverwijk\n",
      "Zaanstad\n",
      "Alkmaar\n",
      "Lansingerland\n",
      "Vlaardingen\n",
      "Midden-Delfland\n",
      "Heemskerk\n",
      "Dordrecht\n",
      "Hoeksche Waard\n",
      "Zwijndrecht\n",
      "Zoetermeer\n",
      "Heerenveen\n",
      "Sittard-Geleen\n",
      "Heerlen\n",
      "Ouder-Amstel\n",
      "Peel en Maas\n",
      "Almelo\n",
      "Lelystad\n",
      "Almere\n",
      "Tynaarlo\n",
      "Twenterand\n",
      "Wijchen\n",
      "Vijfheerenlanden\n",
      "Ridderkerk\n",
      "Barendrecht\n",
      "Wormerland\n",
      "Alblasserdam\n",
      "Etten-Leur\n",
      "Harderwijk\n",
      "Diemen\n",
      "Wassenaar\n",
      "Albrandswaard\n",
      "Maasgouw\n",
      "Maastricht\n",
      "Beekdaelen\n",
      "Meerssen\n",
      "Leudal\n",
      "Raalte\n",
      "Eemnes\n",
      "De Bilt\n",
      "Woerden\n",
      "Zaltbommel\n",
      "Ommen\n",
      "Zwolle\n",
      "Den Helder\n",
      "Borne\n",
      "Castricum\n",
      "Waalwijk\n",
      "Son en Breugel\n",
      "Sluis\n",
      "Oss\n",
      "Bodegraven-Reeuwijk\n",
      "Gouda\n",
      "Gooise Meren\n",
      "Amstelveen\n",
      "Hellevoetsluis\n",
      "Velsen\n",
      "Kampen\n",
      "Steenwijkerland\n",
      "Rucphen\n",
      "Bergen op Zoom\n",
      "Enschede\n",
      "Oude IJsselstreek\n",
      "Alphen aan den Rijn\n",
      "Meierijstad\n",
      "Geldrop-Mierlo\n",
      "Uitgeest\n",
      "Cranendonck\n",
      "De Ronde Venen\n",
      "Sliedrecht\n",
      "Tiel\n",
      "Culemborg\n",
      "Losser\n",
      "Veenendaal\n",
      "Waalre\n",
      "Stichtse Vecht\n",
      "Beek\n",
      "Bernheze\n",
      "Groningen\n",
      "Goeree-Overflakkee\n",
      "Heusden\n",
      "Gennep\n",
      "Laren\n",
      "Zeist\n",
      "Leiderdorp\n",
      "Maasdriel\n",
      "Valkenburg aan de Geul\n",
      "Reimerswaal\n",
      "Boxtel\n",
      "Westland\n",
      "Delft\n",
      "Emmen\n",
      "Leusden\n",
      "Soest\n",
      "Gorinchem\n",
      "Midden-Groningen\n",
      "Hoogeveen\n",
      "Kapelle\n",
      "Altena\n",
      "Halderberge\n",
      "Roosendaal\n",
      "Woensdrecht\n",
      "Eersel\n",
      "Aa en Hunze\n",
      "Meppel\n",
      "Schouwen-Duiveland\n",
      "Hardinxveld-Giessendam\n",
      "Ede\n",
      "Putten\n",
      "Hengelo\n",
      "Bergen (NH.)\n",
      "Zoeterwoude\n",
      "Beesel\n",
      "Oldambt\n",
      "Nunspeet\n",
      "Veendam\n",
      "Lingewaard\n",
      "Blaricum\n",
      "Medemblik\n",
      "Assen\n",
      "Middelburg\n",
      "Haaksbergen\n",
      "Haarlem\n",
      "De Wolden\n",
      "Goes\n",
      "Someren\n",
      "Roermond\n",
      "Westerveld\n",
      "Stein\n",
      "Voerendaal\n",
      "Nieuwegein\n",
      "Hilvarenbeek\n",
      "Schagen\n",
      "Epe\n",
      "Doetinchem\n",
      "Hendrik-Ido-Ambacht\n",
      "Duiven\n",
      "Alphen-Chaam\n",
      "Heeze-Leende\n",
      "Nijkerk\n",
      "Renkum\n",
      "Hellendoorn\n",
      "Rijssen-Holten\n",
      "Buren\n",
      "Oldebroek\n",
      "Eemsdelta\n",
      "Steenbergen\n",
      "Midden-Drenthe\n",
      "Zevenaar\n",
      "Heerde\n",
      "Hilversum\n",
      "Berkelland\n",
      "Bladel\n",
      "Harlingen\n",
      "Baarn\n",
      "Montferland\n",
      "Teylingen\n",
      "Dinkelland\n",
      "Deurne\n",
      "Oldenzaal\n",
      "Voorst\n",
      "Capelle aan den IJssel\n",
      "Coevorden\n",
      "Heiloo\n",
      "Bunnik\n",
      "Veere\n",
      "Rheden\n",
      "Ermelo\n",
      "Lisse\n",
      "Bunschoten\n",
      "Oegstgeest\n",
      "Zeewolde\n",
      "Brielle\n",
      "Elburg\n",
      "Edam-Volendam\n",
      "Drimmelen\n",
      "Dronten\n",
      "Huizen\n",
      "Tytsjerksteradiel\n",
      "Valkenswaard\n",
      "Oisterwijk\n",
      "Hardenberg\n",
      "Noord-Beveland\n",
      "Woudenberg\n",
      "Molenlanden\n",
      "Asten\n",
      "Westervoort\n",
      "Eijsden-Margraten\n"
     ]
    }
   ],
   "source": [
    "# Extract unique municipalities from the GME_NAAM column\n",
    "unique_municipalities = df_accidents['GME_NAAM'].unique()\n",
    "\n",
    "# Count of unique municipalities\n",
    "num_unique_municipalities = df_accidents['GME_NAAM'].nunique()\n",
    "\n",
    "print(f\"Number of unique municipalities (GME_NAAM): {num_unique_municipalities}\")\n",
    "print(\"List of unique municipalities:\")\n",
    "for municipality in unique_municipalities:\n",
    "    print(municipality)\n"
   ]
  },
  {
   "cell_type": "markdown",
   "metadata": {},
   "source": [
    "### 3.1.2 Coordinates for Municipalities in the Netherlands: Longitude and Latitude Data"
   ]
  },
  {
   "cell_type": "markdown",
   "metadata": {},
   "source": [
    "Prior to delving into the visualization of accident locations on the map, it is essential to gather accurate geographical coordinates for each municipality in the Netherlands. The dataset provided contains precise longitudinal and latitudinal points, which are crucial for plotting each location on the map. These coordinates serve as the foundational data that will enable the creation of an informative and detailed map, illustrating the spatial distribution of traffic incidents across the municipalities. With these coordinates, each municipality can be accurately represented on the map, providing a clear visual representation of the number of accidents in relation to their geographical context."
   ]
  },
  {
   "cell_type": "code",
   "execution_count": 15,
   "metadata": {},
   "outputs": [
    {
     "name": "stdout",
     "output_type": "stream",
     "text": [
      "{'Amsterdam': (52.3730796, 4.8924534), 'Tilburg': (51.58561845, 5.0660616131367675), \"'s-Hertogenbosch\": (51.6889387, 5.303116), 'Súdwest-Fryslân': (52.974832649999996, 5.436073892467922), 'Smallingerland': (53.11525265, 6.050738915587699), 'Westerkwartier': (53.21425645, 6.3459813379440115), 'Oost Gelre': (52.0153031, 6.561010327461534), 'Roerdalen': (51.1454691, 6.034390914431709), 'Horst aan de Maas': (51.4515953, 6.030898893223135), 'Venlo': (51.39244885, 6.1511724144122955), 'Breda': (51.5887845, 4.7760237), 'Terneuzen': (51.29884295, 3.8422043956030683), 'Best': (51.5033671, 5.3938665), 'Waddinxveen': (52.0443437, 4.641596120380745), 'Weststellingwerf': (52.87191835, 6.008674359652279), 'De Fryske Marren': (52.9118448, 5.713876378916552), 'Leeuwarden': (53.2005936, 5.7918548), 'Apeldoorn': (52.17957375, 5.930077460807249), 'Barneveld': (52.17150665, 5.645439299954028), 'Hattem': (52.476711699999996, 6.061913261141655), 'Gilze en Rijen': (51.56323905, 4.913039391005126), 'Rotterdam': (51.9244424, 4.47775), 'Schiedam': (51.9300454, 4.386451052615731), 'Oosterhout': (51.632237599999996, 4.863042417836681), 'Geertruidenberg': (51.6961662, 4.877843805275408), 'Venray': (51.5082754, 5.958901096612693), 'Neder-Betuwe': (51.92150995, 5.616123265710504), 'Deventer': (52.2695736, 6.236339604766698), 'Overbetuwe': (51.921961249999995, 5.786081524088322), 'Nijmegen': (51.842574850000005, 5.838960628748229), 'Purmerend': (52.5024789, 4.9614827), 'Zuidplas': (51.9995787, 4.613450887425165), \"'s-Gravenhage\": (52.07494555, 4.2696802205364515), 'Leidschendam-Voorburg': (52.09260105, 4.4321249720751625), 'Weert': (51.235582949999994, 5.705079711646853), 'Echt-Susteren': (51.082135199999996, 5.899125547533698), 'Haarlemmermeer': (52.3238421, 4.715261248876009), 'Rijswijk': (52.0446265, 4.3188215), 'Koggenland': (52.64758125, 4.952321716593174), 'Kaag en Braassem': (52.193046249999995, 4.621636649034843), 'Moerdijk': (51.66277225, 4.525592262905145), 'Vlissingen': (51.49433865, 3.415005767601362), 'Oirschot': (51.488961599999996, 5.300594979407693), 'Vught': (51.6511806, 5.23680014410728), 'Maashorst': (51.69520705, 5.657493808428191), 'Opsterland': (53.04680105, 6.095135723829035), 'Amersfoort': (52.1562499, 5.3896944), 'Hollands Kroon': (52.875946799999994, 4.965504712047365), 'Papendrecht': (51.834666999999996, 4.704688255674374), 'Staphorst': (52.6368387, 6.208129727382328), 'Waadhoeke': (53.2460054, 5.610797779708593), 'Arnhem': (52.0056642, 5.8762345077641305), 'Leiden': (52.1594747, 4.4908843), 'Wierden': (52.35195215, 6.567448420567358), 'Noordoostpolder': (52.72520455, 5.705372865399351), 'Eindhoven': (51.4392648, 5.478633), 'Veldhoven': (51.4190691, 5.4045572), 'Beuningen': (51.8586611, 5.767357), 'West Betuwe': (51.8697052, 5.1941371524390245), 'Land van Cuijk': (51.6635613, 5.851042081979072), 'Heumen': (51.78111135, 5.824896568483027), 'Utrecht': (52.080985600000005, 5.12768396945229), 'Houten': (52.03061555, 5.161216639426677), 'Utrechtse Heuvelrug': (52.028653649999995, 5.394884269227865), 'Oostzaan': (52.45218065, 4.868548732505015), 'Beverwijk': (52.4876371, 4.6603502), 'Zaanstad': (52.4689235, 4.773783522451712), 'Alkmaar': (52.600853799999996, 4.817099446443963), 'Lansingerland': (52.01101685, 4.507645445233463), 'Vlaardingen': (51.9227863, 4.329563378870851), 'Midden-Delfland': (51.97058165, 4.322980951300874), 'Heemskerk': (52.51011775, 4.635060887073173), 'Dordrecht': (51.7958812, 4.6779351), 'Hoeksche Waard': (51.76743725, 4.435615258877212), 'Zwijndrecht': (51.8162227, 4.6405166), 'Zoetermeer': (52.06228915, 4.487754536970652), 'Heerenveen': (52.998474200000004, 5.923148795038062), 'Sittard-Geleen': (51.0094043, 5.8376057867167965), 'Heerlen': (50.8775239, 5.981506585454879), 'Ouder-Amstel': (52.2946678, 4.91646890749465), 'Peel en Maas': (51.33064175, 5.979363705773345), 'Almelo': (52.3567956, 6.66725277634109), 'Lelystad': (52.536680950000004, 5.361043525412799), 'Almere': (52.44175125, 5.2092943104327585), 'Tynaarlo': (53.11201305, 6.5598426150845), 'Twenterand': (52.439304, 6.635427575044659), 'Wijchen': (51.82025285, 5.696090348571646), 'Vijfheerenlanden': (51.9302055, 5.0495233241373185), 'Ridderkerk': (51.8714812, 4.5999778), 'Barendrecht': (51.85193795, 4.52938352520747), 'Wormerland': (52.505611200000004, 4.859412783877223), 'Alblasserdam': (51.8599524, 4.666202275442476), 'Etten-Leur': (51.5692065, 4.6360813), 'Harderwijk': (52.33599915, 5.640271521392062), 'Diemen': (52.3350493, 4.984282926187014), 'Wassenaar': (52.14361135, 4.370966818678455), 'Albrandswaard': (51.8524269, 4.435285362646326), 'Maasgouw': (51.1577134, 5.894547348825503), 'Maastricht': (50.85798545, 5.6969881818221095), 'Beekdaelen': (50.93449595, 5.88869051100548), 'Meerssen': (50.90470915, 5.735207828646779), 'Leudal': (51.2339148, 5.895853139985457), 'Raalte': (52.3874327, 6.307848238791079), 'Eemnes': (52.2547415, 5.286070995513654), 'De Bilt': (52.1445592, 5.173777333788463), 'Woerden': (52.08701595, 4.876687198673499), 'Zaltbommel': (51.782164, 5.189826737158967), 'Ommen': (52.510346999999996, 6.452424670840507), 'Zwolle': (52.514565250000004, 6.097720359677693), 'Den Helder': (52.9529894, 4.8267592494488), 'Borne': (52.3004342, 6.754922548726859), 'Castricum': (52.558830549999996, 4.639675526200153), 'Waalwijk': (51.687337150000005, 5.017307939950269), 'Son en Breugel': (51.5173136, 5.500838), 'Sluis': (51.32566285, 3.5166308518864264), 'Oss': (51.778354199999995, 5.532083610932192), 'Bodegraven-Reeuwijk': (52.0677553, 4.7575800066386025), 'Gouda': (52.018119350000006, 4.711122134697802), 'Gooise Meren': (52.322224000000006, 5.104556785563771), 'Amstelveen': (52.2862177, 4.852649259746028), 'Hellevoetsluis': (51.833921, 4.1436739), 'Velsen': (52.451910299999994, 4.603891145874141), 'Kampen': (52.5559484, 5.9033303), 'Steenwijkerland': (52.747874100000004, 6.023206628871991), 'Rucphen': (51.5209462, 4.569368236553837), 'Bergen op Zoom': (51.4944756, 4.2871541), 'Enschede': (52.2209855, 6.8940537), 'Oude IJsselstreek': (51.90269995, 6.391753286370878), 'Alphen aan den Rijn': (52.1131403, 4.6408411999450685), 'Meierijstad': (51.58844725, 5.516390104700668), 'Geldrop-Mierlo': (51.43182315, 5.5918099053219965), 'Uitgeest': (52.5303233, 4.7090367), 'Cranendonck': (51.286919, 5.5810952873530475), 'De Ronde Venen': (52.2325145, 4.920240947843794), 'Sliedrecht': (51.8308564, 4.76984303118367), 'Tiel': (51.892425349999996, 5.430438174137935), 'Culemborg': (51.94933145, 5.209215154667634), 'Losser': (52.300289, 6.988104272999393), 'Veenendaal': (52.02320415, 5.551800233162295), 'Waalre': (51.3856734, 5.466115689689311), 'Stichtse Vecht': (52.20301145, 4.994837650454457), 'Beek': (50.926876899999996, 5.810685055558121), 'Bernheze': (51.683532850000006, 5.521242816477055), 'Groningen': (53.2190652, 6.5680077), 'Goeree-Overflakkee': (51.75128625, 4.13576992064659), 'Heusden': (51.6888859, 5.165506991078929), 'Gennep': (51.6950839, 5.9734549), 'Laren': (52.2565894, 5.2251925), 'Zeist': (52.0892832, 5.2276307), 'Leiderdorp': (52.15705765, 4.543378647059756), 'Maasdriel': (51.7853378, 5.316792505584603), 'Valkenburg aan de Geul': (50.86094405, 5.813709999149556), 'Reimerswaal': (51.44300185, 4.101441031156753), 'Boxtel': (51.5890603, 5.315795445406877), 'Westland': (52.0014044, 4.201908937069459), 'Delft': (51.999457199999995, 4.362724538543995), 'Emmen': (52.75286615, 6.952513466208563), 'Leusden': (52.1187668, 5.417118899734083), 'Soest': (52.164475749999994, 5.295725560695609), 'Gorinchem': (51.8421872, 4.974600467260094), 'Midden-Groningen': (53.184673599999996, 6.7795735147296075), 'Hoogeveen': (52.7264258, 6.49308148854467), 'Kapelle': (51.4879711, 3.96063), 'Altena': (51.76974375, 4.943677659330839), 'Halderberge': (51.58976405, 4.513483321011281), 'Roosendaal': (51.5331484, 4.4561276), 'Woensdrecht': (51.4106688, 4.327761012867084), 'Eersel': (51.393329050000006, 5.341352630697114), 'Aa en Hunze': (52.9814393, 6.729452061777957), 'Meppel': (52.711744350000004, 6.197307325163717), 'Schouwen-Duiveland': (51.687435300000004, 3.876619717713044), 'Hardinxveld-Giessendam': (51.83862405, 4.824610423909343), 'Ede': (52.07168255, 5.745510631034939), 'Putten': (52.24773005, 5.57827393798401), 'Hengelo': (52.2658726, 6.7924049), 'Bergen (NH.)': (52.6702278, 4.7011616), 'Zoeterwoude': (52.11718945, 4.503459502079346), 'Beesel': (51.26998845, 6.073401860697201), 'Oldambt': (53.2223408, 7.068982392062174), 'Nunspeet': (52.3372909, 5.795636429005031), 'Veendam': (53.0807517, 6.877303483300453), 'Lingewaard': (51.9074337, 5.9439721314706215), 'Blaricum': (52.281133749999995, 5.29371090566366), 'Medemblik': (52.7907137, 5.16862281678412), 'Assen': (52.9952273, 6.560498), 'Middelburg': (51.4996784, 3.6137371), 'Haaksbergen': (52.1564581, 6.740239), 'Haarlem': (52.3885317, 4.6388048), 'De Wolden': (52.705585049999996, 6.338952403673677), 'Goes': (51.5031033, 3.8897596), 'Someren': (51.38632235, 5.688884477579495), 'Roermond': (51.1933903, 5.9882649), 'Westerveld': (52.828469850000005, 6.311221629926694), 'Stein': (50.9732145, 5.760681940061414), 'Voerendaal': (50.8722592, 5.913755707785212), 'Nieuwegein': (52.0298704, 5.0929333789192395), 'Hilvarenbeek': (51.48698395, 5.146972817481462), 'Schagen': (52.78822125, 4.741356804254988), 'Epe': (52.3270371, 5.9631945020748915), 'Doetinchem': (51.958534799999995, 6.281455126241391), 'Hendrik-Ido-Ambacht': (51.84664995, 4.634280416662918), 'Duiven': (51.9470218, 6.02303247329986), 'Alphen-Chaam': (51.50689565, 4.871359861218567), 'Heeze-Leende': (51.35863595, 5.5779773009269675), 'Nijkerk': (52.214853649999995, 5.478146323965094), 'Renkum': (51.99168495, 5.791692252659134), 'Hellendoorn': (52.39046275, 6.451511548705841), 'Rijssen-Holten': (52.284324850000004, 6.440777380657181), 'Buren': (51.92963705, 5.420000238944224), 'Oldebroek': (52.45673635, 5.951864370961877), 'Eemsdelta': (53.34781255, 6.795656528819859), 'Steenbergen': (51.603292100000004, 4.309251716161476), 'Midden-Drenthe': (52.87061935, 6.568055858657804), 'Zevenaar': (51.927908099999996, 6.077526279085048), 'Heerde': (52.4056303, 6.0413984003658525), 'Hilversum': (52.2241375, 5.1719396), 'Berkelland': (52.10152, 6.618404626883939), 'Bladel': (51.37121075, 5.234630644566941), 'Harlingen': (53.1752103, 5.4141998), 'Baarn': (52.2002549, 5.269143393313942), 'Montferland': (51.92400575, 6.205514601615217), 'Teylingen': (52.21739375, 4.511393222538171), 'Dinkelland': (52.371448799999996, 6.915066619316923), 'Deurne': (51.4281834, 5.828106871124028), 'Oldenzaal': (52.30853685, 6.914603743122237), 'Voorst': (52.2374112, 6.086274393475191), 'Capelle aan den IJssel': (51.9312552, 4.5883596), 'Coevorden': (52.6612281, 6.7407359), 'Heiloo': (52.60192475, 4.70503175175436), 'Bunnik': (52.039151849999996, 5.220319799249577), 'Veere': (51.55640385, 3.577269355747127), 'Rheden': (52.03136695, 6.060504296329905), 'Ermelo': (52.2858356, 5.654938589920705), 'Lisse': (52.2540183, 4.541928029675811), 'Bunschoten': (52.2391743, 5.3734101), 'Oegstgeest': (52.1833669, 4.472129402976295), 'Zeewolde': (52.3451194, 5.4580775473608565), 'Brielle': (51.901662, 4.1626292), 'Elburg': (52.415659149999996, 5.841321708557087), 'Edam-Volendam': (52.54861165, 5.0266156034337826), 'Drimmelen': (51.69768865, 4.743934177567655), 'Dronten': (52.531389649999994, 5.750631211201343), 'Huizen': (52.296484449999994, 5.240582040690262), 'Tytsjerksteradiel': (53.20512135, 5.973447146507526), 'Valkenswaard': (51.3202409, 5.458181897733282), 'Oisterwijk': (51.56610775, 5.198644959051684), 'Hardenberg': (52.56982145, 6.633166913313982), 'Noord-Beveland': (51.56520675, 3.8009095733783114), 'Woudenberg': (52.08025955, 5.4122265761644925), 'Molenlanden': (51.891504350000005, 4.836502624912571), 'Dalfsen': (52.51178365, 6.256636721854065), 'Hulst': (51.33154005, 4.087702848747496), 'Zandvoort': (52.3713394, 4.5307624), 'Tholen': (51.57085015, 4.076142821673509), 'IJsselstein': (52.026205250000004, 5.028685923229064), 'Katwijk': (52.2005078, 4.4146372), 'Voorburg': (52.0703201, 4.3558561), 'Mook en Middelaar': (51.74830635, 5.906406373368311), 'Scherpenzeel': (52.0795901, 5.4904134), 'Brunssum': (50.9431108, 5.9705675), 'Weesp': (52.3072593, 5.0420822), 'Borger-Odoorn': (52.9000925, 6.8821614819282875), 'Goirle': (51.5056266, 5.033774070783131), 'Grave': (51.7596504, 5.7411125), 'Reusel-De Mierden': (51.37099705, 5.1468666691668705), 'Noordenveld': (53.0945705, 6.4209724500257455), 'Vaals': (50.7781016, 5.981067967268041), 'Achtkarspelen': (53.207516749999996, 6.150763705175438), 'Loppersum': (53.3320144, 6.7469502), 'Gulpen-Wittem': (50.79962605, 5.890529675273097), 'Bronckhorst': (52.0529087, 6.269274781349422), 'Hoorn': (52.653272, 5.0735802), 'Eijsden-Margraten': (50.80499415, 5.768281669696572)}\n"
     ]
    }
   ],
   "source": [
    "import requests\n",
    "from time import sleep\n",
    "from requests.adapters import HTTPAdapter\n",
    "from requests.packages.urllib3.util.retry import Retry\n",
    "\n",
    "def get_coordinates(municipality_name, country=\"Netherlands\", max_retries=3, backoff_factor=0.3):\n",
    "    base_url = \"https://nominatim.openstreetmap.org/search\"\n",
    "    params = {\n",
    "        'q': f'{municipality_name}, {country}',\n",
    "        'format': 'json',\n",
    "        'limit': 1\n",
    "    }\n",
    "    \n",
    "    session = requests.Session()\n",
    "    retry = Retry(total=max_retries, backoff_factor=backoff_factor)\n",
    "    adapter = HTTPAdapter(max_retries=retry)\n",
    "    session.mount('http://', adapter)\n",
    "    session.mount('https://', adapter)\n",
    "    session.headers.update({'User-Agent': 'YourAppName/1.0'})  # Add your User-Agent here\n",
    "\n",
    "    try:\n",
    "        response = session.get(base_url, params=params, timeout=10)\n",
    "        response.raise_for_status()\n",
    "        data = response.json()\n",
    "        if data:\n",
    "            lat = float(data[0]['lat'])\n",
    "            lon = float(data[0]['lon'])\n",
    "            return lat, lon\n",
    "    except requests.exceptions.RequestException as e:\n",
    "        print(f\"Error fetching data for {municipality_name}: {e}\")\n",
    "    return None\n",
    "\n",
    "\n",
    "# Sample municipalities\n",
    "municipalities = [\n",
    "    \"Amsterdam\", \"Tilburg\", \"'s-Hertogenbosch\", \"Súdwest-Fryslân\", \"Smallingerland\", \n",
    "    \"Westerkwartier\", \"Oost Gelre\", \"Roerdalen\", \"Horst aan de Maas\", \"Venlo\",\n",
    "    \"Breda\", \"Terneuzen\", \"Best\", \"Waddinxveen\", \"Weststellingwerf\",\n",
    "    \"De Fryske Marren\", \"Leeuwarden\", \"Apeldoorn\", \"Barneveld\", \"Hattem\",\n",
    "    \"Gilze en Rijen\", \"Rotterdam\", \"Schiedam\", \"Oosterhout\", \"Geertruidenberg\",\n",
    "    \"Venray\", \"Neder-Betuwe\", \"Deventer\", \"Overbetuwe\", \"Nijmegen\",\n",
    "    \"Purmerend\", \"Zuidplas\", \"'s-Gravenhage\", \"Leidschendam-Voorburg\", \"Weert\",\n",
    "    \"Echt-Susteren\", \"Haarlemmermeer\", \"Rijswijk\", \"Koggenland\", \"Kaag en Braassem\",\n",
    "    \"Moerdijk\", \"Vlissingen\", \"Oirschot\", \"Vught\", \"Maashorst\", \n",
    "    \"Opsterland\", \"Amersfoort\", \"Hollands Kroon\", \"Papendrecht\", \"Staphorst\",\n",
    "    \"Waadhoeke\", \"Arnhem\", \"Leiden\", \"Wierden\", \"Noordoostpolder\", \n",
    "    \"Eindhoven\", \"Veldhoven\", \"Beuningen\", \"West Betuwe\", \"Land van Cuijk\",\n",
    "    \"Heumen\", \"Utrecht\", \"Houten\", \"Utrechtse Heuvelrug\", \"Oostzaan\",\n",
    "    \"Beverwijk\", \"Zaanstad\", \"Alkmaar\", \"Lansingerland\", \"Vlaardingen\",\n",
    "    \"Midden-Delfland\", \"Heemskerk\", \"Dordrecht\", \"Hoeksche Waard\", \"Zwijndrecht\",\n",
    "    \"Zoetermeer\", \"Heerenveen\", \"Sittard-Geleen\", \"Heerlen\", \"Ouder-Amstel\",\n",
    "    \"Peel en Maas\", \"Almelo\", \"Lelystad\", \"Almere\", \"Tynaarlo\",\n",
    "    \"Twenterand\", \"Wijchen\", \"Vijfheerenlanden\", \"Ridderkerk\", \"Barendrecht\",\n",
    "    \"Wormerland\", \"Alblasserdam\", \"Etten-Leur\", \"Harderwijk\", \"Diemen\",\n",
    "    \"Wassenaar\", \"Albrandswaard\", \"Maasgouw\", \"Maastricht\", \"Beekdaelen\",\n",
    "    \"Meerssen\", \"Leudal\", \"Raalte\", \"Eemnes\", \"De Bilt\",\n",
    "    \"Woerden\", \"Zaltbommel\", \"Ommen\", \"Zwolle\", \"Den Helder\",\n",
    "    \"Borne\", \"Castricum\", \"Waalwijk\", \"Son en Breugel\", \"Sluis\",\n",
    "    \"Oss\", \"Bodegraven-Reeuwijk\", \"Gouda\", \"Gooise Meren\", \"Amstelveen\",\n",
    "    \"Hellevoetsluis\", \"Velsen\", \"Kampen\", \"Steenwijkerland\", \"Rucphen\",\n",
    "    \"Bergen op Zoom\", \"Enschede\", \"Oude IJsselstreek\", \"Alphen aan den Rijn\", \"Meierijstad\",\n",
    "    \"Geldrop-Mierlo\", \"Uitgeest\", \"Cranendonck\", \"De Ronde Venen\", \"Sliedrecht\",\n",
    "    \"Tiel\", \"Culemborg\", \"Losser\", \"Veenendaal\", \"Waalre\",\n",
    "    \"Stichtse Vecht\", \"Beek\", \"Bernheze\", \"Groningen\", \"Goeree-Overflakkee\",\n",
    "    \"Heusden\", \"Gennep\", \"Laren\", \"Zeist\", \"Leiderdorp\",\n",
    "    \"Maasdriel\", \"Valkenburg aan de Geul\", \"Reimerswaal\", \"Boxtel\", \"Westland\",\n",
    "    \"Delft\", \"Emmen\", \"Leusden\", \"Soest\", \"Gorinchem\",\n",
    "    \"Midden-Groningen\", \"Hoogeveen\", \"Kapelle\", \"Altena\", \"Halderberge\",\n",
    "    \"Roosendaal\", \"Woensdrecht\", \"Eersel\", \"Aa en Hunze\", \"Meppel\",\n",
    "    \"Schouwen-Duiveland\", \"Hardinxveld-Giessendam\", \"Ede\", \"Putten\", \"Hengelo\",\n",
    "    \"Bergen (NH.)\", \"Zoeterwoude\", \"Beesel\", \"Oldambt\", \"Nunspeet\",\n",
    "    \"Veendam\", \"Lingewaard\", \"Blaricum\", \"Medemblik\", \"Assen\",\n",
    "    \"Middelburg\", \"Haaksbergen\", \"Haarlem\", \"De Wolden\", \"Goes\",\n",
    "    \"Someren\", \"Roermond\", \"Westerveld\", \"Stein\", \"Voerendaal\",\n",
    "    \"Nieuwegein\", \"Hilvarenbeek\", \"Schagen\", \"Epe\", \"Doetinchem\",\n",
    "    \"Hendrik-Ido-Ambacht\", \"Duiven\", \"Alphen-Chaam\", \"Heeze-Leende\", \"Nijkerk\",\n",
    "    \"Renkum\", \"Hellendoorn\", \"Rijssen-Holten\", \"Buren\", \"Oldebroek\",\n",
    "    \"Eemsdelta\", \"Steenbergen\", \"Midden-Drenthe\", \"Zevenaar\", \"Heerde\",\n",
    "    \"Hilversum\", \"Berkelland\", \"Bladel\", \"Harlingen\", \"Baarn\",\n",
    "    \"Montferland\", \"Teylingen\", \"Dinkelland\", \"Deurne\", \"Oldenzaal\",\n",
    "    \"Voorst\", \"Capelle aan den IJssel\", \"Coevorden\", \"Heiloo\", \"Bunnik\",\n",
    "    \"Veere\", \"Rheden\", \"Ermelo\", \"Lisse\", \"Bunschoten\",\n",
    "    \"Oegstgeest\", \"Zeewolde\", \"Brielle\", \"Elburg\", \"Edam-Volendam\",\n",
    "    \"Drimmelen\", \"Dronten\", \"Huizen\", \"Tytsjerksteradiel\", \"Valkenswaard\",\n",
    "    \"Oisterwijk\", \"Hardenberg\", \"Noord-Beveland\", \"Woudenberg\", \"Molenlanden\",\n",
    "    \"Dalfsen\", \"Hulst\", \"Zandvoort\", \"Tholen\", \"IJsselstein\",\n",
    "    \"Katwijk\", \"Voorburg\", \"Mook en Middelaar\", \"Scherpenzeel\", \"Brunssum\",\n",
    "    \"Weesp\", \"Borger-Odoorn\", \"Goirle\", \"Grave\", \"Reusel-De Mierden\",\n",
    "    \"Noordenveld\", \"Vaals\", \"Achtkarspelen\", \"Loppersum\", \"Gulpen-Wittem\",\n",
    "    \"Bronckhorst\", \"Hoorn\", \"Eijsden-Margraten\"\n",
    "]\n",
    "\n",
    "# Replace this list with all 253 municipalities\n",
    "municipality_coords = {}\n",
    "\n",
    "for municipality in municipalities:\n",
    "    sleep(1)  # To comply with rate limiting\n",
    "    coords = get_coordinates(municipality)\n",
    "    if coords:\n",
    "        municipality_coords[municipality] = coords\n",
    "\n",
    "print(municipality_coords)\n"
   ]
  },
  {
   "cell_type": "markdown",
   "metadata": {},
   "source": [
    "### 3.1.3 Visual (Graphical) Representation of Traffic Incidents by Municipality in the Netherlands"
   ]
  },
  {
   "cell_type": "markdown",
   "metadata": {},
   "source": [
    "This analysis explores the distribution and frequency of accidents within The Netherland's municipalities. Data visualization techniques are employed to offer a lucid and informative perspective on traffic safety. The ensuing charts and heatmaps provide insight into the areas with the most reported accidents, pinpointing regions that might require enhanced traffic safety interventions. Such visual data representation not only clarifies the present road safety conditions in the Netherlands but also acts as a valuable resource for policymakers and public safety officials striving to address and reduce traffic-related issues."
   ]
  },
  {
   "cell_type": "code",
   "execution_count": 29,
   "metadata": {},
   "outputs": [
    {
     "data": {
      "application/vnd.plotly.v1+json": {
       "config": {
        "plotlyServerURL": "https://plot.ly"
       },
       "data": [
        {
         "coloraxis": "coloraxis",
         "hovertemplate": "<b>%{hovertext}</b><br><br>num_accidents=%{z}<br>latitude=%{lat}<br>longitude=%{lon}<extra></extra>",
         "hovertext": [
          "'s-Gravenhage",
          "'s-Hertogenbosch",
          "Aa en Hunze",
          "Alblasserdam",
          "Albrandswaard",
          "Alkmaar",
          "Almelo",
          "Almere",
          "Alphen aan den Rijn",
          "Alphen-Chaam",
          "Altena",
          "Amersfoort",
          "Amstelveen",
          "Amsterdam",
          "Apeldoorn",
          "Arnhem",
          "Assen",
          "Baarn",
          "Barendrecht",
          "Barneveld",
          "Beek",
          "Beekdaelen",
          "Beesel",
          "Bergen (NH.)",
          "Bergen op Zoom",
          "Berkelland",
          "Bernheze",
          "Best",
          "Beuningen",
          "Beverwijk",
          "Bladel",
          "Blaricum",
          "Bodegraven-Reeuwijk",
          "Borne",
          "Boxtel",
          "Breda",
          "Brielle",
          "Bunnik",
          "Bunschoten",
          "Buren",
          "Capelle aan den IJssel",
          "Castricum",
          "Coevorden",
          "Cranendonck",
          "Culemborg",
          "De Bilt",
          "De Fryske Marren",
          "De Ronde Venen",
          "De Wolden",
          "Delft",
          "Den Helder",
          "Deurne",
          "Deventer",
          "Diemen",
          "Dinkelland",
          "Doetinchem",
          "Dordrecht",
          "Drimmelen",
          "Dronten",
          "Duiven",
          "Echt-Susteren",
          "Edam-Volendam",
          "Ede",
          "Eemnes",
          "Eemsdelta",
          "Eersel",
          "Eijsden-Margraten",
          "Eindhoven",
          "Elburg",
          "Emmen",
          "Enschede",
          "Epe",
          "Ermelo",
          "Etten-Leur",
          "Geertruidenberg",
          "Geldrop-Mierlo",
          "Gennep",
          "Gilze en Rijen",
          "Goeree-Overflakkee",
          "Goes",
          "Gooise Meren",
          "Gorinchem",
          "Gouda",
          "Groningen",
          "Haaksbergen",
          "Haarlem",
          "Haarlemmermeer",
          "Halderberge",
          "Hardenberg",
          "Harderwijk",
          "Hardinxveld-Giessendam",
          "Harlingen",
          "Hattem",
          "Heemskerk",
          "Heerde",
          "Heerenveen",
          "Heerlen",
          "Heeze-Leende",
          "Heiloo",
          "Hellendoorn",
          "Hellevoetsluis",
          "Hendrik-Ido-Ambacht",
          "Hengelo",
          "Heumen",
          "Heusden",
          "Hilvarenbeek",
          "Hilversum",
          "Hoeksche Waard",
          "Hollands Kroon",
          "Hoogeveen",
          "Horst aan de Maas",
          "Houten",
          "Huizen",
          "Kaag en Braassem",
          "Kampen",
          "Kapelle",
          "Koggenland",
          "Land van Cuijk",
          "Lansingerland",
          "Laren",
          "Leeuwarden",
          "Leiden",
          "Leiderdorp",
          "Leidschendam-Voorburg",
          "Lelystad",
          "Leudal",
          "Leusden",
          "Lingewaard",
          "Lisse",
          "Losser",
          "Maasdriel",
          "Maasgouw",
          "Maashorst",
          "Maastricht",
          "Medemblik",
          "Meerssen",
          "Meierijstad",
          "Meppel",
          "Middelburg",
          "Midden-Delfland",
          "Midden-Drenthe",
          "Midden-Groningen",
          "Moerdijk",
          "Molenlanden",
          "Montferland",
          "Neder-Betuwe",
          "Nieuwegein",
          "Nijkerk",
          "Nijmegen",
          "Noord-Beveland",
          "Noordoostpolder",
          "Nunspeet",
          "Oegstgeest",
          "Oirschot",
          "Oisterwijk",
          "Oldambt",
          "Oldebroek",
          "Oldenzaal",
          "Ommen",
          "Oost Gelre",
          "Oosterhout",
          "Oostzaan",
          "Opsterland",
          "Oss",
          "Oude IJsselstreek",
          "Ouder-Amstel",
          "Overbetuwe",
          "Papendrecht",
          "Peel en Maas",
          "Purmerend",
          "Putten",
          "Raalte",
          "Reimerswaal",
          "Renkum",
          "Rheden",
          "Ridderkerk",
          "Rijssen-Holten",
          "Rijswijk",
          "Roerdalen",
          "Roermond",
          "Roosendaal",
          "Rotterdam",
          "Rucphen",
          "Schagen",
          "Schiedam",
          "Schouwen-Duiveland",
          "Sittard-Geleen",
          "Sliedrecht",
          "Sluis",
          "Smallingerland",
          "Soest",
          "Someren",
          "Son en Breugel",
          "Staphorst",
          "Steenbergen",
          "Steenwijkerland",
          "Stein",
          "Stichtse Vecht",
          "Súdwest-Fryslân",
          "Terneuzen",
          "Teylingen",
          "Tiel",
          "Tilburg",
          "Twenterand",
          "Tynaarlo",
          "Tytsjerksteradiel",
          "Uitgeest",
          "Utrecht",
          "Utrechtse Heuvelrug",
          "Valkenburg aan de Geul",
          "Valkenswaard",
          "Veendam",
          "Veenendaal",
          "Veere",
          "Veldhoven",
          "Velsen",
          "Venlo",
          "Venray",
          "Vijfheerenlanden",
          "Vlaardingen",
          "Vlissingen",
          "Voerendaal",
          "Voorst",
          "Vught",
          "Waadhoeke",
          "Waalre",
          "Waalwijk",
          "Waddinxveen",
          "Wassenaar",
          "Weert",
          "West Betuwe",
          "Westerkwartier",
          "Westerveld",
          "Westland",
          "Weststellingwerf",
          "Wierden",
          "Wijchen",
          "Woensdrecht",
          "Woerden",
          "Wormerland",
          "Woudenberg",
          "Zaanstad",
          "Zaltbommel",
          "Zeewolde",
          "Zeist",
          "Zevenaar",
          "Zoetermeer",
          "Zoeterwoude",
          "Zuidplas",
          "Zwijndrecht",
          "Zwolle"
         ],
         "lat": [
          52.07494555,
          51.6889387,
          52.9814393,
          51.8599524,
          51.8524269,
          52.600853799999996,
          52.3567956,
          52.44175125,
          52.1131403,
          51.50689565,
          51.76974375,
          52.1562499,
          52.2862177,
          52.3730796,
          52.17957375,
          52.0056642,
          52.9952273,
          52.2002549,
          51.85193795,
          52.17150665,
          50.926876899999996,
          50.93449595,
          51.26998845,
          52.6702278,
          51.4944756,
          52.10152,
          51.683532850000006,
          51.5033671,
          51.8586611,
          52.4876371,
          51.37121075,
          52.281133749999995,
          52.0677553,
          52.3004342,
          51.5890603,
          51.5887845,
          51.901662,
          52.039151849999996,
          52.2391743,
          51.92963705,
          51.9312552,
          52.558830549999996,
          52.6612281,
          51.286919,
          51.94933145,
          52.1445592,
          52.9118448,
          52.2325145,
          52.705585049999996,
          51.999457199999995,
          52.9529894,
          51.4281834,
          52.2695736,
          52.3350493,
          52.371448799999996,
          51.958534799999995,
          51.7958812,
          51.69768865,
          52.531389649999994,
          51.9470218,
          51.082135199999996,
          52.54861165,
          52.07168255,
          52.2547415,
          53.34781255,
          51.393329050000006,
          50.80499415,
          51.4392648,
          52.415659149999996,
          52.75286615,
          52.2209855,
          52.3270371,
          52.2858356,
          51.5692065,
          51.6961662,
          51.43182315,
          51.6950839,
          51.56323905,
          51.75128625,
          51.5031033,
          52.322224000000006,
          51.8421872,
          52.018119350000006,
          53.2190652,
          52.1564581,
          52.3885317,
          52.3238421,
          51.58976405,
          52.56982145,
          52.33599915,
          51.83862405,
          53.1752103,
          52.476711699999996,
          52.51011775,
          52.4056303,
          52.998474200000004,
          50.8775239,
          51.35863595,
          52.60192475,
          52.39046275,
          51.833921,
          51.84664995,
          52.2658726,
          51.78111135,
          51.6888859,
          51.48698395,
          52.2241375,
          51.76743725,
          52.875946799999994,
          52.7264258,
          51.4515953,
          52.03061555,
          52.296484449999994,
          52.193046249999995,
          52.5559484,
          51.4879711,
          52.64758125,
          51.6635613,
          52.01101685,
          52.2565894,
          53.2005936,
          52.1594747,
          52.15705765,
          52.09260105,
          52.536680950000004,
          51.2339148,
          52.1187668,
          51.9074337,
          52.2540183,
          52.300289,
          51.7853378,
          51.1577134,
          51.69520705,
          50.85798545,
          52.7907137,
          50.90470915,
          51.58844725,
          52.711744350000004,
          51.4996784,
          51.97058165,
          52.87061935,
          53.184673599999996,
          51.66277225,
          51.891504350000005,
          51.92400575,
          51.92150995,
          52.0298704,
          52.214853649999995,
          51.842574850000005,
          51.56520675,
          52.72520455,
          52.3372909,
          52.1833669,
          51.488961599999996,
          51.56610775,
          53.2223408,
          52.45673635,
          52.30853685,
          52.510346999999996,
          52.0153031,
          51.632237599999996,
          52.45218065,
          53.04680105,
          51.778354199999995,
          51.90269995,
          52.2946678,
          51.921961249999995,
          51.834666999999996,
          51.33064175,
          52.5024789,
          52.24773005,
          52.3874327,
          51.44300185,
          51.99168495,
          52.03136695,
          51.8714812,
          52.284324850000004,
          52.0446265,
          51.1454691,
          51.1933903,
          51.5331484,
          51.9244424,
          51.5209462,
          52.78822125,
          51.9300454,
          51.687435300000004,
          51.0094043,
          51.8308564,
          51.32566285,
          53.11525265,
          52.164475749999994,
          51.38632235,
          51.5173136,
          52.6368387,
          51.603292100000004,
          52.747874100000004,
          50.9732145,
          52.20301145,
          52.974832649999996,
          51.29884295,
          52.21739375,
          51.892425349999996,
          51.58561845,
          52.439304,
          53.11201305,
          53.20512135,
          52.5303233,
          52.080985600000005,
          52.028653649999995,
          50.86094405,
          51.3202409,
          53.0807517,
          52.02320415,
          51.55640385,
          51.4190691,
          52.451910299999994,
          51.39244885,
          51.5082754,
          51.9302055,
          51.9227863,
          51.49433865,
          50.8722592,
          52.2374112,
          51.6511806,
          53.2460054,
          51.3856734,
          51.687337150000005,
          52.0443437,
          52.14361135,
          51.235582949999994,
          51.8697052,
          53.21425645,
          52.828469850000005,
          52.0014044,
          52.87191835,
          52.35195215,
          51.82025285,
          51.4106688,
          52.08701595,
          52.505611200000004,
          52.08025955,
          52.4689235,
          51.782164,
          52.3451194,
          52.0892832,
          51.927908099999996,
          52.06228915,
          52.11718945,
          51.9995787,
          51.8162227,
          52.514565250000004
         ],
         "lon": [
          4.2696802205364515,
          5.303116,
          6.729452061777957,
          4.666202275442476,
          4.435285362646326,
          4.817099446443963,
          6.66725277634109,
          5.2092943104327585,
          4.6408411999450685,
          4.871359861218567,
          4.943677659330839,
          5.3896944,
          4.852649259746028,
          4.8924534,
          5.930077460807249,
          5.8762345077641305,
          6.560498,
          5.269143393313942,
          4.52938352520747,
          5.645439299954028,
          5.810685055558121,
          5.88869051100548,
          6.073401860697201,
          4.7011616,
          4.2871541,
          6.618404626883939,
          5.521242816477055,
          5.3938665,
          5.767357,
          4.6603502,
          5.234630644566941,
          5.29371090566366,
          4.7575800066386025,
          6.754922548726859,
          5.315795445406877,
          4.7760237,
          4.1626292,
          5.220319799249577,
          5.3734101,
          5.420000238944224,
          4.5883596,
          4.639675526200153,
          6.7407359,
          5.5810952873530475,
          5.209215154667634,
          5.173777333788463,
          5.713876378916552,
          4.920240947843794,
          6.338952403673677,
          4.362724538543995,
          4.8267592494488,
          5.828106871124028,
          6.236339604766698,
          4.984282926187014,
          6.915066619316923,
          6.281455126241391,
          4.6779351,
          4.743934177567655,
          5.750631211201343,
          6.02303247329986,
          5.899125547533698,
          5.0266156034337826,
          5.745510631034939,
          5.286070995513654,
          6.795656528819859,
          5.341352630697114,
          5.768281669696572,
          5.478633,
          5.841321708557087,
          6.952513466208563,
          6.8940537,
          5.9631945020748915,
          5.654938589920705,
          4.6360813,
          4.877843805275408,
          5.5918099053219965,
          5.9734549,
          4.913039391005126,
          4.13576992064659,
          3.8897596,
          5.104556785563771,
          4.974600467260094,
          4.711122134697802,
          6.5680077,
          6.740239,
          4.6388048,
          4.715261248876009,
          4.513483321011281,
          6.633166913313982,
          5.640271521392062,
          4.824610423909343,
          5.4141998,
          6.061913261141655,
          4.635060887073173,
          6.0413984003658525,
          5.923148795038062,
          5.981506585454879,
          5.5779773009269675,
          4.70503175175436,
          6.451511548705841,
          4.1436739,
          4.634280416662918,
          6.7924049,
          5.824896568483027,
          5.165506991078929,
          5.146972817481462,
          5.1719396,
          4.435615258877212,
          4.965504712047365,
          6.49308148854467,
          6.030898893223135,
          5.161216639426677,
          5.240582040690262,
          4.621636649034843,
          5.9033303,
          3.96063,
          4.952321716593174,
          5.851042081979072,
          4.507645445233463,
          5.2251925,
          5.7918548,
          4.4908843,
          4.543378647059756,
          4.4321249720751625,
          5.361043525412799,
          5.895853139985457,
          5.417118899734083,
          5.9439721314706215,
          4.541928029675811,
          6.988104272999393,
          5.316792505584603,
          5.894547348825503,
          5.657493808428191,
          5.6969881818221095,
          5.16862281678412,
          5.735207828646779,
          5.516390104700668,
          6.197307325163717,
          3.6137371,
          4.322980951300874,
          6.568055858657804,
          6.7795735147296075,
          4.525592262905145,
          4.836502624912571,
          6.205514601615217,
          5.616123265710504,
          5.0929333789192395,
          5.478146323965094,
          5.838960628748229,
          3.8009095733783114,
          5.705372865399351,
          5.795636429005031,
          4.472129402976295,
          5.300594979407693,
          5.198644959051684,
          7.068982392062174,
          5.951864370961877,
          6.914603743122237,
          6.452424670840507,
          6.561010327461534,
          4.863042417836681,
          4.868548732505015,
          6.095135723829035,
          5.532083610932192,
          6.391753286370878,
          4.91646890749465,
          5.786081524088322,
          4.704688255674374,
          5.979363705773345,
          4.9614827,
          5.57827393798401,
          6.307848238791079,
          4.101441031156753,
          5.791692252659134,
          6.060504296329905,
          4.5999778,
          6.440777380657181,
          4.3188215,
          6.034390914431709,
          5.9882649,
          4.4561276,
          4.47775,
          4.569368236553837,
          4.741356804254988,
          4.386451052615731,
          3.876619717713044,
          5.8376057867167965,
          4.76984303118367,
          3.5166308518864264,
          6.050738915587699,
          5.295725560695609,
          5.688884477579495,
          5.500838,
          6.208129727382328,
          4.309251716161476,
          6.023206628871991,
          5.760681940061414,
          4.994837650454457,
          5.436073892467922,
          3.8422043956030683,
          4.511393222538171,
          5.430438174137935,
          5.0660616131367675,
          6.635427575044659,
          6.5598426150845,
          5.973447146507526,
          4.7090367,
          5.12768396945229,
          5.394884269227865,
          5.813709999149556,
          5.458181897733282,
          6.877303483300453,
          5.551800233162295,
          3.577269355747127,
          5.4045572,
          4.603891145874141,
          6.1511724144122955,
          5.958901096612693,
          5.0495233241373185,
          4.329563378870851,
          3.415005767601362,
          5.913755707785212,
          6.086274393475191,
          5.23680014410728,
          5.610797779708593,
          5.466115689689311,
          5.017307939950269,
          4.641596120380745,
          4.370966818678455,
          5.705079711646853,
          5.1941371524390245,
          6.3459813379440115,
          6.311221629926694,
          4.201908937069459,
          6.008674359652279,
          6.567448420567358,
          5.696090348571646,
          4.327761012867084,
          4.876687198673499,
          4.859412783877223,
          5.4122265761644925,
          4.773783522451712,
          5.189826737158967,
          5.4580775473608565,
          5.2276307,
          6.077526279085048,
          4.487754536970652,
          4.503459502079346,
          4.613450887425165,
          4.6405166,
          6.097720359677693
         ],
         "name": "",
         "radius": 10,
         "subplot": "mapbox",
         "type": "densitymapbox",
         "z": [
          127,
          117,
          21,
          20,
          3,
          28,
          20,
          63,
          23,
          3,
          39,
          79,
          13,
          419,
          104,
          84,
          19,
          8,
          55,
          83,
          22,
          22,
          4,
          9,
          40,
          3,
          14,
          27,
          27,
          14,
          9,
          4,
          44,
          34,
          13,
          149,
          7,
          15,
          1,
          2,
          6,
          9,
          13,
          20,
          10,
          9,
          39,
          13,
          21,
          33,
          11,
          9,
          21,
          33,
          7,
          8,
          58,
          4,
          4,
          33,
          34,
          1,
          31,
          21,
          12,
          19,
          2,
          146,
          4,
          7,
          40,
          19,
          12,
          22,
          53,
          19,
          3,
          18,
          34,
          15,
          46,
          31,
          3,
          98,
          5,
          4,
          246,
          12,
          7,
          30,
          34,
          5,
          29,
          10,
          12,
          45,
          21,
          14,
          11,
          17,
          14,
          14,
          32,
          7,
          25,
          1,
          6,
          36,
          29,
          37,
          14,
          15,
          5,
          28,
          28,
          5,
          32,
          41,
          12,
          21,
          26,
          58,
          14,
          72,
          36,
          14,
          5,
          5,
          1,
          11,
          13,
          18,
          26,
          37,
          15,
          10,
          43,
          18,
          12,
          74,
          21,
          40,
          88,
          5,
          3,
          34,
          43,
          15,
          20,
          1,
          29,
          18,
          4,
          34,
          9,
          18,
          11,
          4,
          17,
          22,
          45,
          29,
          23,
          21,
          21,
          82,
          28,
          43,
          16,
          36,
          13,
          27,
          25,
          10,
          5,
          68,
          18,
          56,
          4,
          15,
          39,
          543,
          21,
          12,
          84,
          22,
          83,
          18,
          8,
          53,
          4,
          9,
          26,
          27,
          8,
          10,
          7,
          40,
          49,
          10,
          13,
          28,
          65,
          12,
          9,
          3,
          9,
          157,
          28,
          7,
          1,
          10,
          7,
          2,
          15,
          64,
          108,
          11,
          59,
          24,
          10,
          5,
          15,
          34,
          21,
          10,
          42,
          38,
          27,
          30,
          86,
          20,
          5,
          9,
          15,
          20,
          12,
          12,
          24,
          19,
          1,
          44,
          22,
          1,
          9,
          20,
          36,
          8,
          59,
          13,
          54
         ]
        }
       ],
       "layout": {
        "coloraxis": {
         "colorbar": {
          "title": {
           "text": "num_accidents"
          }
         },
         "colorscale": [
          [
           0,
           "#0d0887"
          ],
          [
           0.1111111111111111,
           "#46039f"
          ],
          [
           0.2222222222222222,
           "#7201a8"
          ],
          [
           0.3333333333333333,
           "#9c179e"
          ],
          [
           0.4444444444444444,
           "#bd3786"
          ],
          [
           0.5555555555555556,
           "#d8576b"
          ],
          [
           0.6666666666666666,
           "#ed7953"
          ],
          [
           0.7777777777777778,
           "#fb9f3a"
          ],
          [
           0.8888888888888888,
           "#fdca26"
          ],
          [
           1,
           "#f0f921"
          ]
         ]
        },
        "legend": {
         "tracegroupgap": 0
        },
        "mapbox": {
         "accesstoken": "YOUR_MAPBOX_TOKEN",
         "center": {
          "lat": 52.3,
          "lon": 5.5
         },
         "domain": {
          "x": [
           0,
           1
          ],
          "y": [
           0,
           1
          ]
         },
         "style": "carto-positron",
         "zoom": 6
        },
        "template": {
         "data": {
          "bar": [
           {
            "error_x": {
             "color": "#2a3f5f"
            },
            "error_y": {
             "color": "#2a3f5f"
            },
            "marker": {
             "line": {
              "color": "#E5ECF6",
              "width": 0.5
             },
             "pattern": {
              "fillmode": "overlay",
              "size": 10,
              "solidity": 0.2
             }
            },
            "type": "bar"
           }
          ],
          "barpolar": [
           {
            "marker": {
             "line": {
              "color": "#E5ECF6",
              "width": 0.5
             },
             "pattern": {
              "fillmode": "overlay",
              "size": 10,
              "solidity": 0.2
             }
            },
            "type": "barpolar"
           }
          ],
          "carpet": [
           {
            "aaxis": {
             "endlinecolor": "#2a3f5f",
             "gridcolor": "white",
             "linecolor": "white",
             "minorgridcolor": "white",
             "startlinecolor": "#2a3f5f"
            },
            "baxis": {
             "endlinecolor": "#2a3f5f",
             "gridcolor": "white",
             "linecolor": "white",
             "minorgridcolor": "white",
             "startlinecolor": "#2a3f5f"
            },
            "type": "carpet"
           }
          ],
          "choropleth": [
           {
            "colorbar": {
             "outlinewidth": 0,
             "ticks": ""
            },
            "type": "choropleth"
           }
          ],
          "contour": [
           {
            "colorbar": {
             "outlinewidth": 0,
             "ticks": ""
            },
            "colorscale": [
             [
              0,
              "#0d0887"
             ],
             [
              0.1111111111111111,
              "#46039f"
             ],
             [
              0.2222222222222222,
              "#7201a8"
             ],
             [
              0.3333333333333333,
              "#9c179e"
             ],
             [
              0.4444444444444444,
              "#bd3786"
             ],
             [
              0.5555555555555556,
              "#d8576b"
             ],
             [
              0.6666666666666666,
              "#ed7953"
             ],
             [
              0.7777777777777778,
              "#fb9f3a"
             ],
             [
              0.8888888888888888,
              "#fdca26"
             ],
             [
              1,
              "#f0f921"
             ]
            ],
            "type": "contour"
           }
          ],
          "contourcarpet": [
           {
            "colorbar": {
             "outlinewidth": 0,
             "ticks": ""
            },
            "type": "contourcarpet"
           }
          ],
          "heatmap": [
           {
            "colorbar": {
             "outlinewidth": 0,
             "ticks": ""
            },
            "colorscale": [
             [
              0,
              "#0d0887"
             ],
             [
              0.1111111111111111,
              "#46039f"
             ],
             [
              0.2222222222222222,
              "#7201a8"
             ],
             [
              0.3333333333333333,
              "#9c179e"
             ],
             [
              0.4444444444444444,
              "#bd3786"
             ],
             [
              0.5555555555555556,
              "#d8576b"
             ],
             [
              0.6666666666666666,
              "#ed7953"
             ],
             [
              0.7777777777777778,
              "#fb9f3a"
             ],
             [
              0.8888888888888888,
              "#fdca26"
             ],
             [
              1,
              "#f0f921"
             ]
            ],
            "type": "heatmap"
           }
          ],
          "heatmapgl": [
           {
            "colorbar": {
             "outlinewidth": 0,
             "ticks": ""
            },
            "colorscale": [
             [
              0,
              "#0d0887"
             ],
             [
              0.1111111111111111,
              "#46039f"
             ],
             [
              0.2222222222222222,
              "#7201a8"
             ],
             [
              0.3333333333333333,
              "#9c179e"
             ],
             [
              0.4444444444444444,
              "#bd3786"
             ],
             [
              0.5555555555555556,
              "#d8576b"
             ],
             [
              0.6666666666666666,
              "#ed7953"
             ],
             [
              0.7777777777777778,
              "#fb9f3a"
             ],
             [
              0.8888888888888888,
              "#fdca26"
             ],
             [
              1,
              "#f0f921"
             ]
            ],
            "type": "heatmapgl"
           }
          ],
          "histogram": [
           {
            "marker": {
             "pattern": {
              "fillmode": "overlay",
              "size": 10,
              "solidity": 0.2
             }
            },
            "type": "histogram"
           }
          ],
          "histogram2d": [
           {
            "colorbar": {
             "outlinewidth": 0,
             "ticks": ""
            },
            "colorscale": [
             [
              0,
              "#0d0887"
             ],
             [
              0.1111111111111111,
              "#46039f"
             ],
             [
              0.2222222222222222,
              "#7201a8"
             ],
             [
              0.3333333333333333,
              "#9c179e"
             ],
             [
              0.4444444444444444,
              "#bd3786"
             ],
             [
              0.5555555555555556,
              "#d8576b"
             ],
             [
              0.6666666666666666,
              "#ed7953"
             ],
             [
              0.7777777777777778,
              "#fb9f3a"
             ],
             [
              0.8888888888888888,
              "#fdca26"
             ],
             [
              1,
              "#f0f921"
             ]
            ],
            "type": "histogram2d"
           }
          ],
          "histogram2dcontour": [
           {
            "colorbar": {
             "outlinewidth": 0,
             "ticks": ""
            },
            "colorscale": [
             [
              0,
              "#0d0887"
             ],
             [
              0.1111111111111111,
              "#46039f"
             ],
             [
              0.2222222222222222,
              "#7201a8"
             ],
             [
              0.3333333333333333,
              "#9c179e"
             ],
             [
              0.4444444444444444,
              "#bd3786"
             ],
             [
              0.5555555555555556,
              "#d8576b"
             ],
             [
              0.6666666666666666,
              "#ed7953"
             ],
             [
              0.7777777777777778,
              "#fb9f3a"
             ],
             [
              0.8888888888888888,
              "#fdca26"
             ],
             [
              1,
              "#f0f921"
             ]
            ],
            "type": "histogram2dcontour"
           }
          ],
          "mesh3d": [
           {
            "colorbar": {
             "outlinewidth": 0,
             "ticks": ""
            },
            "type": "mesh3d"
           }
          ],
          "parcoords": [
           {
            "line": {
             "colorbar": {
              "outlinewidth": 0,
              "ticks": ""
             }
            },
            "type": "parcoords"
           }
          ],
          "pie": [
           {
            "automargin": true,
            "type": "pie"
           }
          ],
          "scatter": [
           {
            "fillpattern": {
             "fillmode": "overlay",
             "size": 10,
             "solidity": 0.2
            },
            "type": "scatter"
           }
          ],
          "scatter3d": [
           {
            "line": {
             "colorbar": {
              "outlinewidth": 0,
              "ticks": ""
             }
            },
            "marker": {
             "colorbar": {
              "outlinewidth": 0,
              "ticks": ""
             }
            },
            "type": "scatter3d"
           }
          ],
          "scattercarpet": [
           {
            "marker": {
             "colorbar": {
              "outlinewidth": 0,
              "ticks": ""
             }
            },
            "type": "scattercarpet"
           }
          ],
          "scattergeo": [
           {
            "marker": {
             "colorbar": {
              "outlinewidth": 0,
              "ticks": ""
             }
            },
            "type": "scattergeo"
           }
          ],
          "scattergl": [
           {
            "marker": {
             "colorbar": {
              "outlinewidth": 0,
              "ticks": ""
             }
            },
            "type": "scattergl"
           }
          ],
          "scattermapbox": [
           {
            "marker": {
             "colorbar": {
              "outlinewidth": 0,
              "ticks": ""
             }
            },
            "type": "scattermapbox"
           }
          ],
          "scatterpolar": [
           {
            "marker": {
             "colorbar": {
              "outlinewidth": 0,
              "ticks": ""
             }
            },
            "type": "scatterpolar"
           }
          ],
          "scatterpolargl": [
           {
            "marker": {
             "colorbar": {
              "outlinewidth": 0,
              "ticks": ""
             }
            },
            "type": "scatterpolargl"
           }
          ],
          "scatterternary": [
           {
            "marker": {
             "colorbar": {
              "outlinewidth": 0,
              "ticks": ""
             }
            },
            "type": "scatterternary"
           }
          ],
          "surface": [
           {
            "colorbar": {
             "outlinewidth": 0,
             "ticks": ""
            },
            "colorscale": [
             [
              0,
              "#0d0887"
             ],
             [
              0.1111111111111111,
              "#46039f"
             ],
             [
              0.2222222222222222,
              "#7201a8"
             ],
             [
              0.3333333333333333,
              "#9c179e"
             ],
             [
              0.4444444444444444,
              "#bd3786"
             ],
             [
              0.5555555555555556,
              "#d8576b"
             ],
             [
              0.6666666666666666,
              "#ed7953"
             ],
             [
              0.7777777777777778,
              "#fb9f3a"
             ],
             [
              0.8888888888888888,
              "#fdca26"
             ],
             [
              1,
              "#f0f921"
             ]
            ],
            "type": "surface"
           }
          ],
          "table": [
           {
            "cells": {
             "fill": {
              "color": "#EBF0F8"
             },
             "line": {
              "color": "white"
             }
            },
            "header": {
             "fill": {
              "color": "#C8D4E3"
             },
             "line": {
              "color": "white"
             }
            },
            "type": "table"
           }
          ]
         },
         "layout": {
          "annotationdefaults": {
           "arrowcolor": "#2a3f5f",
           "arrowhead": 0,
           "arrowwidth": 1
          },
          "autotypenumbers": "strict",
          "coloraxis": {
           "colorbar": {
            "outlinewidth": 0,
            "ticks": ""
           }
          },
          "colorscale": {
           "diverging": [
            [
             0,
             "#8e0152"
            ],
            [
             0.1,
             "#c51b7d"
            ],
            [
             0.2,
             "#de77ae"
            ],
            [
             0.3,
             "#f1b6da"
            ],
            [
             0.4,
             "#fde0ef"
            ],
            [
             0.5,
             "#f7f7f7"
            ],
            [
             0.6,
             "#e6f5d0"
            ],
            [
             0.7,
             "#b8e186"
            ],
            [
             0.8,
             "#7fbc41"
            ],
            [
             0.9,
             "#4d9221"
            ],
            [
             1,
             "#276419"
            ]
           ],
           "sequential": [
            [
             0,
             "#0d0887"
            ],
            [
             0.1111111111111111,
             "#46039f"
            ],
            [
             0.2222222222222222,
             "#7201a8"
            ],
            [
             0.3333333333333333,
             "#9c179e"
            ],
            [
             0.4444444444444444,
             "#bd3786"
            ],
            [
             0.5555555555555556,
             "#d8576b"
            ],
            [
             0.6666666666666666,
             "#ed7953"
            ],
            [
             0.7777777777777778,
             "#fb9f3a"
            ],
            [
             0.8888888888888888,
             "#fdca26"
            ],
            [
             1,
             "#f0f921"
            ]
           ],
           "sequentialminus": [
            [
             0,
             "#0d0887"
            ],
            [
             0.1111111111111111,
             "#46039f"
            ],
            [
             0.2222222222222222,
             "#7201a8"
            ],
            [
             0.3333333333333333,
             "#9c179e"
            ],
            [
             0.4444444444444444,
             "#bd3786"
            ],
            [
             0.5555555555555556,
             "#d8576b"
            ],
            [
             0.6666666666666666,
             "#ed7953"
            ],
            [
             0.7777777777777778,
             "#fb9f3a"
            ],
            [
             0.8888888888888888,
             "#fdca26"
            ],
            [
             1,
             "#f0f921"
            ]
           ]
          },
          "colorway": [
           "#636efa",
           "#EF553B",
           "#00cc96",
           "#ab63fa",
           "#FFA15A",
           "#19d3f3",
           "#FF6692",
           "#B6E880",
           "#FF97FF",
           "#FECB52"
          ],
          "font": {
           "color": "#2a3f5f"
          },
          "geo": {
           "bgcolor": "white",
           "lakecolor": "white",
           "landcolor": "#E5ECF6",
           "showlakes": true,
           "showland": true,
           "subunitcolor": "white"
          },
          "hoverlabel": {
           "align": "left"
          },
          "hovermode": "closest",
          "mapbox": {
           "style": "light"
          },
          "paper_bgcolor": "white",
          "plot_bgcolor": "#E5ECF6",
          "polar": {
           "angularaxis": {
            "gridcolor": "white",
            "linecolor": "white",
            "ticks": ""
           },
           "bgcolor": "#E5ECF6",
           "radialaxis": {
            "gridcolor": "white",
            "linecolor": "white",
            "ticks": ""
           }
          },
          "scene": {
           "xaxis": {
            "backgroundcolor": "#E5ECF6",
            "gridcolor": "white",
            "gridwidth": 2,
            "linecolor": "white",
            "showbackground": true,
            "ticks": "",
            "zerolinecolor": "white"
           },
           "yaxis": {
            "backgroundcolor": "#E5ECF6",
            "gridcolor": "white",
            "gridwidth": 2,
            "linecolor": "white",
            "showbackground": true,
            "ticks": "",
            "zerolinecolor": "white"
           },
           "zaxis": {
            "backgroundcolor": "#E5ECF6",
            "gridcolor": "white",
            "gridwidth": 2,
            "linecolor": "white",
            "showbackground": true,
            "ticks": "",
            "zerolinecolor": "white"
           }
          },
          "shapedefaults": {
           "line": {
            "color": "#2a3f5f"
           }
          },
          "ternary": {
           "aaxis": {
            "gridcolor": "white",
            "linecolor": "white",
            "ticks": ""
           },
           "baxis": {
            "gridcolor": "white",
            "linecolor": "white",
            "ticks": ""
           },
           "bgcolor": "#E5ECF6",
           "caxis": {
            "gridcolor": "white",
            "linecolor": "white",
            "ticks": ""
           }
          },
          "title": {
           "x": 0.05
          },
          "xaxis": {
           "automargin": true,
           "gridcolor": "white",
           "linecolor": "white",
           "ticks": "",
           "title": {
            "standoff": 15
           },
           "zerolinecolor": "white",
           "zerolinewidth": 2
          },
          "yaxis": {
           "automargin": true,
           "gridcolor": "white",
           "linecolor": "white",
           "ticks": "",
           "title": {
            "standoff": 15
           },
           "zerolinecolor": "white",
           "zerolinewidth": 2
          }
         }
        },
        "title": {
         "text": "Number of Accidents by Municipality"
        }
       }
      },
      "text/html": [
       "<div>                            <div id=\"44c4fa99-c445-406c-ac74-dc7718fc3e3f\" class=\"plotly-graph-div\" style=\"height:525px; width:100%;\"></div>            <script type=\"text/javascript\">                require([\"plotly\"], function(Plotly) {                    window.PLOTLYENV=window.PLOTLYENV || {};                                    if (document.getElementById(\"44c4fa99-c445-406c-ac74-dc7718fc3e3f\")) {                    Plotly.newPlot(                        \"44c4fa99-c445-406c-ac74-dc7718fc3e3f\",                        [{\"coloraxis\":\"coloraxis\",\"hovertemplate\":\"\\u003cb\\u003e%{hovertext}\\u003c\\u002fb\\u003e\\u003cbr\\u003e\\u003cbr\\u003enum_accidents=%{z}\\u003cbr\\u003elatitude=%{lat}\\u003cbr\\u003elongitude=%{lon}\\u003cextra\\u003e\\u003c\\u002fextra\\u003e\",\"hovertext\":[\"'s-Gravenhage\",\"'s-Hertogenbosch\",\"Aa en Hunze\",\"Alblasserdam\",\"Albrandswaard\",\"Alkmaar\",\"Almelo\",\"Almere\",\"Alphen aan den Rijn\",\"Alphen-Chaam\",\"Altena\",\"Amersfoort\",\"Amstelveen\",\"Amsterdam\",\"Apeldoorn\",\"Arnhem\",\"Assen\",\"Baarn\",\"Barendrecht\",\"Barneveld\",\"Beek\",\"Beekdaelen\",\"Beesel\",\"Bergen (NH.)\",\"Bergen op Zoom\",\"Berkelland\",\"Bernheze\",\"Best\",\"Beuningen\",\"Beverwijk\",\"Bladel\",\"Blaricum\",\"Bodegraven-Reeuwijk\",\"Borne\",\"Boxtel\",\"Breda\",\"Brielle\",\"Bunnik\",\"Bunschoten\",\"Buren\",\"Capelle aan den IJssel\",\"Castricum\",\"Coevorden\",\"Cranendonck\",\"Culemborg\",\"De Bilt\",\"De Fryske Marren\",\"De Ronde Venen\",\"De Wolden\",\"Delft\",\"Den Helder\",\"Deurne\",\"Deventer\",\"Diemen\",\"Dinkelland\",\"Doetinchem\",\"Dordrecht\",\"Drimmelen\",\"Dronten\",\"Duiven\",\"Echt-Susteren\",\"Edam-Volendam\",\"Ede\",\"Eemnes\",\"Eemsdelta\",\"Eersel\",\"Eijsden-Margraten\",\"Eindhoven\",\"Elburg\",\"Emmen\",\"Enschede\",\"Epe\",\"Ermelo\",\"Etten-Leur\",\"Geertruidenberg\",\"Geldrop-Mierlo\",\"Gennep\",\"Gilze en Rijen\",\"Goeree-Overflakkee\",\"Goes\",\"Gooise Meren\",\"Gorinchem\",\"Gouda\",\"Groningen\",\"Haaksbergen\",\"Haarlem\",\"Haarlemmermeer\",\"Halderberge\",\"Hardenberg\",\"Harderwijk\",\"Hardinxveld-Giessendam\",\"Harlingen\",\"Hattem\",\"Heemskerk\",\"Heerde\",\"Heerenveen\",\"Heerlen\",\"Heeze-Leende\",\"Heiloo\",\"Hellendoorn\",\"Hellevoetsluis\",\"Hendrik-Ido-Ambacht\",\"Hengelo\",\"Heumen\",\"Heusden\",\"Hilvarenbeek\",\"Hilversum\",\"Hoeksche Waard\",\"Hollands Kroon\",\"Hoogeveen\",\"Horst aan de Maas\",\"Houten\",\"Huizen\",\"Kaag en Braassem\",\"Kampen\",\"Kapelle\",\"Koggenland\",\"Land van Cuijk\",\"Lansingerland\",\"Laren\",\"Leeuwarden\",\"Leiden\",\"Leiderdorp\",\"Leidschendam-Voorburg\",\"Lelystad\",\"Leudal\",\"Leusden\",\"Lingewaard\",\"Lisse\",\"Losser\",\"Maasdriel\",\"Maasgouw\",\"Maashorst\",\"Maastricht\",\"Medemblik\",\"Meerssen\",\"Meierijstad\",\"Meppel\",\"Middelburg\",\"Midden-Delfland\",\"Midden-Drenthe\",\"Midden-Groningen\",\"Moerdijk\",\"Molenlanden\",\"Montferland\",\"Neder-Betuwe\",\"Nieuwegein\",\"Nijkerk\",\"Nijmegen\",\"Noord-Beveland\",\"Noordoostpolder\",\"Nunspeet\",\"Oegstgeest\",\"Oirschot\",\"Oisterwijk\",\"Oldambt\",\"Oldebroek\",\"Oldenzaal\",\"Ommen\",\"Oost Gelre\",\"Oosterhout\",\"Oostzaan\",\"Opsterland\",\"Oss\",\"Oude IJsselstreek\",\"Ouder-Amstel\",\"Overbetuwe\",\"Papendrecht\",\"Peel en Maas\",\"Purmerend\",\"Putten\",\"Raalte\",\"Reimerswaal\",\"Renkum\",\"Rheden\",\"Ridderkerk\",\"Rijssen-Holten\",\"Rijswijk\",\"Roerdalen\",\"Roermond\",\"Roosendaal\",\"Rotterdam\",\"Rucphen\",\"Schagen\",\"Schiedam\",\"Schouwen-Duiveland\",\"Sittard-Geleen\",\"Sliedrecht\",\"Sluis\",\"Smallingerland\",\"Soest\",\"Someren\",\"Son en Breugel\",\"Staphorst\",\"Steenbergen\",\"Steenwijkerland\",\"Stein\",\"Stichtse Vecht\",\"S\\u00fadwest-Frysl\\u00e2n\",\"Terneuzen\",\"Teylingen\",\"Tiel\",\"Tilburg\",\"Twenterand\",\"Tynaarlo\",\"Tytsjerksteradiel\",\"Uitgeest\",\"Utrecht\",\"Utrechtse Heuvelrug\",\"Valkenburg aan de Geul\",\"Valkenswaard\",\"Veendam\",\"Veenendaal\",\"Veere\",\"Veldhoven\",\"Velsen\",\"Venlo\",\"Venray\",\"Vijfheerenlanden\",\"Vlaardingen\",\"Vlissingen\",\"Voerendaal\",\"Voorst\",\"Vught\",\"Waadhoeke\",\"Waalre\",\"Waalwijk\",\"Waddinxveen\",\"Wassenaar\",\"Weert\",\"West Betuwe\",\"Westerkwartier\",\"Westerveld\",\"Westland\",\"Weststellingwerf\",\"Wierden\",\"Wijchen\",\"Woensdrecht\",\"Woerden\",\"Wormerland\",\"Woudenberg\",\"Zaanstad\",\"Zaltbommel\",\"Zeewolde\",\"Zeist\",\"Zevenaar\",\"Zoetermeer\",\"Zoeterwoude\",\"Zuidplas\",\"Zwijndrecht\",\"Zwolle\"],\"lat\":[52.07494555,51.6889387,52.9814393,51.8599524,51.8524269,52.600853799999996,52.3567956,52.44175125,52.1131403,51.50689565,51.76974375,52.1562499,52.2862177,52.3730796,52.17957375,52.0056642,52.9952273,52.2002549,51.85193795,52.17150665,50.926876899999996,50.93449595,51.26998845,52.6702278,51.4944756,52.10152,51.683532850000006,51.5033671,51.8586611,52.4876371,51.37121075,52.281133749999995,52.0677553,52.3004342,51.5890603,51.5887845,51.901662,52.039151849999996,52.2391743,51.92963705,51.9312552,52.558830549999996,52.6612281,51.286919,51.94933145,52.1445592,52.9118448,52.2325145,52.705585049999996,51.999457199999995,52.9529894,51.4281834,52.2695736,52.3350493,52.371448799999996,51.958534799999995,51.7958812,51.69768865,52.531389649999994,51.9470218,51.082135199999996,52.54861165,52.07168255,52.2547415,53.34781255,51.393329050000006,50.80499415,51.4392648,52.415659149999996,52.75286615,52.2209855,52.3270371,52.2858356,51.5692065,51.6961662,51.43182315,51.6950839,51.56323905,51.75128625,51.5031033,52.322224000000006,51.8421872,52.018119350000006,53.2190652,52.1564581,52.3885317,52.3238421,51.58976405,52.56982145,52.33599915,51.83862405,53.1752103,52.476711699999996,52.51011775,52.4056303,52.998474200000004,50.8775239,51.35863595,52.60192475,52.39046275,51.833921,51.84664995,52.2658726,51.78111135,51.6888859,51.48698395,52.2241375,51.76743725,52.875946799999994,52.7264258,51.4515953,52.03061555,52.296484449999994,52.193046249999995,52.5559484,51.4879711,52.64758125,51.6635613,52.01101685,52.2565894,53.2005936,52.1594747,52.15705765,52.09260105,52.536680950000004,51.2339148,52.1187668,51.9074337,52.2540183,52.300289,51.7853378,51.1577134,51.69520705,50.85798545,52.7907137,50.90470915,51.58844725,52.711744350000004,51.4996784,51.97058165,52.87061935,53.184673599999996,51.66277225,51.891504350000005,51.92400575,51.92150995,52.0298704,52.214853649999995,51.842574850000005,51.56520675,52.72520455,52.3372909,52.1833669,51.488961599999996,51.56610775,53.2223408,52.45673635,52.30853685,52.510346999999996,52.0153031,51.632237599999996,52.45218065,53.04680105,51.778354199999995,51.90269995,52.2946678,51.921961249999995,51.834666999999996,51.33064175,52.5024789,52.24773005,52.3874327,51.44300185,51.99168495,52.03136695,51.8714812,52.284324850000004,52.0446265,51.1454691,51.1933903,51.5331484,51.9244424,51.5209462,52.78822125,51.9300454,51.687435300000004,51.0094043,51.8308564,51.32566285,53.11525265,52.164475749999994,51.38632235,51.5173136,52.6368387,51.603292100000004,52.747874100000004,50.9732145,52.20301145,52.974832649999996,51.29884295,52.21739375,51.892425349999996,51.58561845,52.439304,53.11201305,53.20512135,52.5303233,52.080985600000005,52.028653649999995,50.86094405,51.3202409,53.0807517,52.02320415,51.55640385,51.4190691,52.451910299999994,51.39244885,51.5082754,51.9302055,51.9227863,51.49433865,50.8722592,52.2374112,51.6511806,53.2460054,51.3856734,51.687337150000005,52.0443437,52.14361135,51.235582949999994,51.8697052,53.21425645,52.828469850000005,52.0014044,52.87191835,52.35195215,51.82025285,51.4106688,52.08701595,52.505611200000004,52.08025955,52.4689235,51.782164,52.3451194,52.0892832,51.927908099999996,52.06228915,52.11718945,51.9995787,51.8162227,52.514565250000004],\"lon\":[4.2696802205364515,5.303116,6.729452061777957,4.666202275442476,4.435285362646326,4.817099446443963,6.66725277634109,5.2092943104327585,4.6408411999450685,4.871359861218567,4.943677659330839,5.3896944,4.852649259746028,4.8924534,5.930077460807249,5.8762345077641305,6.560498,5.269143393313942,4.52938352520747,5.645439299954028,5.810685055558121,5.88869051100548,6.073401860697201,4.7011616,4.2871541,6.618404626883939,5.521242816477055,5.3938665,5.767357,4.6603502,5.234630644566941,5.29371090566366,4.7575800066386025,6.754922548726859,5.315795445406877,4.7760237,4.1626292,5.220319799249577,5.3734101,5.420000238944224,4.5883596,4.639675526200153,6.7407359,5.5810952873530475,5.209215154667634,5.173777333788463,5.713876378916552,4.920240947843794,6.338952403673677,4.362724538543995,4.8267592494488,5.828106871124028,6.236339604766698,4.984282926187014,6.915066619316923,6.281455126241391,4.6779351,4.743934177567655,5.750631211201343,6.02303247329986,5.899125547533698,5.0266156034337826,5.745510631034939,5.286070995513654,6.795656528819859,5.341352630697114,5.768281669696572,5.478633,5.841321708557087,6.952513466208563,6.8940537,5.9631945020748915,5.654938589920705,4.6360813,4.877843805275408,5.5918099053219965,5.9734549,4.913039391005126,4.13576992064659,3.8897596,5.104556785563771,4.974600467260094,4.711122134697802,6.5680077,6.740239,4.6388048,4.715261248876009,4.513483321011281,6.633166913313982,5.640271521392062,4.824610423909343,5.4141998,6.061913261141655,4.635060887073173,6.0413984003658525,5.923148795038062,5.981506585454879,5.5779773009269675,4.70503175175436,6.451511548705841,4.1436739,4.634280416662918,6.7924049,5.824896568483027,5.165506991078929,5.146972817481462,5.1719396,4.435615258877212,4.965504712047365,6.49308148854467,6.030898893223135,5.161216639426677,5.240582040690262,4.621636649034843,5.9033303,3.96063,4.952321716593174,5.851042081979072,4.507645445233463,5.2251925,5.7918548,4.4908843,4.543378647059756,4.4321249720751625,5.361043525412799,5.895853139985457,5.417118899734083,5.9439721314706215,4.541928029675811,6.988104272999393,5.316792505584603,5.894547348825503,5.657493808428191,5.6969881818221095,5.16862281678412,5.735207828646779,5.516390104700668,6.197307325163717,3.6137371,4.322980951300874,6.568055858657804,6.7795735147296075,4.525592262905145,4.836502624912571,6.205514601615217,5.616123265710504,5.0929333789192395,5.478146323965094,5.838960628748229,3.8009095733783114,5.705372865399351,5.795636429005031,4.472129402976295,5.300594979407693,5.198644959051684,7.068982392062174,5.951864370961877,6.914603743122237,6.452424670840507,6.561010327461534,4.863042417836681,4.868548732505015,6.095135723829035,5.532083610932192,6.391753286370878,4.91646890749465,5.786081524088322,4.704688255674374,5.979363705773345,4.9614827,5.57827393798401,6.307848238791079,4.101441031156753,5.791692252659134,6.060504296329905,4.5999778,6.440777380657181,4.3188215,6.034390914431709,5.9882649,4.4561276,4.47775,4.569368236553837,4.741356804254988,4.386451052615731,3.876619717713044,5.8376057867167965,4.76984303118367,3.5166308518864264,6.050738915587699,5.295725560695609,5.688884477579495,5.500838,6.208129727382328,4.309251716161476,6.023206628871991,5.760681940061414,4.994837650454457,5.436073892467922,3.8422043956030683,4.511393222538171,5.430438174137935,5.0660616131367675,6.635427575044659,6.5598426150845,5.973447146507526,4.7090367,5.12768396945229,5.394884269227865,5.813709999149556,5.458181897733282,6.877303483300453,5.551800233162295,3.577269355747127,5.4045572,4.603891145874141,6.1511724144122955,5.958901096612693,5.0495233241373185,4.329563378870851,3.415005767601362,5.913755707785212,6.086274393475191,5.23680014410728,5.610797779708593,5.466115689689311,5.017307939950269,4.641596120380745,4.370966818678455,5.705079711646853,5.1941371524390245,6.3459813379440115,6.311221629926694,4.201908937069459,6.008674359652279,6.567448420567358,5.696090348571646,4.327761012867084,4.876687198673499,4.859412783877223,5.4122265761644925,4.773783522451712,5.189826737158967,5.4580775473608565,5.2276307,6.077526279085048,4.487754536970652,4.503459502079346,4.613450887425165,4.6405166,6.097720359677693],\"name\":\"\",\"radius\":10,\"subplot\":\"mapbox\",\"z\":[127,117,21,20,3,28,20,63,23,3,39,79,13,419,104,84,19,8,55,83,22,22,4,9,40,3,14,27,27,14,9,4,44,34,13,149,7,15,1,2,6,9,13,20,10,9,39,13,21,33,11,9,21,33,7,8,58,4,4,33,34,1,31,21,12,19,2,146,4,7,40,19,12,22,53,19,3,18,34,15,46,31,3,98,5,4,246,12,7,30,34,5,29,10,12,45,21,14,11,17,14,14,32,7,25,1,6,36,29,37,14,15,5,28,28,5,32,41,12,21,26,58,14,72,36,14,5,5,1,11,13,18,26,37,15,10,43,18,12,74,21,40,88,5,3,34,43,15,20,1,29,18,4,34,9,18,11,4,17,22,45,29,23,21,21,82,28,43,16,36,13,27,25,10,5,68,18,56,4,15,39,543,21,12,84,22,83,18,8,53,4,9,26,27,8,10,7,40,49,10,13,28,65,12,9,3,9,157,28,7,1,10,7,2,15,64,108,11,59,24,10,5,15,34,21,10,42,38,27,30,86,20,5,9,15,20,12,12,24,19,1,44,22,1,9,20,36,8,59,13,54],\"type\":\"densitymapbox\"}],                        {\"template\":{\"data\":{\"histogram2dcontour\":[{\"type\":\"histogram2dcontour\",\"colorbar\":{\"outlinewidth\":0,\"ticks\":\"\"},\"colorscale\":[[0.0,\"#0d0887\"],[0.1111111111111111,\"#46039f\"],[0.2222222222222222,\"#7201a8\"],[0.3333333333333333,\"#9c179e\"],[0.4444444444444444,\"#bd3786\"],[0.5555555555555556,\"#d8576b\"],[0.6666666666666666,\"#ed7953\"],[0.7777777777777778,\"#fb9f3a\"],[0.8888888888888888,\"#fdca26\"],[1.0,\"#f0f921\"]]}],\"choropleth\":[{\"type\":\"choropleth\",\"colorbar\":{\"outlinewidth\":0,\"ticks\":\"\"}}],\"histogram2d\":[{\"type\":\"histogram2d\",\"colorbar\":{\"outlinewidth\":0,\"ticks\":\"\"},\"colorscale\":[[0.0,\"#0d0887\"],[0.1111111111111111,\"#46039f\"],[0.2222222222222222,\"#7201a8\"],[0.3333333333333333,\"#9c179e\"],[0.4444444444444444,\"#bd3786\"],[0.5555555555555556,\"#d8576b\"],[0.6666666666666666,\"#ed7953\"],[0.7777777777777778,\"#fb9f3a\"],[0.8888888888888888,\"#fdca26\"],[1.0,\"#f0f921\"]]}],\"heatmap\":[{\"type\":\"heatmap\",\"colorbar\":{\"outlinewidth\":0,\"ticks\":\"\"},\"colorscale\":[[0.0,\"#0d0887\"],[0.1111111111111111,\"#46039f\"],[0.2222222222222222,\"#7201a8\"],[0.3333333333333333,\"#9c179e\"],[0.4444444444444444,\"#bd3786\"],[0.5555555555555556,\"#d8576b\"],[0.6666666666666666,\"#ed7953\"],[0.7777777777777778,\"#fb9f3a\"],[0.8888888888888888,\"#fdca26\"],[1.0,\"#f0f921\"]]}],\"heatmapgl\":[{\"type\":\"heatmapgl\",\"colorbar\":{\"outlinewidth\":0,\"ticks\":\"\"},\"colorscale\":[[0.0,\"#0d0887\"],[0.1111111111111111,\"#46039f\"],[0.2222222222222222,\"#7201a8\"],[0.3333333333333333,\"#9c179e\"],[0.4444444444444444,\"#bd3786\"],[0.5555555555555556,\"#d8576b\"],[0.6666666666666666,\"#ed7953\"],[0.7777777777777778,\"#fb9f3a\"],[0.8888888888888888,\"#fdca26\"],[1.0,\"#f0f921\"]]}],\"contourcarpet\":[{\"type\":\"contourcarpet\",\"colorbar\":{\"outlinewidth\":0,\"ticks\":\"\"}}],\"contour\":[{\"type\":\"contour\",\"colorbar\":{\"outlinewidth\":0,\"ticks\":\"\"},\"colorscale\":[[0.0,\"#0d0887\"],[0.1111111111111111,\"#46039f\"],[0.2222222222222222,\"#7201a8\"],[0.3333333333333333,\"#9c179e\"],[0.4444444444444444,\"#bd3786\"],[0.5555555555555556,\"#d8576b\"],[0.6666666666666666,\"#ed7953\"],[0.7777777777777778,\"#fb9f3a\"],[0.8888888888888888,\"#fdca26\"],[1.0,\"#f0f921\"]]}],\"surface\":[{\"type\":\"surface\",\"colorbar\":{\"outlinewidth\":0,\"ticks\":\"\"},\"colorscale\":[[0.0,\"#0d0887\"],[0.1111111111111111,\"#46039f\"],[0.2222222222222222,\"#7201a8\"],[0.3333333333333333,\"#9c179e\"],[0.4444444444444444,\"#bd3786\"],[0.5555555555555556,\"#d8576b\"],[0.6666666666666666,\"#ed7953\"],[0.7777777777777778,\"#fb9f3a\"],[0.8888888888888888,\"#fdca26\"],[1.0,\"#f0f921\"]]}],\"mesh3d\":[{\"type\":\"mesh3d\",\"colorbar\":{\"outlinewidth\":0,\"ticks\":\"\"}}],\"scatter\":[{\"fillpattern\":{\"fillmode\":\"overlay\",\"size\":10,\"solidity\":0.2},\"type\":\"scatter\"}],\"parcoords\":[{\"type\":\"parcoords\",\"line\":{\"colorbar\":{\"outlinewidth\":0,\"ticks\":\"\"}}}],\"scatterpolargl\":[{\"type\":\"scatterpolargl\",\"marker\":{\"colorbar\":{\"outlinewidth\":0,\"ticks\":\"\"}}}],\"bar\":[{\"error_x\":{\"color\":\"#2a3f5f\"},\"error_y\":{\"color\":\"#2a3f5f\"},\"marker\":{\"line\":{\"color\":\"#E5ECF6\",\"width\":0.5},\"pattern\":{\"fillmode\":\"overlay\",\"size\":10,\"solidity\":0.2}},\"type\":\"bar\"}],\"scattergeo\":[{\"type\":\"scattergeo\",\"marker\":{\"colorbar\":{\"outlinewidth\":0,\"ticks\":\"\"}}}],\"scatterpolar\":[{\"type\":\"scatterpolar\",\"marker\":{\"colorbar\":{\"outlinewidth\":0,\"ticks\":\"\"}}}],\"histogram\":[{\"marker\":{\"pattern\":{\"fillmode\":\"overlay\",\"size\":10,\"solidity\":0.2}},\"type\":\"histogram\"}],\"scattergl\":[{\"type\":\"scattergl\",\"marker\":{\"colorbar\":{\"outlinewidth\":0,\"ticks\":\"\"}}}],\"scatter3d\":[{\"type\":\"scatter3d\",\"line\":{\"colorbar\":{\"outlinewidth\":0,\"ticks\":\"\"}},\"marker\":{\"colorbar\":{\"outlinewidth\":0,\"ticks\":\"\"}}}],\"scattermapbox\":[{\"type\":\"scattermapbox\",\"marker\":{\"colorbar\":{\"outlinewidth\":0,\"ticks\":\"\"}}}],\"scatterternary\":[{\"type\":\"scatterternary\",\"marker\":{\"colorbar\":{\"outlinewidth\":0,\"ticks\":\"\"}}}],\"scattercarpet\":[{\"type\":\"scattercarpet\",\"marker\":{\"colorbar\":{\"outlinewidth\":0,\"ticks\":\"\"}}}],\"carpet\":[{\"aaxis\":{\"endlinecolor\":\"#2a3f5f\",\"gridcolor\":\"white\",\"linecolor\":\"white\",\"minorgridcolor\":\"white\",\"startlinecolor\":\"#2a3f5f\"},\"baxis\":{\"endlinecolor\":\"#2a3f5f\",\"gridcolor\":\"white\",\"linecolor\":\"white\",\"minorgridcolor\":\"white\",\"startlinecolor\":\"#2a3f5f\"},\"type\":\"carpet\"}],\"table\":[{\"cells\":{\"fill\":{\"color\":\"#EBF0F8\"},\"line\":{\"color\":\"white\"}},\"header\":{\"fill\":{\"color\":\"#C8D4E3\"},\"line\":{\"color\":\"white\"}},\"type\":\"table\"}],\"barpolar\":[{\"marker\":{\"line\":{\"color\":\"#E5ECF6\",\"width\":0.5},\"pattern\":{\"fillmode\":\"overlay\",\"size\":10,\"solidity\":0.2}},\"type\":\"barpolar\"}],\"pie\":[{\"automargin\":true,\"type\":\"pie\"}]},\"layout\":{\"autotypenumbers\":\"strict\",\"colorway\":[\"#636efa\",\"#EF553B\",\"#00cc96\",\"#ab63fa\",\"#FFA15A\",\"#19d3f3\",\"#FF6692\",\"#B6E880\",\"#FF97FF\",\"#FECB52\"],\"font\":{\"color\":\"#2a3f5f\"},\"hovermode\":\"closest\",\"hoverlabel\":{\"align\":\"left\"},\"paper_bgcolor\":\"white\",\"plot_bgcolor\":\"#E5ECF6\",\"polar\":{\"bgcolor\":\"#E5ECF6\",\"angularaxis\":{\"gridcolor\":\"white\",\"linecolor\":\"white\",\"ticks\":\"\"},\"radialaxis\":{\"gridcolor\":\"white\",\"linecolor\":\"white\",\"ticks\":\"\"}},\"ternary\":{\"bgcolor\":\"#E5ECF6\",\"aaxis\":{\"gridcolor\":\"white\",\"linecolor\":\"white\",\"ticks\":\"\"},\"baxis\":{\"gridcolor\":\"white\",\"linecolor\":\"white\",\"ticks\":\"\"},\"caxis\":{\"gridcolor\":\"white\",\"linecolor\":\"white\",\"ticks\":\"\"}},\"coloraxis\":{\"colorbar\":{\"outlinewidth\":0,\"ticks\":\"\"}},\"colorscale\":{\"sequential\":[[0.0,\"#0d0887\"],[0.1111111111111111,\"#46039f\"],[0.2222222222222222,\"#7201a8\"],[0.3333333333333333,\"#9c179e\"],[0.4444444444444444,\"#bd3786\"],[0.5555555555555556,\"#d8576b\"],[0.6666666666666666,\"#ed7953\"],[0.7777777777777778,\"#fb9f3a\"],[0.8888888888888888,\"#fdca26\"],[1.0,\"#f0f921\"]],\"sequentialminus\":[[0.0,\"#0d0887\"],[0.1111111111111111,\"#46039f\"],[0.2222222222222222,\"#7201a8\"],[0.3333333333333333,\"#9c179e\"],[0.4444444444444444,\"#bd3786\"],[0.5555555555555556,\"#d8576b\"],[0.6666666666666666,\"#ed7953\"],[0.7777777777777778,\"#fb9f3a\"],[0.8888888888888888,\"#fdca26\"],[1.0,\"#f0f921\"]],\"diverging\":[[0,\"#8e0152\"],[0.1,\"#c51b7d\"],[0.2,\"#de77ae\"],[0.3,\"#f1b6da\"],[0.4,\"#fde0ef\"],[0.5,\"#f7f7f7\"],[0.6,\"#e6f5d0\"],[0.7,\"#b8e186\"],[0.8,\"#7fbc41\"],[0.9,\"#4d9221\"],[1,\"#276419\"]]},\"xaxis\":{\"gridcolor\":\"white\",\"linecolor\":\"white\",\"ticks\":\"\",\"title\":{\"standoff\":15},\"zerolinecolor\":\"white\",\"automargin\":true,\"zerolinewidth\":2},\"yaxis\":{\"gridcolor\":\"white\",\"linecolor\":\"white\",\"ticks\":\"\",\"title\":{\"standoff\":15},\"zerolinecolor\":\"white\",\"automargin\":true,\"zerolinewidth\":2},\"scene\":{\"xaxis\":{\"backgroundcolor\":\"#E5ECF6\",\"gridcolor\":\"white\",\"linecolor\":\"white\",\"showbackground\":true,\"ticks\":\"\",\"zerolinecolor\":\"white\",\"gridwidth\":2},\"yaxis\":{\"backgroundcolor\":\"#E5ECF6\",\"gridcolor\":\"white\",\"linecolor\":\"white\",\"showbackground\":true,\"ticks\":\"\",\"zerolinecolor\":\"white\",\"gridwidth\":2},\"zaxis\":{\"backgroundcolor\":\"#E5ECF6\",\"gridcolor\":\"white\",\"linecolor\":\"white\",\"showbackground\":true,\"ticks\":\"\",\"zerolinecolor\":\"white\",\"gridwidth\":2}},\"shapedefaults\":{\"line\":{\"color\":\"#2a3f5f\"}},\"annotationdefaults\":{\"arrowcolor\":\"#2a3f5f\",\"arrowhead\":0,\"arrowwidth\":1},\"geo\":{\"bgcolor\":\"white\",\"landcolor\":\"#E5ECF6\",\"subunitcolor\":\"white\",\"showland\":true,\"showlakes\":true,\"lakecolor\":\"white\"},\"title\":{\"x\":0.05},\"mapbox\":{\"style\":\"light\"}}},\"mapbox\":{\"domain\":{\"x\":[0.0,1.0],\"y\":[0.0,1.0]},\"center\":{\"lat\":52.3,\"lon\":5.5},\"accesstoken\":\"YOUR_MAPBOX_TOKEN\",\"zoom\":6,\"style\":\"carto-positron\"},\"coloraxis\":{\"colorbar\":{\"title\":{\"text\":\"num_accidents\"}},\"colorscale\":[[0.0,\"#0d0887\"],[0.1111111111111111,\"#46039f\"],[0.2222222222222222,\"#7201a8\"],[0.3333333333333333,\"#9c179e\"],[0.4444444444444444,\"#bd3786\"],[0.5555555555555556,\"#d8576b\"],[0.6666666666666666,\"#ed7953\"],[0.7777777777777778,\"#fb9f3a\"],[0.8888888888888888,\"#fdca26\"],[1.0,\"#f0f921\"]]},\"legend\":{\"tracegroupgap\":0},\"title\":{\"text\":\"Number of Accidents by Municipality\"}},                        {\"responsive\": true}                    ).then(function(){\n",
       "                            \n",
       "var gd = document.getElementById('44c4fa99-c445-406c-ac74-dc7718fc3e3f');\n",
       "var x = new MutationObserver(function (mutations, observer) {{\n",
       "        var display = window.getComputedStyle(gd).display;\n",
       "        if (!display || display === 'none') {{\n",
       "            console.log([gd, 'removed!']);\n",
       "            Plotly.purge(gd);\n",
       "            observer.disconnect();\n",
       "        }}\n",
       "}});\n",
       "\n",
       "// Listen for the removal of the full notebook cells\n",
       "var notebookContainer = gd.closest('#notebook-container');\n",
       "if (notebookContainer) {{\n",
       "    x.observe(notebookContainer, {childList: true});\n",
       "}}\n",
       "\n",
       "// Listen for the clearing of the current output cell\n",
       "var outputEl = gd.closest('.output');\n",
       "if (outputEl) {{\n",
       "    x.observe(outputEl, {childList: true});\n",
       "}}\n",
       "\n",
       "                        })                };                });            </script>        </div>"
      ]
     },
     "metadata": {},
     "output_type": "display_data"
    }
   ],
   "source": [
    "import pandas as pd\n",
    "import plotly.express as px\n",
    "import numpy as np\n",
    "\n",
    "# Load accident data from the .pkl file\n",
    "df_accidents = pd.read_pickle(\"accidents.pkl\")\n",
    "\n",
    "municipality_coords = {\n",
    "    'Amsterdam': (52.3730796, 4.8924534), \n",
    "    'Tilburg': (51.58561845, 5.0660616131367675), \n",
    "    \"'s-Hertogenbosch\": (51.6889387, 5.303116), \n",
    "    'Súdwest-Fryslân': (52.974832649999996, 5.436073892467922), \n",
    "    'Smallingerland': (53.11525265, 6.050738915587699), \n",
    "    'Westerkwartier': (53.21425645, 6.3459813379440115), \n",
    "    'Oost Gelre': (52.0153031, 6.561010327461534), \n",
    "    'Roerdalen': (51.1454691, 6.034390914431709), \n",
    "    'Horst aan de Maas': (51.4515953, 6.030898893223135), \n",
    "    'Venlo': (51.39244885, 6.1511724144122955), \n",
    "    'Breda': (51.5887845, 4.7760237), \n",
    "    'Terneuzen': (51.29884295, 3.8422043956030683), \n",
    "    'Best': (51.5033671, 5.3938665), \n",
    "    'Waddinxveen': (52.0443437, 4.641596120380745), \n",
    "    'Weststellingwerf': (52.87191835, 6.008674359652279), \n",
    "    'De Fryske Marren': (52.9118448, 5.713876378916552), \n",
    "    'Leeuwarden': (53.2005936, 5.7918548), \n",
    "    'Apeldoorn': (52.17957375, 5.930077460807249), \n",
    "    'Barneveld': (52.17150665, 5.645439299954028), \n",
    "    'Hattem': (52.476711699999996, 6.061913261141655), \n",
    "    'Gilze en Rijen': (51.56323905, 4.913039391005126), \n",
    "    'Rotterdam': (51.9244424, 4.47775), \n",
    "    'Schiedam': (51.9300454, 4.386451052615731), \n",
    "    'Oosterhout': (51.632237599999996, 4.863042417836681), \n",
    "    'Geertruidenberg': (51.6961662, 4.877843805275408), \n",
    "    'Venray': (51.5082754, 5.958901096612693), \n",
    "    'Neder-Betuwe': (51.92150995, 5.616123265710504), \n",
    "    'Deventer': (52.2695736, 6.236339604766698), \n",
    "    'Overbetuwe': (51.921961249999995, 5.786081524088322), \n",
    "    'Nijmegen': (51.842574850000005, 5.838960628748229), \n",
    "    'Purmerend': (52.5024789, 4.9614827), \n",
    "    'Zuidplas': (51.9995787, 4.613450887425165), \n",
    "    \"'s-Gravenhage\": (52.07494555, 4.2696802205364515), \n",
    "    'Leidschendam-Voorburg': (52.09260105, 4.4321249720751625), \n",
    "    'Weert': (51.235582949999994, 5.705079711646853), \n",
    "    'Echt-Susteren': (51.082135199999996, 5.899125547533698), \n",
    "    'Haarlemmermeer': (52.3238421, 4.715261248876009), \n",
    "    'Rijswijk': (52.0446265, 4.3188215), \n",
    "    'Koggenland': (52.64758125, 4.952321716593174), \n",
    "    'Kaag en Braassem': (52.193046249999995, 4.621636649034843), \n",
    "    'Moerdijk': (51.66277225, 4.525592262905145), \n",
    "    'Vlissingen': (51.49433865, 3.415005767601362), \n",
    "    'Oirschot': (51.488961599999996, 5.300594979407693), \n",
    "    'Vught': (51.6511806, 5.23680014410728), \n",
    "    'Maashorst': (51.69520705, 5.657493808428191), \n",
    "    'Opsterland': (53.04680105, 6.095135723829035), \n",
    "    'Amersfoort': (52.1562499, 5.3896944), \n",
    "    'Hollands Kroon': (52.875946799999994, 4.965504712047365), \n",
    "    'Papendrecht': (51.834666999999996, 4.704688255674374), \n",
    "    'Staphorst': (52.6368387, 6.208129727382328), \n",
    "    'Waadhoeke': (53.2460054, 5.610797779708593), \n",
    "    'Arnhem': (52.0056642, 5.8762345077641305), \n",
    "    'Leiden': (52.1594747, 4.4908843), \n",
    "    'Wierden': (52.35195215, 6.567448420567358), \n",
    "    'Noordoostpolder': (52.72520455, 5.705372865399351), \n",
    "    'Eindhoven': (51.4392648, 5.478633), \n",
    "    'Veldhoven': (51.4190691, 5.4045572), \n",
    "    'Beuningen': (51.8586611, 5.767357), \n",
    "    'West Betuwe': (51.8697052, 5.1941371524390245), \n",
    "    'Land van Cuijk': (51.6635613, 5.851042081979072), \n",
    "    'Heumen': (51.78111135, 5.824896568483027), \n",
    "    'Utrecht': (52.080985600000005, 5.12768396945229), \n",
    "    'Houten': (52.03061555, 5.161216639426677), \n",
    "    'Utrechtse Heuvelrug': (52.028653649999995, 5.394884269227865), \n",
    "    'Oostzaan': (52.45218065, 4.868548732505015), \n",
    "    'Beverwijk': (52.4876371, 4.6603502), \n",
    "    'Zaanstad': (52.4689235, 4.773783522451712), \n",
    "    'Alkmaar': (52.600853799999996, 4.817099446443963), \n",
    "    'Lansingerland': (52.01101685, 4.507645445233463), \n",
    "    'Vlaardingen': (51.9227863, 4.329563378870851), \n",
    "    'Midden-Delfland': (51.97058165, 4.322980951300874), \n",
    "    'Heemskerk': (52.51011775, 4.635060887073173), \n",
    "    'Dordrecht': (51.7958812, 4.6779351), \n",
    "    'Hoeksche Waard': (51.76743725, 4.435615258877212), \n",
    "    'Zwijndrecht': (51.8162227, 4.6405166), \n",
    "    'Zoetermeer': (52.06228915, 4.487754536970652), \n",
    "    'Heerenveen': (52.998474200000004, 5.923148795038062), \n",
    "    'Sittard-Geleen': (51.0094043, 5.8376057867167965), \n",
    "    'Heerlen': (50.8775239, 5.981506585454879), \n",
    "    'Ouder-Amstel': (52.2946678, 4.91646890749465), \n",
    "    'Peel en Maas': (51.33064175, 5.979363705773345), \n",
    "    'Almelo': (52.3567956, 6.66725277634109), \n",
    "    'Lelystad': (52.536680950000004, 5.361043525412799), \n",
    "    'Almere': (52.44175125, 5.2092943104327585), \n",
    "    'Tynaarlo': (53.11201305, 6.5598426150845), \n",
    "    'Twenterand': (52.439304, 6.635427575044659), \n",
    "    'Wijchen': (51.82025285, 5.696090348571646), \n",
    "    'Vijfheerenlanden': (51.9302055, 5.0495233241373185), \n",
    "    'Ridderkerk': (51.8714812, 4.5999778), \n",
    "    'Barendrecht': (51.85193795, 4.52938352520747), \n",
    "    'Wormerland': (52.505611200000004, 4.859412783877223), \n",
    "    'Alblasserdam': (51.8599524, 4.666202275442476), \n",
    "    'Etten-Leur': (51.5692065, 4.6360813), \n",
    "    'Harderwijk': (52.33599915, 5.640271521392062), \n",
    "    'Diemen': (52.3350493, 4.984282926187014), \n",
    "    'Wassenaar': (52.14361135, 4.370966818678455), \n",
    "    'Albrandswaard': (51.8524269, 4.435285362646326), \n",
    "    'Maasgouw': (51.1577134, 5.894547348825503), \n",
    "    'Maastricht': (50.85798545, 5.6969881818221095), \n",
    "    'Beekdaelen': (50.93449595, 5.88869051100548), \n",
    "    'Meerssen': (50.90470915, 5.735207828646779), \n",
    "    'Leudal': (51.2339148, 5.895853139985457), \n",
    "    'Raalte': (52.3874327, 6.307848238791079), \n",
    "    'Eemnes': (52.2547415, 5.286070995513654), \n",
    "    'De Bilt': (52.1445592, 5.173777333788463), \n",
    "    'Woerden': (52.08701595, 4.876687198673499), \n",
    "    'Zaltbommel': (51.782164, 5.189826737158967), \n",
    "    'Ommen': (52.510346999999996, 6.452424670840507), \n",
    "    'Zwolle': (52.514565250000004, 6.097720359677693), \n",
    "    'Den Helder': (52.9529894, 4.8267592494488), \n",
    "    'Borne': (52.3004342, 6.754922548726859), \n",
    "    'Castricum': (52.558830549999996, 4.639675526200153), \n",
    "    'Waalwijk': (51.687337150000005, 5.017307939950269), \n",
    "    'Son en Breugel': (51.5173136, 5.500838), \n",
    "    'Sluis': (51.32566285, 3.5166308518864264), \n",
    "    'Oss': (51.778354199999995, 5.532083610932192), \n",
    "    'Bodegraven-Reeuwijk': (52.0677553, 4.7575800066386025), \n",
    "    'Gouda': (52.018119350000006, 4.711122134697802), \n",
    "    'Gooise Meren': (52.322224000000006, 5.104556785563771), \n",
    "    'Amstelveen': (52.2862177, 4.852649259746028), \n",
    "    'Hellevoetsluis': (51.833921, 4.1436739), \n",
    "    'Velsen': (52.451910299999994, 4.603891145874141), \n",
    "    'Kampen': (52.5559484, 5.9033303), \n",
    "    'Steenwijkerland': (52.747874100000004, 6.023206628871991), \n",
    "    'Rucphen': (51.5209462, 4.569368236553837), \n",
    "    'Bergen op Zoom': (51.4944756, 4.2871541), \n",
    "    'Enschede': (52.2209855, 6.8940537), \n",
    "    'Oude IJsselstreek': (51.90269995, 6.391753286370878), \n",
    "    'Alphen aan den Rijn': (52.1131403, 4.6408411999450685), \n",
    "    'Meierijstad': (51.58844725, 5.516390104700668), \n",
    "    'Geldrop-Mierlo': (51.43182315, 5.5918099053219965), \n",
    "    'Uitgeest': (52.5303233, 4.7090367), \n",
    "    'Cranendonck': (51.286919, 5.5810952873530475), \n",
    "    'De Ronde Venen': (52.2325145, 4.920240947843794), \n",
    "    'Sliedrecht': (51.8308564, 4.76984303118367), \n",
    "    'Tiel': (51.892425349999996, 5.430438174137935), \n",
    "    'Culemborg': (51.94933145, 5.209215154667634), \n",
    "    'Losser': (52.300289, 6.988104272999393), \n",
    "    'Veenendaal': (52.02320415, 5.551800233162295), \n",
    "    'Waalre': (51.3856734, 5.466115689689311), \n",
    "    'Stichtse Vecht': (52.20301145, 4.994837650454457), \n",
    "    'Beek': (50.926876899999996, 5.810685055558121), \n",
    "    'Bernheze': (51.683532850000006, 5.521242816477055), \n",
    "    'Groningen': (53.2190652, 6.5680077), \n",
    "    'Goeree-Overflakkee': (51.75128625, 4.13576992064659), \n",
    "    'Heusden': (51.6888859, 5.165506991078929), \n",
    "    'Gennep': (51.6950839, 5.9734549), \n",
    "    'Laren': (52.2565894, 5.2251925), \n",
    "    'Zeist': (52.0892832, 5.2276307), \n",
    "    'Leiderdorp': (52.15705765, 4.543378647059756), \n",
    "    'Maasdriel': (51.7853378, 5.316792505584603), \n",
    "    'Valkenburg aan de Geul': (50.86094405, 5.813709999149556), \n",
    "    'Reimerswaal': (51.44300185, 4.101441031156753), \n",
    "    'Boxtel': (51.5890603, 5.315795445406877), \n",
    "    'Westland': (52.0014044, 4.201908937069459), \n",
    "    'Delft': (51.999457199999995, 4.362724538543995), \n",
    "    'Emmen': (52.75286615, 6.952513466208563), \n",
    "    'Leusden': (52.1187668, 5.417118899734083), \n",
    "    'Soest': (52.164475749999994, 5.295725560695609), \n",
    "    'Gorinchem': (51.8421872, 4.974600467260094), \n",
    "    'Midden-Groningen': (53.184673599999996, 6.7795735147296075), \n",
    "    'Hoogeveen': (52.7264258, 6.49308148854467), \n",
    "    'Kapelle': (51.4879711, 3.96063), \n",
    "    'Altena': (51.76974375, 4.943677659330839), \n",
    "    'Halderberge': (51.58976405, 4.513483321011281), \n",
    "    'Roosendaal': (51.5331484, 4.4561276), \n",
    "    'Woensdrecht': (51.4106688, 4.327761012867084), \n",
    "    'Eersel': (51.393329050000006, 5.341352630697114), \n",
    "    'Aa en Hunze': (52.9814393, 6.729452061777957), \n",
    "    'Meppel': (52.711744350000004, 6.197307325163717), \n",
    "    'Schouwen-Duiveland': (51.687435300000004, 3.876619717713044), \n",
    "    'Hardinxveld-Giessendam': (51.83862405, 4.824610423909343), \n",
    "    'Ede': (52.07168255, 5.745510631034939), \n",
    "    'Putten': (52.24773005, 5.57827393798401), \n",
    "    'Hengelo': (52.2658726, 6.7924049), \n",
    "    'Bergen (NH.)': (52.6702278, 4.7011616), \n",
    "    'Zoeterwoude': (52.11718945, 4.503459502079346), \n",
    "    'Beesel': (51.26998845, 6.073401860697201), \n",
    "    'Oldambt': (53.2223408, 7.068982392062174), \n",
    "    'Nunspeet': (52.3372909, 5.795636429005031), \n",
    "    'Veendam': (53.0807517, 6.877303483300453), \n",
    "    'Lingewaard': (51.9074337, 5.9439721314706215), \n",
    "    'Blaricum': (52.281133749999995, 5.29371090566366), \n",
    "    'Medemblik': (52.7907137, 5.16862281678412), \n",
    "    'Assen': (52.9952273, 6.560498), \n",
    "    'Middelburg': (51.4996784, 3.6137371), \n",
    "    'Haaksbergen': (52.1564581, 6.740239), \n",
    "    'Haarlem': (52.3885317, 4.6388048), \n",
    "    'De Wolden': (52.705585049999996, 6.338952403673677), \n",
    "    'Goes': (51.5031033, 3.8897596), \n",
    "    'Someren': (51.38632235, 5.688884477579495), \n",
    "    'Roermond': (51.1933903, 5.9882649), \n",
    "    'Westerveld': (52.828469850000005, 6.311221629926694), \n",
    "    'Stein': (50.9732145, 5.760681940061414), \n",
    "    'Voerendaal': (50.8722592, 5.913755707785212), \n",
    "    'Nieuwegein': (52.0298704, 5.0929333789192395), \n",
    "    'Hilvarenbeek': (51.48698395, 5.146972817481462), \n",
    "    'Schagen': (52.78822125, 4.741356804254988), \n",
    "    'Epe': (52.3270371, 5.9631945020748915), \n",
    "    'Doetinchem': (51.958534799999995, 6.281455126241391), \n",
    "    'Hendrik-Ido-Ambacht': (51.84664995, 4.634280416662918), \n",
    "    'Duiven': (51.9470218, 6.02303247329986), \n",
    "    'Alphen-Chaam': (51.50689565, 4.871359861218567), \n",
    "    'Heeze-Leende': (51.35863595, 5.5779773009269675), \n",
    "    'Nijkerk': (52.214853649999995, 5.478146323965094), \n",
    "    'Renkum': (51.99168495, 5.791692252659134), \n",
    "    'Hellendoorn': (52.39046275, 6.451511548705841), \n",
    "    'Rijssen-Holten': (52.284324850000004, 6.440777380657181), \n",
    "    'Buren': (51.92963705, 5.420000238944224), \n",
    "    'Oldebroek': (52.45673635, 5.951864370961877), \n",
    "    'Eemsdelta': (53.34781255, 6.795656528819859), \n",
    "    'Steenbergen': (51.603292100000004, 4.309251716161476), \n",
    "    'Midden-Drenthe': (52.87061935, 6.568055858657804), \n",
    "    'Zevenaar': (51.927908099999996, 6.077526279085048), \n",
    "    'Heerde': (52.4056303, 6.0413984003658525), \n",
    "    'Hilversum': (52.2241375, 5.1719396), \n",
    "    'Berkelland': (52.10152, 6.618404626883939), \n",
    "    'Bladel': (51.37121075, 5.234630644566941), \n",
    "    'Harlingen': (53.1752103, 5.4141998), \n",
    "    'Baarn': (52.2002549, 5.269143393313942), \n",
    "    'Montferland': (51.92400575, 6.205514601615217), \n",
    "    'Teylingen': (52.21739375, 4.511393222538171), \n",
    "    'Dinkelland': (52.371448799999996, 6.915066619316923), \n",
    "    'Deurne': (51.4281834, 5.828106871124028), \n",
    "    'Oldenzaal': (52.30853685, 6.914603743122237), \n",
    "    'Voorst': (52.2374112, 6.086274393475191), \n",
    "    'Capelle aan den IJssel': (51.9312552, 4.5883596), \n",
    "    'Coevorden': (52.6612281, 6.7407359), \n",
    "    'Heiloo': (52.60192475, 4.70503175175436), \n",
    "    'Bunnik': (52.039151849999996, 5.220319799249577), \n",
    "    'Veere': (51.55640385, 3.577269355747127), \n",
    "    'Rheden': (52.03136695, 6.060504296329905), \n",
    "    'Ermelo': (52.2858356, 5.654938589920705), \n",
    "    'Lisse': (52.2540183, 4.541928029675811), \n",
    "    'Bunschoten': (52.2391743, 5.3734101), \n",
    "    'Oegstgeest': (52.1833669, 4.472129402976295), \n",
    "    'Zeewolde': (52.3451194, 5.4580775473608565), \n",
    "    'Brielle': (51.901662, 4.1626292), \n",
    "    'Elburg': (52.415659149999996, 5.841321708557087), \n",
    "    'Edam-Volendam': (52.54861165, 5.0266156034337826),\n",
    "    'Drimmelen': (51.69768865, 4.743934177567655), \n",
    "    'Dronten': (52.531389649999994, 5.750631211201343), \n",
    "    'Huizen': (52.296484449999994, 5.240582040690262), \n",
    "    'Tytsjerksteradiel': (53.20512135, 5.973447146507526), \n",
    "    'Valkenswaard': (51.3202409, 5.458181897733282), \n",
    "    'Oisterwijk': (51.56610775, 5.198644959051684), \n",
    "    'Hardenberg': (52.56982145, 6.633166913313982), \n",
    "    'Noord-Beveland': (51.56520675, 3.8009095733783114), \n",
    "    'Woudenberg': (52.08025955, 5.4122265761644925), \n",
    "    'Molenlanden': (51.891504350000005, 4.836502624912571), \n",
    "    'Dalfsen': (52.51178365, 6.256636721854065), \n",
    "    'Hulst': (51.33154005, 4.087702848747496), \n",
    "    'Zandvoort': (52.3713394, 4.5307624), \n",
    "    'Tholen': (51.57085015, 4.076142821673509), \n",
    "    'IJsselstein': (52.026205250000004, 5.028685923229064), \n",
    "    'Katwijk': (52.2005078, 4.4146372), \n",
    "    'Voorburg': (52.0703201, 4.3558561), \n",
    "    'Mook en Middelaar': (51.74830635, 5.906406373368311), \n",
    "    'Scherpenzeel': (52.0795901, 5.4904134), \n",
    "    'Brunssum': (50.9431108, 5.9705675), \n",
    "    'Weesp': (52.3072593, 5.0420822), \n",
    "    'Borger-Odoorn': (52.9000925, 6.8821614819282875), \n",
    "    'Goirle': (51.5056266, 5.033774070783131), \n",
    "    'Grave': (51.7596504, 5.7411125), \n",
    "    'Reusel-De Mierden': (51.37099705, 5.1468666691668705), \n",
    "    'Noordenveld': (53.0945705, 6.4209724500257455), \n",
    "    'Vaals': (50.7781016, 5.981067967268041), \n",
    "    'Achtkarspelen': (53.207516749999996, 6.150763705175438), \n",
    "    'Loppersum': (53.3320144, 6.7469502), \n",
    "    'Gulpen-Wittem': (50.79962605, 5.890529675273097), \n",
    "    'Bronckhorst': (52.0529087, 6.269274781349422), \n",
    "    'Hoorn': (52.653272, 5.0735802), \n",
    "    'Eijsden-Margraten': (50.80499415, 5.768281669696572)\n",
    "}\n",
    "\n",
    "# Group by GME_NAAM and count the number of accidents\n",
    "df_grouped = df_accidents.groupby('GME_NAAM').size().reset_index(name='num_accidents')\n",
    "\n",
    "# Merge with coordinates\n",
    "df_grouped['latitude'] = df_grouped['GME_NAAM'].map(lambda x: municipality_coords.get(x, (np.nan, np.nan))[0])\n",
    "df_grouped['longitude'] = df_grouped['GME_NAAM'].map(lambda x: municipality_coords.get(x, (np.nan, np.nan))[1])\n",
    "\n",
    "# Remove rows with NaN coordinates (municipalities not in the dictionary)\n",
    "df_grouped.dropna(subset=['latitude', 'longitude'], inplace=True)\n",
    "\n",
    "# Define a threshold for displaying municipality names\n",
    "threshold = 100\n",
    "\n",
    "fig = px.density_mapbox(df_grouped, \n",
    "                        lat='latitude', \n",
    "                        lon='longitude', \n",
    "                        z='num_accidents', \n",
    "                        radius=10,  # Reduced radius for less blurriness\n",
    "                        center=dict(lat=52.3, lon=5.5),  # Centering on Netherlands\n",
    "                        zoom=6,\n",
    "                        hover_name='GME_NAAM',\n",
    "                        title=\"Number of Accidents by Municipality\",\n",
    "                        color_continuous_scale=px.colors.sequential.Plasma,\n",
    "                        template=\"plotly\")\n",
    "\n",
    "fig.update_layout(mapbox_style=\"carto-positron\")\n",
    "\n",
    "fig.show()\n"
   ]
  },
  {
   "cell_type": "markdown",
   "metadata": {},
   "source": [
    "The image depicts a heatmap of the number of accidents by municipality in the Netherlands. The heatmap is color-coded based on the number of accidents, with the color scale shown on the right side indicating that darker shades of purple represent areas with more accidents, scaling from 1 to over 500.\n",
    "\n",
    "The map allows for the visual identification of these municipalities through prominent purple spots. Large cities in the Netherlands, such as Rotterdam and Amsterdam, are depicted with large, dark purple bubbles, signifying a high concentration of accidents. Other municipalities are also represented with bubbles, which may appear slightly smaller or lighter in color, corresponding to a fewer number of accidents."
   ]
  },
  {
   "cell_type": "markdown",
   "metadata": {},
   "source": [
    "Moving from the visual cues on the heatmap to the empirical data, this table presents a quantitative snapshot of traffic accidents across various municipalities in the Netherlands, offering a focused look at the locations with the highest incidence rates. The data is organized to highlight the number of accidents in descending order, starting with Rotterdam at the forefront, followed by Amsterdam, and trailing down to Apeldoorn. Each entry correlates to a unique municipality, represented by its respective name under the column 'GME_NAAM', alongside the total count of recorded accidents in the 'num_accidents' column. The figures reflect a range of accident frequencies, providing a basis for understanding the distribution of traffic-related incidents in these urban areas."
   ]
  },
  {
   "cell_type": "code",
   "execution_count": 14,
   "metadata": {},
   "outputs": [
    {
     "name": "stdout",
     "output_type": "stream",
     "text": [
      "             GME_NAAM  num_accidents\n",
      "182         Rotterdam            543\n",
      "13          Amsterdam            419\n",
      "87     Haarlemmermeer            246\n",
      "208           Utrecht            157\n",
      "36              Breda            149\n",
      "68          Eindhoven            146\n",
      "0       's-Gravenhage            127\n",
      "1    's-Hertogenbosch            117\n",
      "217             Venlo            108\n",
      "14          Apeldoorn            104\n"
     ]
    }
   ],
   "source": [
    "# Sort the grouped DataFrame by 'num_accidents' in descending order\n",
    "df_sorted = df_grouped.sort_values('num_accidents', ascending=False)\n",
    "\n",
    "# Take the top 5 rows\n",
    "top_5_municipalities = df_sorted.head(10)\n",
    "\n",
    "# Print out the top 5 municipalities\n",
    "print(top_5_municipalities[['GME_NAAM', 'num_accidents']])\n"
   ]
  },
  {
   "cell_type": "markdown",
   "metadata": {},
   "source": [
    "The table lists the number of traffic accidents in various Dutch municipalities, providing a snapshot of areas with the highest incidence of events. Rotterdam tops the table with 543 reported incidents, marking it as the municipality with the most accidents. Amsterdam is next with 419 accidents, underscoring its status as another focal point for traffic incidents. Further down, Haarlemmermeer, Utrecht, and Breda also report significant numbers, though not as high as the leading cities. Additional municipalities like Eindhoven, 's-Gravenhage, and 's-Hertogenbosch are noted, each with accidents totaling over a hundred, ending with Venlo and Apeldoorn. This information is key to identifying and understanding the patterns of traffic-related incidents in these populated areas."
   ]
  },
  {
   "cell_type": "markdown",
   "metadata": {},
   "source": [
    "### 3.1.4 Visual (Graphical) Representation of Traffic Incidents by Province in the Netherlands"
   ]
  },
  {
   "cell_type": "markdown",
   "metadata": {},
   "source": [
    "Building on the analysis of traffic incidents at the municipal level, the scope now extends to the examination of accident patterns across the provinces of the Netherlands. The data aggregated at this higher administrative level reveals regional trends and identifies provinces with higher frequencies of traffic-related events. This comparative view highlights the volume of accidents within each province and offers insights into potential underlying factors contributing to regional differences. The ensuing discussion aims to deliver a comprehensive understanding of the distribution of traffic accidents across the Dutch provinces."
   ]
  },
  {
   "cell_type": "code",
   "execution_count": 22,
   "metadata": {},
   "outputs": [
    {
     "data": {
      "application/vnd.plotly.v1+json": {
       "config": {
        "plotlyServerURL": "https://plot.ly"
       },
       "data": [
        {
         "coloraxis": "coloraxis",
         "hovertemplate": "<b>%{hovertext}</b><br><br>Total accidents=%{z}<br>Latitude=%{lat}<br>Longitude=%{lon}<extra></extra>",
         "hovertext": [
          "North Holland",
          "South Holland",
          "Zeeland",
          "Drenthe",
          "Flevoland",
          "Friesland",
          "Gelderland",
          "Groningen",
          "Limburg",
          "Noord-Brabant",
          "Utrecht"
         ],
         "lat": [
          52.6323814,
          51.9225,
          51.4991747,
          52.8775717,
          52.5246256,
          53.1641641,
          52.0583672,
          53.2190652,
          51.2091958,
          51.5287863,
          52.0809856
         ],
         "lon": [
          4.7533755,
          4.47917,
          3.6151451,
          6.6178052,
          5.7400598,
          5.7763946,
          5.5363016,
          6.5680077,
          5.9925004,
          5.5592763,
          5.1276839
         ],
         "name": "",
         "radius": 20,
         "subplot": "mapbox",
         "type": "densitymapbox",
         "z": [
          465,
          1198,
          40,
          171,
          133,
          259,
          823,
          198,
          478,
          757,
          386
         ]
        }
       ],
       "layout": {
        "coloraxis": {
         "colorbar": {
          "title": {
           "text": "Total accidents"
          }
         },
         "colorscale": [
          [
           0,
           "#0d0887"
          ],
          [
           0.1111111111111111,
           "#46039f"
          ],
          [
           0.2222222222222222,
           "#7201a8"
          ],
          [
           0.3333333333333333,
           "#9c179e"
          ],
          [
           0.4444444444444444,
           "#bd3786"
          ],
          [
           0.5555555555555556,
           "#d8576b"
          ],
          [
           0.6666666666666666,
           "#ed7953"
          ],
          [
           0.7777777777777778,
           "#fb9f3a"
          ],
          [
           0.8888888888888888,
           "#fdca26"
          ],
          [
           1,
           "#f0f921"
          ]
         ]
        },
        "legend": {
         "tracegroupgap": 0
        },
        "mapbox": {
         "accesstoken": "YOUR_MAPBOX_TOKEN",
         "center": {
          "lat": 52.3,
          "lon": 5.5
         },
         "domain": {
          "x": [
           0,
           1
          ],
          "y": [
           0,
           1
          ]
         },
         "style": "carto-positron",
         "zoom": 6
        },
        "template": {
         "data": {
          "bar": [
           {
            "error_x": {
             "color": "#2a3f5f"
            },
            "error_y": {
             "color": "#2a3f5f"
            },
            "marker": {
             "line": {
              "color": "#E5ECF6",
              "width": 0.5
             },
             "pattern": {
              "fillmode": "overlay",
              "size": 10,
              "solidity": 0.2
             }
            },
            "type": "bar"
           }
          ],
          "barpolar": [
           {
            "marker": {
             "line": {
              "color": "#E5ECF6",
              "width": 0.5
             },
             "pattern": {
              "fillmode": "overlay",
              "size": 10,
              "solidity": 0.2
             }
            },
            "type": "barpolar"
           }
          ],
          "carpet": [
           {
            "aaxis": {
             "endlinecolor": "#2a3f5f",
             "gridcolor": "white",
             "linecolor": "white",
             "minorgridcolor": "white",
             "startlinecolor": "#2a3f5f"
            },
            "baxis": {
             "endlinecolor": "#2a3f5f",
             "gridcolor": "white",
             "linecolor": "white",
             "minorgridcolor": "white",
             "startlinecolor": "#2a3f5f"
            },
            "type": "carpet"
           }
          ],
          "choropleth": [
           {
            "colorbar": {
             "outlinewidth": 0,
             "ticks": ""
            },
            "type": "choropleth"
           }
          ],
          "contour": [
           {
            "colorbar": {
             "outlinewidth": 0,
             "ticks": ""
            },
            "colorscale": [
             [
              0,
              "#0d0887"
             ],
             [
              0.1111111111111111,
              "#46039f"
             ],
             [
              0.2222222222222222,
              "#7201a8"
             ],
             [
              0.3333333333333333,
              "#9c179e"
             ],
             [
              0.4444444444444444,
              "#bd3786"
             ],
             [
              0.5555555555555556,
              "#d8576b"
             ],
             [
              0.6666666666666666,
              "#ed7953"
             ],
             [
              0.7777777777777778,
              "#fb9f3a"
             ],
             [
              0.8888888888888888,
              "#fdca26"
             ],
             [
              1,
              "#f0f921"
             ]
            ],
            "type": "contour"
           }
          ],
          "contourcarpet": [
           {
            "colorbar": {
             "outlinewidth": 0,
             "ticks": ""
            },
            "type": "contourcarpet"
           }
          ],
          "heatmap": [
           {
            "colorbar": {
             "outlinewidth": 0,
             "ticks": ""
            },
            "colorscale": [
             [
              0,
              "#0d0887"
             ],
             [
              0.1111111111111111,
              "#46039f"
             ],
             [
              0.2222222222222222,
              "#7201a8"
             ],
             [
              0.3333333333333333,
              "#9c179e"
             ],
             [
              0.4444444444444444,
              "#bd3786"
             ],
             [
              0.5555555555555556,
              "#d8576b"
             ],
             [
              0.6666666666666666,
              "#ed7953"
             ],
             [
              0.7777777777777778,
              "#fb9f3a"
             ],
             [
              0.8888888888888888,
              "#fdca26"
             ],
             [
              1,
              "#f0f921"
             ]
            ],
            "type": "heatmap"
           }
          ],
          "heatmapgl": [
           {
            "colorbar": {
             "outlinewidth": 0,
             "ticks": ""
            },
            "colorscale": [
             [
              0,
              "#0d0887"
             ],
             [
              0.1111111111111111,
              "#46039f"
             ],
             [
              0.2222222222222222,
              "#7201a8"
             ],
             [
              0.3333333333333333,
              "#9c179e"
             ],
             [
              0.4444444444444444,
              "#bd3786"
             ],
             [
              0.5555555555555556,
              "#d8576b"
             ],
             [
              0.6666666666666666,
              "#ed7953"
             ],
             [
              0.7777777777777778,
              "#fb9f3a"
             ],
             [
              0.8888888888888888,
              "#fdca26"
             ],
             [
              1,
              "#f0f921"
             ]
            ],
            "type": "heatmapgl"
           }
          ],
          "histogram": [
           {
            "marker": {
             "pattern": {
              "fillmode": "overlay",
              "size": 10,
              "solidity": 0.2
             }
            },
            "type": "histogram"
           }
          ],
          "histogram2d": [
           {
            "colorbar": {
             "outlinewidth": 0,
             "ticks": ""
            },
            "colorscale": [
             [
              0,
              "#0d0887"
             ],
             [
              0.1111111111111111,
              "#46039f"
             ],
             [
              0.2222222222222222,
              "#7201a8"
             ],
             [
              0.3333333333333333,
              "#9c179e"
             ],
             [
              0.4444444444444444,
              "#bd3786"
             ],
             [
              0.5555555555555556,
              "#d8576b"
             ],
             [
              0.6666666666666666,
              "#ed7953"
             ],
             [
              0.7777777777777778,
              "#fb9f3a"
             ],
             [
              0.8888888888888888,
              "#fdca26"
             ],
             [
              1,
              "#f0f921"
             ]
            ],
            "type": "histogram2d"
           }
          ],
          "histogram2dcontour": [
           {
            "colorbar": {
             "outlinewidth": 0,
             "ticks": ""
            },
            "colorscale": [
             [
              0,
              "#0d0887"
             ],
             [
              0.1111111111111111,
              "#46039f"
             ],
             [
              0.2222222222222222,
              "#7201a8"
             ],
             [
              0.3333333333333333,
              "#9c179e"
             ],
             [
              0.4444444444444444,
              "#bd3786"
             ],
             [
              0.5555555555555556,
              "#d8576b"
             ],
             [
              0.6666666666666666,
              "#ed7953"
             ],
             [
              0.7777777777777778,
              "#fb9f3a"
             ],
             [
              0.8888888888888888,
              "#fdca26"
             ],
             [
              1,
              "#f0f921"
             ]
            ],
            "type": "histogram2dcontour"
           }
          ],
          "mesh3d": [
           {
            "colorbar": {
             "outlinewidth": 0,
             "ticks": ""
            },
            "type": "mesh3d"
           }
          ],
          "parcoords": [
           {
            "line": {
             "colorbar": {
              "outlinewidth": 0,
              "ticks": ""
             }
            },
            "type": "parcoords"
           }
          ],
          "pie": [
           {
            "automargin": true,
            "type": "pie"
           }
          ],
          "scatter": [
           {
            "fillpattern": {
             "fillmode": "overlay",
             "size": 10,
             "solidity": 0.2
            },
            "type": "scatter"
           }
          ],
          "scatter3d": [
           {
            "line": {
             "colorbar": {
              "outlinewidth": 0,
              "ticks": ""
             }
            },
            "marker": {
             "colorbar": {
              "outlinewidth": 0,
              "ticks": ""
             }
            },
            "type": "scatter3d"
           }
          ],
          "scattercarpet": [
           {
            "marker": {
             "colorbar": {
              "outlinewidth": 0,
              "ticks": ""
             }
            },
            "type": "scattercarpet"
           }
          ],
          "scattergeo": [
           {
            "marker": {
             "colorbar": {
              "outlinewidth": 0,
              "ticks": ""
             }
            },
            "type": "scattergeo"
           }
          ],
          "scattergl": [
           {
            "marker": {
             "colorbar": {
              "outlinewidth": 0,
              "ticks": ""
             }
            },
            "type": "scattergl"
           }
          ],
          "scattermapbox": [
           {
            "marker": {
             "colorbar": {
              "outlinewidth": 0,
              "ticks": ""
             }
            },
            "type": "scattermapbox"
           }
          ],
          "scatterpolar": [
           {
            "marker": {
             "colorbar": {
              "outlinewidth": 0,
              "ticks": ""
             }
            },
            "type": "scatterpolar"
           }
          ],
          "scatterpolargl": [
           {
            "marker": {
             "colorbar": {
              "outlinewidth": 0,
              "ticks": ""
             }
            },
            "type": "scatterpolargl"
           }
          ],
          "scatterternary": [
           {
            "marker": {
             "colorbar": {
              "outlinewidth": 0,
              "ticks": ""
             }
            },
            "type": "scatterternary"
           }
          ],
          "surface": [
           {
            "colorbar": {
             "outlinewidth": 0,
             "ticks": ""
            },
            "colorscale": [
             [
              0,
              "#0d0887"
             ],
             [
              0.1111111111111111,
              "#46039f"
             ],
             [
              0.2222222222222222,
              "#7201a8"
             ],
             [
              0.3333333333333333,
              "#9c179e"
             ],
             [
              0.4444444444444444,
              "#bd3786"
             ],
             [
              0.5555555555555556,
              "#d8576b"
             ],
             [
              0.6666666666666666,
              "#ed7953"
             ],
             [
              0.7777777777777778,
              "#fb9f3a"
             ],
             [
              0.8888888888888888,
              "#fdca26"
             ],
             [
              1,
              "#f0f921"
             ]
            ],
            "type": "surface"
           }
          ],
          "table": [
           {
            "cells": {
             "fill": {
              "color": "#EBF0F8"
             },
             "line": {
              "color": "white"
             }
            },
            "header": {
             "fill": {
              "color": "#C8D4E3"
             },
             "line": {
              "color": "white"
             }
            },
            "type": "table"
           }
          ]
         },
         "layout": {
          "annotationdefaults": {
           "arrowcolor": "#2a3f5f",
           "arrowhead": 0,
           "arrowwidth": 1
          },
          "autotypenumbers": "strict",
          "coloraxis": {
           "colorbar": {
            "outlinewidth": 0,
            "ticks": ""
           }
          },
          "colorscale": {
           "diverging": [
            [
             0,
             "#8e0152"
            ],
            [
             0.1,
             "#c51b7d"
            ],
            [
             0.2,
             "#de77ae"
            ],
            [
             0.3,
             "#f1b6da"
            ],
            [
             0.4,
             "#fde0ef"
            ],
            [
             0.5,
             "#f7f7f7"
            ],
            [
             0.6,
             "#e6f5d0"
            ],
            [
             0.7,
             "#b8e186"
            ],
            [
             0.8,
             "#7fbc41"
            ],
            [
             0.9,
             "#4d9221"
            ],
            [
             1,
             "#276419"
            ]
           ],
           "sequential": [
            [
             0,
             "#0d0887"
            ],
            [
             0.1111111111111111,
             "#46039f"
            ],
            [
             0.2222222222222222,
             "#7201a8"
            ],
            [
             0.3333333333333333,
             "#9c179e"
            ],
            [
             0.4444444444444444,
             "#bd3786"
            ],
            [
             0.5555555555555556,
             "#d8576b"
            ],
            [
             0.6666666666666666,
             "#ed7953"
            ],
            [
             0.7777777777777778,
             "#fb9f3a"
            ],
            [
             0.8888888888888888,
             "#fdca26"
            ],
            [
             1,
             "#f0f921"
            ]
           ],
           "sequentialminus": [
            [
             0,
             "#0d0887"
            ],
            [
             0.1111111111111111,
             "#46039f"
            ],
            [
             0.2222222222222222,
             "#7201a8"
            ],
            [
             0.3333333333333333,
             "#9c179e"
            ],
            [
             0.4444444444444444,
             "#bd3786"
            ],
            [
             0.5555555555555556,
             "#d8576b"
            ],
            [
             0.6666666666666666,
             "#ed7953"
            ],
            [
             0.7777777777777778,
             "#fb9f3a"
            ],
            [
             0.8888888888888888,
             "#fdca26"
            ],
            [
             1,
             "#f0f921"
            ]
           ]
          },
          "colorway": [
           "#636efa",
           "#EF553B",
           "#00cc96",
           "#ab63fa",
           "#FFA15A",
           "#19d3f3",
           "#FF6692",
           "#B6E880",
           "#FF97FF",
           "#FECB52"
          ],
          "font": {
           "color": "#2a3f5f"
          },
          "geo": {
           "bgcolor": "white",
           "lakecolor": "white",
           "landcolor": "#E5ECF6",
           "showlakes": true,
           "showland": true,
           "subunitcolor": "white"
          },
          "hoverlabel": {
           "align": "left"
          },
          "hovermode": "closest",
          "mapbox": {
           "style": "light"
          },
          "paper_bgcolor": "white",
          "plot_bgcolor": "#E5ECF6",
          "polar": {
           "angularaxis": {
            "gridcolor": "white",
            "linecolor": "white",
            "ticks": ""
           },
           "bgcolor": "#E5ECF6",
           "radialaxis": {
            "gridcolor": "white",
            "linecolor": "white",
            "ticks": ""
           }
          },
          "scene": {
           "xaxis": {
            "backgroundcolor": "#E5ECF6",
            "gridcolor": "white",
            "gridwidth": 2,
            "linecolor": "white",
            "showbackground": true,
            "ticks": "",
            "zerolinecolor": "white"
           },
           "yaxis": {
            "backgroundcolor": "#E5ECF6",
            "gridcolor": "white",
            "gridwidth": 2,
            "linecolor": "white",
            "showbackground": true,
            "ticks": "",
            "zerolinecolor": "white"
           },
           "zaxis": {
            "backgroundcolor": "#E5ECF6",
            "gridcolor": "white",
            "gridwidth": 2,
            "linecolor": "white",
            "showbackground": true,
            "ticks": "",
            "zerolinecolor": "white"
           }
          },
          "shapedefaults": {
           "line": {
            "color": "#2a3f5f"
           }
          },
          "ternary": {
           "aaxis": {
            "gridcolor": "white",
            "linecolor": "white",
            "ticks": ""
           },
           "baxis": {
            "gridcolor": "white",
            "linecolor": "white",
            "ticks": ""
           },
           "bgcolor": "#E5ECF6",
           "caxis": {
            "gridcolor": "white",
            "linecolor": "white",
            "ticks": ""
           }
          },
          "title": {
           "x": 0.05
          },
          "xaxis": {
           "automargin": true,
           "gridcolor": "white",
           "linecolor": "white",
           "ticks": "",
           "title": {
            "standoff": 15
           },
           "zerolinecolor": "white",
           "zerolinewidth": 2
          },
          "yaxis": {
           "automargin": true,
           "gridcolor": "white",
           "linecolor": "white",
           "ticks": "",
           "title": {
            "standoff": 15
           },
           "zerolinecolor": "white",
           "zerolinewidth": 2
          }
         }
        },
        "title": {
         "text": "Number of Accidents by Province"
        }
       }
      },
      "text/html": [
       "<div>                            <div id=\"49c614a6-dd3e-4c84-8b1a-464c52097b07\" class=\"plotly-graph-div\" style=\"height:525px; width:100%;\"></div>            <script type=\"text/javascript\">                require([\"plotly\"], function(Plotly) {                    window.PLOTLYENV=window.PLOTLYENV || {};                                    if (document.getElementById(\"49c614a6-dd3e-4c84-8b1a-464c52097b07\")) {                    Plotly.newPlot(                        \"49c614a6-dd3e-4c84-8b1a-464c52097b07\",                        [{\"coloraxis\":\"coloraxis\",\"hovertemplate\":\"\\u003cb\\u003e%{hovertext}\\u003c\\u002fb\\u003e\\u003cbr\\u003e\\u003cbr\\u003eTotal accidents=%{z}\\u003cbr\\u003eLatitude=%{lat}\\u003cbr\\u003eLongitude=%{lon}\\u003cextra\\u003e\\u003c\\u002fextra\\u003e\",\"hovertext\":[\"North Holland\",\"South Holland\",\"Zeeland\",\"Drenthe\",\"Flevoland\",\"Friesland\",\"Gelderland\",\"Groningen\",\"Limburg\",\"Noord-Brabant\",\"Utrecht\"],\"lat\":[52.6323814,51.9225,51.4991747,52.8775717,52.5246256,53.1641641,52.0583672,53.2190652,51.2091958,51.5287863,52.0809856],\"lon\":[4.7533755,4.47917,3.6151451,6.6178052,5.7400598,5.7763946,5.5363016,6.5680077,5.9925004,5.5592763,5.1276839],\"name\":\"\",\"radius\":20,\"subplot\":\"mapbox\",\"z\":[465,1198,40,171,133,259,823,198,478,757,386],\"type\":\"densitymapbox\"}],                        {\"template\":{\"data\":{\"histogram2dcontour\":[{\"type\":\"histogram2dcontour\",\"colorbar\":{\"outlinewidth\":0,\"ticks\":\"\"},\"colorscale\":[[0.0,\"#0d0887\"],[0.1111111111111111,\"#46039f\"],[0.2222222222222222,\"#7201a8\"],[0.3333333333333333,\"#9c179e\"],[0.4444444444444444,\"#bd3786\"],[0.5555555555555556,\"#d8576b\"],[0.6666666666666666,\"#ed7953\"],[0.7777777777777778,\"#fb9f3a\"],[0.8888888888888888,\"#fdca26\"],[1.0,\"#f0f921\"]]}],\"choropleth\":[{\"type\":\"choropleth\",\"colorbar\":{\"outlinewidth\":0,\"ticks\":\"\"}}],\"histogram2d\":[{\"type\":\"histogram2d\",\"colorbar\":{\"outlinewidth\":0,\"ticks\":\"\"},\"colorscale\":[[0.0,\"#0d0887\"],[0.1111111111111111,\"#46039f\"],[0.2222222222222222,\"#7201a8\"],[0.3333333333333333,\"#9c179e\"],[0.4444444444444444,\"#bd3786\"],[0.5555555555555556,\"#d8576b\"],[0.6666666666666666,\"#ed7953\"],[0.7777777777777778,\"#fb9f3a\"],[0.8888888888888888,\"#fdca26\"],[1.0,\"#f0f921\"]]}],\"heatmap\":[{\"type\":\"heatmap\",\"colorbar\":{\"outlinewidth\":0,\"ticks\":\"\"},\"colorscale\":[[0.0,\"#0d0887\"],[0.1111111111111111,\"#46039f\"],[0.2222222222222222,\"#7201a8\"],[0.3333333333333333,\"#9c179e\"],[0.4444444444444444,\"#bd3786\"],[0.5555555555555556,\"#d8576b\"],[0.6666666666666666,\"#ed7953\"],[0.7777777777777778,\"#fb9f3a\"],[0.8888888888888888,\"#fdca26\"],[1.0,\"#f0f921\"]]}],\"heatmapgl\":[{\"type\":\"heatmapgl\",\"colorbar\":{\"outlinewidth\":0,\"ticks\":\"\"},\"colorscale\":[[0.0,\"#0d0887\"],[0.1111111111111111,\"#46039f\"],[0.2222222222222222,\"#7201a8\"],[0.3333333333333333,\"#9c179e\"],[0.4444444444444444,\"#bd3786\"],[0.5555555555555556,\"#d8576b\"],[0.6666666666666666,\"#ed7953\"],[0.7777777777777778,\"#fb9f3a\"],[0.8888888888888888,\"#fdca26\"],[1.0,\"#f0f921\"]]}],\"contourcarpet\":[{\"type\":\"contourcarpet\",\"colorbar\":{\"outlinewidth\":0,\"ticks\":\"\"}}],\"contour\":[{\"type\":\"contour\",\"colorbar\":{\"outlinewidth\":0,\"ticks\":\"\"},\"colorscale\":[[0.0,\"#0d0887\"],[0.1111111111111111,\"#46039f\"],[0.2222222222222222,\"#7201a8\"],[0.3333333333333333,\"#9c179e\"],[0.4444444444444444,\"#bd3786\"],[0.5555555555555556,\"#d8576b\"],[0.6666666666666666,\"#ed7953\"],[0.7777777777777778,\"#fb9f3a\"],[0.8888888888888888,\"#fdca26\"],[1.0,\"#f0f921\"]]}],\"surface\":[{\"type\":\"surface\",\"colorbar\":{\"outlinewidth\":0,\"ticks\":\"\"},\"colorscale\":[[0.0,\"#0d0887\"],[0.1111111111111111,\"#46039f\"],[0.2222222222222222,\"#7201a8\"],[0.3333333333333333,\"#9c179e\"],[0.4444444444444444,\"#bd3786\"],[0.5555555555555556,\"#d8576b\"],[0.6666666666666666,\"#ed7953\"],[0.7777777777777778,\"#fb9f3a\"],[0.8888888888888888,\"#fdca26\"],[1.0,\"#f0f921\"]]}],\"mesh3d\":[{\"type\":\"mesh3d\",\"colorbar\":{\"outlinewidth\":0,\"ticks\":\"\"}}],\"scatter\":[{\"fillpattern\":{\"fillmode\":\"overlay\",\"size\":10,\"solidity\":0.2},\"type\":\"scatter\"}],\"parcoords\":[{\"type\":\"parcoords\",\"line\":{\"colorbar\":{\"outlinewidth\":0,\"ticks\":\"\"}}}],\"scatterpolargl\":[{\"type\":\"scatterpolargl\",\"marker\":{\"colorbar\":{\"outlinewidth\":0,\"ticks\":\"\"}}}],\"bar\":[{\"error_x\":{\"color\":\"#2a3f5f\"},\"error_y\":{\"color\":\"#2a3f5f\"},\"marker\":{\"line\":{\"color\":\"#E5ECF6\",\"width\":0.5},\"pattern\":{\"fillmode\":\"overlay\",\"size\":10,\"solidity\":0.2}},\"type\":\"bar\"}],\"scattergeo\":[{\"type\":\"scattergeo\",\"marker\":{\"colorbar\":{\"outlinewidth\":0,\"ticks\":\"\"}}}],\"scatterpolar\":[{\"type\":\"scatterpolar\",\"marker\":{\"colorbar\":{\"outlinewidth\":0,\"ticks\":\"\"}}}],\"histogram\":[{\"marker\":{\"pattern\":{\"fillmode\":\"overlay\",\"size\":10,\"solidity\":0.2}},\"type\":\"histogram\"}],\"scattergl\":[{\"type\":\"scattergl\",\"marker\":{\"colorbar\":{\"outlinewidth\":0,\"ticks\":\"\"}}}],\"scatter3d\":[{\"type\":\"scatter3d\",\"line\":{\"colorbar\":{\"outlinewidth\":0,\"ticks\":\"\"}},\"marker\":{\"colorbar\":{\"outlinewidth\":0,\"ticks\":\"\"}}}],\"scattermapbox\":[{\"type\":\"scattermapbox\",\"marker\":{\"colorbar\":{\"outlinewidth\":0,\"ticks\":\"\"}}}],\"scatterternary\":[{\"type\":\"scatterternary\",\"marker\":{\"colorbar\":{\"outlinewidth\":0,\"ticks\":\"\"}}}],\"scattercarpet\":[{\"type\":\"scattercarpet\",\"marker\":{\"colorbar\":{\"outlinewidth\":0,\"ticks\":\"\"}}}],\"carpet\":[{\"aaxis\":{\"endlinecolor\":\"#2a3f5f\",\"gridcolor\":\"white\",\"linecolor\":\"white\",\"minorgridcolor\":\"white\",\"startlinecolor\":\"#2a3f5f\"},\"baxis\":{\"endlinecolor\":\"#2a3f5f\",\"gridcolor\":\"white\",\"linecolor\":\"white\",\"minorgridcolor\":\"white\",\"startlinecolor\":\"#2a3f5f\"},\"type\":\"carpet\"}],\"table\":[{\"cells\":{\"fill\":{\"color\":\"#EBF0F8\"},\"line\":{\"color\":\"white\"}},\"header\":{\"fill\":{\"color\":\"#C8D4E3\"},\"line\":{\"color\":\"white\"}},\"type\":\"table\"}],\"barpolar\":[{\"marker\":{\"line\":{\"color\":\"#E5ECF6\",\"width\":0.5},\"pattern\":{\"fillmode\":\"overlay\",\"size\":10,\"solidity\":0.2}},\"type\":\"barpolar\"}],\"pie\":[{\"automargin\":true,\"type\":\"pie\"}]},\"layout\":{\"autotypenumbers\":\"strict\",\"colorway\":[\"#636efa\",\"#EF553B\",\"#00cc96\",\"#ab63fa\",\"#FFA15A\",\"#19d3f3\",\"#FF6692\",\"#B6E880\",\"#FF97FF\",\"#FECB52\"],\"font\":{\"color\":\"#2a3f5f\"},\"hovermode\":\"closest\",\"hoverlabel\":{\"align\":\"left\"},\"paper_bgcolor\":\"white\",\"plot_bgcolor\":\"#E5ECF6\",\"polar\":{\"bgcolor\":\"#E5ECF6\",\"angularaxis\":{\"gridcolor\":\"white\",\"linecolor\":\"white\",\"ticks\":\"\"},\"radialaxis\":{\"gridcolor\":\"white\",\"linecolor\":\"white\",\"ticks\":\"\"}},\"ternary\":{\"bgcolor\":\"#E5ECF6\",\"aaxis\":{\"gridcolor\":\"white\",\"linecolor\":\"white\",\"ticks\":\"\"},\"baxis\":{\"gridcolor\":\"white\",\"linecolor\":\"white\",\"ticks\":\"\"},\"caxis\":{\"gridcolor\":\"white\",\"linecolor\":\"white\",\"ticks\":\"\"}},\"coloraxis\":{\"colorbar\":{\"outlinewidth\":0,\"ticks\":\"\"}},\"colorscale\":{\"sequential\":[[0.0,\"#0d0887\"],[0.1111111111111111,\"#46039f\"],[0.2222222222222222,\"#7201a8\"],[0.3333333333333333,\"#9c179e\"],[0.4444444444444444,\"#bd3786\"],[0.5555555555555556,\"#d8576b\"],[0.6666666666666666,\"#ed7953\"],[0.7777777777777778,\"#fb9f3a\"],[0.8888888888888888,\"#fdca26\"],[1.0,\"#f0f921\"]],\"sequentialminus\":[[0.0,\"#0d0887\"],[0.1111111111111111,\"#46039f\"],[0.2222222222222222,\"#7201a8\"],[0.3333333333333333,\"#9c179e\"],[0.4444444444444444,\"#bd3786\"],[0.5555555555555556,\"#d8576b\"],[0.6666666666666666,\"#ed7953\"],[0.7777777777777778,\"#fb9f3a\"],[0.8888888888888888,\"#fdca26\"],[1.0,\"#f0f921\"]],\"diverging\":[[0,\"#8e0152\"],[0.1,\"#c51b7d\"],[0.2,\"#de77ae\"],[0.3,\"#f1b6da\"],[0.4,\"#fde0ef\"],[0.5,\"#f7f7f7\"],[0.6,\"#e6f5d0\"],[0.7,\"#b8e186\"],[0.8,\"#7fbc41\"],[0.9,\"#4d9221\"],[1,\"#276419\"]]},\"xaxis\":{\"gridcolor\":\"white\",\"linecolor\":\"white\",\"ticks\":\"\",\"title\":{\"standoff\":15},\"zerolinecolor\":\"white\",\"automargin\":true,\"zerolinewidth\":2},\"yaxis\":{\"gridcolor\":\"white\",\"linecolor\":\"white\",\"ticks\":\"\",\"title\":{\"standoff\":15},\"zerolinecolor\":\"white\",\"automargin\":true,\"zerolinewidth\":2},\"scene\":{\"xaxis\":{\"backgroundcolor\":\"#E5ECF6\",\"gridcolor\":\"white\",\"linecolor\":\"white\",\"showbackground\":true,\"ticks\":\"\",\"zerolinecolor\":\"white\",\"gridwidth\":2},\"yaxis\":{\"backgroundcolor\":\"#E5ECF6\",\"gridcolor\":\"white\",\"linecolor\":\"white\",\"showbackground\":true,\"ticks\":\"\",\"zerolinecolor\":\"white\",\"gridwidth\":2},\"zaxis\":{\"backgroundcolor\":\"#E5ECF6\",\"gridcolor\":\"white\",\"linecolor\":\"white\",\"showbackground\":true,\"ticks\":\"\",\"zerolinecolor\":\"white\",\"gridwidth\":2}},\"shapedefaults\":{\"line\":{\"color\":\"#2a3f5f\"}},\"annotationdefaults\":{\"arrowcolor\":\"#2a3f5f\",\"arrowhead\":0,\"arrowwidth\":1},\"geo\":{\"bgcolor\":\"white\",\"landcolor\":\"#E5ECF6\",\"subunitcolor\":\"white\",\"showland\":true,\"showlakes\":true,\"lakecolor\":\"white\"},\"title\":{\"x\":0.05},\"mapbox\":{\"style\":\"light\"}}},\"mapbox\":{\"domain\":{\"x\":[0.0,1.0],\"y\":[0.0,1.0]},\"center\":{\"lat\":52.3,\"lon\":5.5},\"accesstoken\":\"YOUR_MAPBOX_TOKEN\",\"zoom\":6,\"style\":\"carto-positron\"},\"coloraxis\":{\"colorbar\":{\"title\":{\"text\":\"Total accidents\"}},\"colorscale\":[[0.0,\"#0d0887\"],[0.1111111111111111,\"#46039f\"],[0.2222222222222222,\"#7201a8\"],[0.3333333333333333,\"#9c179e\"],[0.4444444444444444,\"#bd3786\"],[0.5555555555555556,\"#d8576b\"],[0.6666666666666666,\"#ed7953\"],[0.7777777777777778,\"#fb9f3a\"],[0.8888888888888888,\"#fdca26\"],[1.0,\"#f0f921\"]]},\"legend\":{\"tracegroupgap\":0},\"title\":{\"text\":\"Number of Accidents by Province\"}},                        {\"responsive\": true}                    ).then(function(){\n",
       "                            \n",
       "var gd = document.getElementById('49c614a6-dd3e-4c84-8b1a-464c52097b07');\n",
       "var x = new MutationObserver(function (mutations, observer) {{\n",
       "        var display = window.getComputedStyle(gd).display;\n",
       "        if (!display || display === 'none') {{\n",
       "            console.log([gd, 'removed!']);\n",
       "            Plotly.purge(gd);\n",
       "            observer.disconnect();\n",
       "        }}\n",
       "}});\n",
       "\n",
       "// Listen for the removal of the full notebook cells\n",
       "var notebookContainer = gd.closest('#notebook-container');\n",
       "if (notebookContainer) {{\n",
       "    x.observe(notebookContainer, {childList: true});\n",
       "}}\n",
       "\n",
       "// Listen for the clearing of the current output cell\n",
       "var outputEl = gd.closest('.output');\n",
       "if (outputEl) {{\n",
       "    x.observe(outputEl, {childList: true});\n",
       "}}\n",
       "\n",
       "                        })                };                });            </script>        </div>"
      ]
     },
     "metadata": {},
     "output_type": "display_data"
    }
   ],
   "source": [
    "import pandas as pd\n",
    "import plotly.express as px\n",
    "\n",
    "provinces = {\n",
    "    'North Holland': ['Amsterdam', 'Haarlem', 'Hilversum', 'Purmerend', 'Zandvoort'],\n",
    "    'South Holland': ['Rotterdam', 's-Gravenhage', 'Leiden', 'Delft', 'Schiedam', 's-Gravenzande', 'Zoetermeer', 'Rijswijk', 'Pijnacker-Nootdorp', 'Wassenaar', 'Krimpen aan den IJssel', 'Vlaardingen', 'Midden-Delfland', 'Westland', 'Lansingerland', 'Koggenland', 'Kaag en Braassem', 'Moerdijk', 'Albrandswaard', 'Nissewaard', 'Alphen aan den Rijn', 'Teylingen', 'Capelle aan den IJssel', 'Krimpenerwaard', 'Hoeksche Waard', 'Zwijndrecht'],\n",
    "    'Zeeland': ['Vlissingen', 'Kapelle', 'Schouwen-Duiveland', 'Borsele', 'Noord-Beveland', 'Tholen', 'Veere'],\n",
    "    'Drenthe': [\n",
    "        'Aa en Hunze', 'Assen', 'Borger-Odoorn', 'Coevorden', 'De Wolden',\n",
    "        'Emmen', 'Hoogeveen', 'Meppel', 'Midden-Drenthe', 'Noordenveld',\n",
    "        'Tynaarlo', 'Westerveld'\n",
    "    ],\n",
    "    'Flevoland': [\n",
    "        'Almere', 'Dronten', 'Lelystad', 'Noordoostpolder', 'Urk', 'Zeewolde'\n",
    "    ],\n",
    "    'Friesland': [\n",
    "        'De Fryske Marren', 'Heerenveen', 'Leeuwarden', 'Opsterland',\n",
    "        'Smallingerland', 'Súdwest-Fryslân', 'Tytsjerksteradiel', 'Waadhoeke'\n",
    "    ],\n",
    "    'Gelderland': [\n",
    "        'Aalten', 'Apeldoorn', 'Arnhem', 'Beuningen', 'Berg en Dal', 'Berkelland',\n",
    "        'Beuningen', 'Buren', 'Culemborg', 'Doesburg', 'Doetinchem', 'Druten',\n",
    "        'Duiven', 'Ede', 'Elburg', 'Epe', 'Ermelo', 'Geldrop-Mierlo', 'Harderwijk',\n",
    "        'Hattem', 'Heerde', 'Heumen', 'Lingewaard', 'Lochem', 'Maasdriel', 'Montferland',\n",
    "        'Nijkerk', 'Nijmegen', 'Nunspeet', 'Oldebroek', 'Oost Gelre', 'Ooststellingwerf',\n",
    "        'Oude IJsselstreek', 'Overbetuwe', 'Putten', 'Renkum', 'Rheden', 'Rijssen-Holten',\n",
    "        'Rozendaal', 'Scherpenzeel', 'Tiel', 'Voorst', 'Wageningen', 'West Betuwe',\n",
    "        'West Maas en Waal', 'Westervoort', 'Wijchen', 'Winterswijk', 'Zaltbommel',\n",
    "        'Zevenaar', 'Gennep', 'Buren', 'Lingewaard', 'Overbetuwe', 'West Betuwe',\n",
    "        'Montferland', 'Oude IJsselstreek', 'Winterswijk', 'Voorst', 'Doetinchem',\n",
    "        'West Maas en Waal', 'Nijkerk', 'Heerde', 'Epe', 'Berkelland', 'Bronckhorst',\n",
    "        'Lochem', 'Oost Gelre', 'Aalten', 'Zutphen'\n",
    "    ],\n",
    "    'Groningen': [\n",
    "        'Eemsdelta', 'Groningen', 'Het Hogeland', 'Midden-Groningen', 'Oldambt',\n",
    "        'Pekela', 'Stadskanaal', 'Veendam', 'Westerkwartier', 'Westerwolde'\n",
    "    ],\n",
    "    'Limburg': [\n",
    "        'Beek', 'Beekdaelen', 'Beesel', 'Bergen', 'Brunssum', 'Echt-Susteren',\n",
    "        'Gulpen-Wittem', 'Heerlen', 'Horst aan de Maas', 'Kerkrade', 'Landgraaf',\n",
    "        'Leudal', 'Maastricht', 'Maasgouw', 'Meerssen', 'Mook en Middelaar',\n",
    "        'Nederweert', 'Peel en Maas', 'Roermond', 'Simpelveld', 'Sittard-Geleen',\n",
    "        'Stein', 'Vaals', 'Valkenburg aan de Geul', 'Venlo', 'Venray', 'Voerendaal',\n",
    "        'Weert'\n",
    "    ],\n",
    "    'Noord-Brabant': [\n",
    "        'Alphen-Chaam', 'Altena', 'Baarle-Nassau', 'Hilvarenbeek', 'Goirle',\n",
    "        'Reusel-De Mierden', 'Eersel', 'Bladel', 'Oirschot', 'Best', 'Veldhoven',\n",
    "        'Eindhoven', 'Oisterwijk', 'Haaren', 'Tilburg', \"'s-Hertogenbosch\",\n",
    "        'Meierijstad', 'Sint-Michielsgestel', 'Boxtel', 'Haaren', 'Vught', 'Dongen',\n",
    "        'Loon op Zand', 'Gilze en Rijen', 'Tilburg', 'Gilze en Rijen',\n",
    "        'Geertruidenberg', 'Oosterhout', 'Waalwijk', 'Heusden', 'Altena'\n",
    "    ],\n",
    "    'Utrecht': [\n",
    "        'Eemnes', 'De Bilt', 'Stichtse Vecht', 'Baarn', 'Nieuwegein', 'Woudenberg',\n",
    "        'Utrecht', 'Houten', 'Lopik', 'Vijfheerenlanden', 'Woerden', 'Zeist'\n",
    "    ]\n",
    "}\n",
    "\n",
    "\n",
    "# Data\n",
    "data = {\n",
    "    'Province': ['North Holland', 'South Holland', 'Zeeland', 'Drenthe', 'Flevoland', \n",
    "                 'Friesland', 'Gelderland', 'Groningen', 'Limburg', 'Noord-Brabant', 'Utrecht'],\n",
    "    'Total accidents': [465, 1198, 40, 171, 133, 259, 823, 198, 478, 757, 386]\n",
    "}\n",
    "\n",
    "coordinates = {\n",
    "    'North Holland': (52.6323814, 4.7533755),\n",
    "    'South Holland': (51.9225, 4.47917),\n",
    "    'Zeeland': (51.4991747, 3.6151451),\n",
    "    'Drenthe': (52.8775717, 6.6178052),\n",
    "    'Flevoland': (52.5246256, 5.7400598),\n",
    "    'Friesland': (53.1641641, 5.7763946),\n",
    "    'Gelderland': (52.0583672, 5.5363016),\n",
    "    'Groningen': (53.2190652, 6.5680077),\n",
    "    'Limburg': (51.2091958, 5.9925004),\n",
    "    'Noord-Brabant': (51.5287863, 5.5592763),\n",
    "    'Utrecht': (52.0809856, 5.1276839)\n",
    "}\n",
    "\n",
    "df = pd.DataFrame(data)\n",
    "df['Latitude'] = df['Province'].apply(lambda x: coordinates[x][0])\n",
    "df['Longitude'] = df['Province'].apply(lambda x: coordinates[x][1])\n",
    "\n",
    "# Create a density_mapbox figure\n",
    "fig = px.density_mapbox(df, \n",
    "                        lat='Latitude', \n",
    "                        lon='Longitude', \n",
    "                        z='Total accidents', \n",
    "                        radius=20,  # Adjust radius as needed\n",
    "                        center=dict(lat=52.3, lon=5.5),  # Centering on Netherlands\n",
    "                        zoom=6,\n",
    "                        hover_name='Province',\n",
    "                        title=\"Number of Accidents by Province\",\n",
    "                        color_continuous_scale=px.colors.sequential.Plasma,\n",
    "                        template=\"plotly\")\n",
    "\n",
    "# Update the layout to use a mapbox style\n",
    "fig.update_layout(mapbox_style=\"carto-positron\")\n",
    "\n",
    "# Display the figure\n",
    "fig.show()\n"
   ]
  },
  {
   "cell_type": "markdown",
   "metadata": {},
   "source": [
    "The image displays a heatmap on a map of the Netherlands, showing the distribution of traffic accidents by province. The intensity of the accidents is visualized by color-coded circles, with the color scale on the right indicating the number of accidents. Darker shades of purple signify a higher number of accidents, scaling from 200 to over 1000, as indicated by the color legend labeled \"Total accidents.\"\n",
    "\n",
    "The largest and darkest bubble is centered over South Holland, reflecting its status as the province with the highest number of accidents. Other provinces with notable accident counts, like North Holland and Gelderland, are marked by slightly smaller, yet still intensely colored bubbles. Provinces with fewer accidents are represented by even smaller and lighter-colored circles. The map provides a clear visual representation of how traffic accidents are distributed across the provinces, highlighting areas with higher and lower frequencies of traffic incidents."
   ]
  },
  {
   "cell_type": "code",
   "execution_count": 20,
   "metadata": {},
   "outputs": [
    {
     "name": "stdout",
     "output_type": "stream",
     "text": [
      "Total accidents in South Holland: 1198\n",
      "Total accidents in Gelderland: 823\n",
      "Total accidents in Noord-Brabant: 757\n",
      "Total accidents in Limburg: 478\n",
      "Total accidents in North Holland: 465\n",
      "Total accidents in Utrecht: 386\n",
      "Total accidents in Friesland: 259\n",
      "Total accidents in Groningen: 198\n",
      "Total accidents in Drenthe: 171\n",
      "Total accidents in Flevoland: 133\n",
      "Total accidents in Zeeland: 40\n"
     ]
    }
   ],
   "source": [
    "import pandas as pd\n",
    "\n",
    "# Load accident data from the .pkl file\n",
    "df_accidents = pd.read_pickle(\"accidents.pkl\")\n",
    "\n",
    "# Define the provinces and their municipalities\n",
    "provinces = {\n",
    "    'North Holland': ['Amsterdam', 'Haarlem', 'Hilversum', 'Purmerend', 'Zandvoort'],\n",
    "    'South Holland': ['Rotterdam', 's-Gravenhage', 'Leiden', 'Delft', 'Schiedam', 's-Gravenzande', 'Zoetermeer', 'Rijswijk', 'Pijnacker-Nootdorp', 'Wassenaar', 'Krimpen aan den IJssel', 'Vlaardingen', 'Midden-Delfland', 'Westland', 'Lansingerland', 'Koggenland', 'Kaag en Braassem', 'Moerdijk', 'Albrandswaard', 'Nissewaard', 'Alphen aan den Rijn', 'Teylingen', 'Capelle aan den IJssel', 'Krimpenerwaard', 'Hoeksche Waard', 'Zwijndrecht'],\n",
    "    'Zeeland': ['Vlissingen', 'Kapelle', 'Schouwen-Duiveland', 'Borsele', 'Noord-Beveland', 'Tholen', 'Veere'],\n",
    "    'Drenthe': [\n",
    "        'Aa en Hunze', 'Assen', 'Borger-Odoorn', 'Coevorden', 'De Wolden',\n",
    "        'Emmen', 'Hoogeveen', 'Meppel', 'Midden-Drenthe', 'Noordenveld',\n",
    "        'Tynaarlo', 'Westerveld'\n",
    "    ],\n",
    "    'Flevoland': [\n",
    "        'Almere', 'Dronten', 'Lelystad', 'Noordoostpolder', 'Urk', 'Zeewolde'\n",
    "    ],\n",
    "    'Friesland': [\n",
    "        'De Fryske Marren', 'Heerenveen', 'Leeuwarden', 'Opsterland',\n",
    "        'Smallingerland', 'Súdwest-Fryslân', 'Tytsjerksteradiel', 'Waadhoeke'\n",
    "    ],\n",
    "    'Gelderland': [\n",
    "        'Aalten', 'Apeldoorn', 'Arnhem', 'Beuningen', 'Berg en Dal', 'Berkelland',\n",
    "        'Beuningen', 'Buren', 'Culemborg', 'Doesburg', 'Doetinchem', 'Druten',\n",
    "        'Duiven', 'Ede', 'Elburg', 'Epe', 'Ermelo', 'Geldrop-Mierlo', 'Harderwijk',\n",
    "        'Hattem', 'Heerde', 'Heumen', 'Lingewaard', 'Lochem', 'Maasdriel', 'Montferland',\n",
    "        'Nijkerk', 'Nijmegen', 'Nunspeet', 'Oldebroek', 'Oost Gelre', 'Ooststellingwerf',\n",
    "        'Oude IJsselstreek', 'Overbetuwe', 'Putten', 'Renkum', 'Rheden', 'Rijssen-Holten',\n",
    "        'Rozendaal', 'Scherpenzeel', 'Tiel', 'Voorst', 'Wageningen', 'West Betuwe',\n",
    "        'West Maas en Waal', 'Westervoort', 'Wijchen', 'Winterswijk', 'Zaltbommel',\n",
    "        'Zevenaar', 'Gennep', 'Buren', 'Lingewaard', 'Overbetuwe', 'West Betuwe',\n",
    "        'Montferland', 'Oude IJsselstreek', 'Winterswijk', 'Voorst', 'Doetinchem',\n",
    "        'West Maas en Waal', 'Nijkerk', 'Heerde', 'Epe', 'Berkelland', 'Bronckhorst',\n",
    "        'Lochem', 'Oost Gelre', 'Aalten', 'Zutphen'\n",
    "    ],\n",
    "    'Groningen': [\n",
    "        'Eemsdelta', 'Groningen', 'Het Hogeland', 'Midden-Groningen', 'Oldambt',\n",
    "        'Pekela', 'Stadskanaal', 'Veendam', 'Westerkwartier', 'Westerwolde'\n",
    "    ],\n",
    "    'Limburg': [\n",
    "        'Beek', 'Beekdaelen', 'Beesel', 'Bergen', 'Brunssum', 'Echt-Susteren',\n",
    "        'Gulpen-Wittem', 'Heerlen', 'Horst aan de Maas', 'Kerkrade', 'Landgraaf',\n",
    "        'Leudal', 'Maastricht', 'Maasgouw', 'Meerssen', 'Mook en Middelaar',\n",
    "        'Nederweert', 'Peel en Maas', 'Roermond', 'Simpelveld', 'Sittard-Geleen',\n",
    "        'Stein', 'Vaals', 'Valkenburg aan de Geul', 'Venlo', 'Venray', 'Voerendaal',\n",
    "        'Weert'\n",
    "    ],\n",
    "    'Noord-Brabant': [\n",
    "        'Alphen-Chaam', 'Altena', 'Baarle-Nassau', 'Hilvarenbeek', 'Goirle',\n",
    "        'Reusel-De Mierden', 'Eersel', 'Bladel', 'Oirschot', 'Best', 'Veldhoven',\n",
    "        'Eindhoven', 'Oisterwijk', 'Haaren', 'Tilburg', \"'s-Hertogenbosch\",\n",
    "        'Meierijstad', 'Sint-Michielsgestel', 'Boxtel', 'Haaren', 'Vught', 'Dongen',\n",
    "        'Loon op Zand', 'Gilze en Rijen', 'Tilburg', 'Gilze en Rijen',\n",
    "        'Geertruidenberg', 'Oosterhout', 'Waalwijk', 'Heusden', 'Altena'\n",
    "    ],\n",
    "    'Utrecht': [\n",
    "        'Eemnes', 'De Bilt', 'Stichtse Vecht', 'Baarn', 'Nieuwegein', 'Woudenberg',\n",
    "        'Utrecht', 'Houten', 'Lopik', 'Vijfheerenlanden', 'Woerden', 'Zeist'\n",
    "    ]\n",
    "}\n",
    "\n",
    "\n",
    "# Create a dictionary to store the total accidents per province\n",
    "total_accidents_by_province = {}\n",
    "\n",
    "# Iterate over provinces and calculate the total accidents\n",
    "for province_name, municipalities in provinces.items():\n",
    "    filtered_data = df_accidents[df_accidents['GME_NAAM'].isin(municipalities)]\n",
    "    total_accidents = filtered_data.shape[0]\n",
    "    total_accidents_by_province[province_name] = total_accidents\n",
    "\n",
    "# Sort the total accidents by province in descending order\n",
    "sorted_accidents_by_province = sorted(total_accidents_by_province.items(), key=lambda item: item[1], reverse=True)\n",
    "\n",
    "# Print the sorted total accidents for each province\n",
    "for province, accidents in sorted_accidents_by_province:\n",
    "    print(f\"Total accidents in {province}: {accidents}\")\n",
    "\n"
   ]
  },
  {
   "cell_type": "markdown",
   "metadata": {},
   "source": [
    "The data provided lists the number of traffic accidents recorded across various provinces in the Netherlands, ordered from the highest to the lowest number of incidents. South Holland tops the list with 1198 accidents, indicating it has the highest occurrence of traffic incidents among the provinces. Gelderland follows with 823 accidents, and Noord-Brabant is close behind with 757, suggesting these are also high-incident areas.\n",
    "\n",
    "Limburg and North Holland are in the middle range, with 478 and 465 accidents respectively, while Utrecht, Friesland, and Groningen show fewer incidents, ranging from 386 to 198. Drenthe and Flevoland have even lower numbers, with 171 and 133 accidents, suggesting a lower rate of traffic-related issues. Zeeland has the fewest reported accidents, with only 40, which could indicate it is the safest among the listed provinces in terms of traffic incidents or it has lower traffic density."
   ]
  }
 ],
 "metadata": {
  "kernelspec": {
   "display_name": "Python 3 (ipykernel)",
   "language": "python",
   "name": "python3"
  },
  "language_info": {
   "codemirror_mode": {
    "name": "ipython",
    "version": 3
   },
   "file_extension": ".py",
   "mimetype": "text/x-python",
   "name": "python",
   "nbconvert_exporter": "python",
   "pygments_lexer": "ipython3",
   "version": "3.11.4"
  },
  "vscode": {
   "interpreter": {
    "hash": "31f2aee4e71d21fbe5cf8b01ff0e069b9275f58929596ceb00d14d90e3e16cd6"
   }
  }
 },
 "nbformat": 4,
 "nbformat_minor": 4
}
