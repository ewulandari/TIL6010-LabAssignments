{
 "cells": [
  {
   "cell_type": "markdown",
   "metadata": {},
   "source": [
    "# Project Group - \n",
    "\n",
    "**Members:** \n",
    "\n",
    "Alex van Wijngaarden - 4874277\n",
    "\n",
    "Eka Devi  Wulandari - 5912822\n",
    "\n",
    "Nadhira Zahrani Widiafina - 5835429\n",
    "\n",
    "Simon, van der Horst - 5125227\n",
    "\n",
    "Wiet Kalf  - 4498445"
   ]
  },
  {
   "cell_type": "markdown",
   "metadata": {},
   "source": [
    "# Research Objective\n",
    "\n",
    "*Requires data modeling and quantitative research in Transport, Infrastructure & Logistics*"
   ]
  },
  {
   "cell_type": "markdown",
   "metadata": {},
   "source": [
    "\n",
    "“How does the weather influence traffic accidents in cities and rural areas in the Netherlands during the period of 2021-2022, and how do these areas compare?”\n"
   ]
  },
  {
   "cell_type": "markdown",
   "metadata": {},
   "source": [
    "# Contribution Statement\n",
    "\n",
    "*Be specific. Some of the tasks can be coding (expect everyone to do this), background research, conceptualisation, visualisation, data analysis, data modelling*"
   ]
  },
  {
   "cell_type": "markdown",
   "metadata": {},
   "source": [
    "**Conceptulization:**\n",
    "Alex, Eka, Nadhira, Simon, Wiet\n",
    "\n",
    "**Data modeling (data pipeline):**\n",
    "Wiet, Simon\n",
    "\n",
    "**Data analysis (correlation heatmap):**\n",
    "Wiet, Simon\n",
    "\n",
    "**Data visualizaiton (plotly, seaborne etc):**\n",
    "Nadhira, Eka\n",
    "\n",
    "**Narative section (report):**\n",
    "Alex\n"
   ]
  },
  {
   "cell_type": "markdown",
   "metadata": {},
   "source": [
    "# Data Used"
   ]
  },
  {
   "cell_type": "markdown",
   "metadata": {},
   "source": [
    "Verkeersongevallen - Bestand geRegistreerde Ongevallen Nederland\n",
    "https://data.overheid.nl/dataset/9841-verkeersongevallen---bestand-geregistreerde-ongevallen-nederland\n"
   ]
  },
  {
   "cell_type": "markdown",
   "metadata": {},
   "source": [
    "# Data Pipeline"
   ]
  },
  {
   "cell_type": "markdown",
   "metadata": {},
   "source": [
    "1. Source\n",
    "Verkeersongevallen - Bestand geRegistreerde Ongevallen Nederland\n",
    "3. Staging areag\n",
    "    Transform the data from .txt to pandas?\n",
    "4. Data warehouse\n",
    "   .pkl file?"
   ]
  },
  {
   "cell_type": "markdown",
   "metadata": {},
   "source": [
    "# Report"
   ]
  },
  {
   "cell_type": "markdown",
   "metadata": {},
   "source": [
    "## 1. Introduction\n",
    "Explain the background / reasoning behind the chosen topic"
   ]
  },
  {
   "cell_type": "markdown",
   "metadata": {},
   "source": [
    "## 2. Data Processing\n",
    "- import data from the excel\n",
    "- give explanation for each column, what data does the column is represented for?\n",
    "- merge data into 1 dataset\n",
    "- identify outlier\n",
    "- finalize data and remove the outlier (if any)"
   ]
  },
  {
   "cell_type": "markdown",
   "metadata": {},
   "source": [
    "Columns necessary:\n",
    "AP3_CODE: This attribute categorizes accidents into fatalities, injuries and just material damage \\\n",
    "\"DOD\" = \"Dodelijk\"\\\r\n",
    "\"LET = ,\"Letsel\\\"\r\n",
    "\"UM = \",\"Uitsluitend materiele schade\\\n",
    "\n",
    "WGD_CODE_1\n",
    "BEBKOM\n",
    "MAXSNELHD\n",
    "IND_ALC"
   ]
  },
  {
   "cell_type": "code",
   "execution_count": 2,
   "metadata": {},
   "outputs": [],
   "source": [
    "import pandas as pd\n",
    "\n"
   ]
  },
  {
   "cell_type": "code",
   "execution_count": 3,
   "metadata": {},
   "outputs": [
    {
     "name": "stdout",
     "output_type": "stream",
     "text": [
      "       AP3_CODE WGD_CODE_1 BEBKOM  MAXSNELHD IND_ALC          GME_NAAM  \\\n",
      "0           DOD          D     BI       30.0       N  's-Hertogenbosch   \n",
      "1           DOD          D     BU       60.0       N               Ede   \n",
      "2           DOD          D     BU       80.0       N         Maasdriel   \n",
      "3           DOD          D     BI        NaN       N     's-Gravenhage   \n",
      "4           DOD          D     BU       80.0       N        Koggenland   \n",
      "...         ...        ...    ...        ...     ...               ...   \n",
      "114214      UMS        NaN    NaN      100.0       N           Veendam   \n",
      "114215      UMS        NaN    NaN      100.0       N           Veendam   \n",
      "114216      UMS        NaN    NaN      100.0       N  Midden-Groningen   \n",
      "114217      UMS        NaN    NaN      100.0       N           Veendam   \n",
      "114218      UMS        NaN    NaN      100.0       N        Dinkelland   \n",
      "\n",
      "             PVE_NAAM         DISTRNAAM  \n",
      "0       Noord-Brabant               NaN  \n",
      "1          Gelderland               NaN  \n",
      "2          Gelderland               NaN  \n",
      "3        Zuid-Holland               NaN  \n",
      "4       Noord-Holland               NaN  \n",
      "...               ...               ...  \n",
      "114214      Groningen  NN District Oost  \n",
      "114215      Groningen  NN District Oost  \n",
      "114216      Groningen  NN District Oost  \n",
      "114217      Groningen  NN District Oost  \n",
      "114218     Overijssel  ON District Oost  \n",
      "\n",
      "[114219 rows x 8 columns]\n",
      "       AP3_CODE WGD_CODE_1 BEBKOM  MAXSNELHD IND_ALC          GME_NAAM  \\\n",
      "12          DOD          D     BU      100.0       N         Amsterdam   \n",
      "15          DOD          D     BI      100.0       N           Tilburg   \n",
      "16          DOD          D     BU       80.0       N  's-Hertogenbosch   \n",
      "30          UMS          D     BU       80.0       N   Súdwest-Fryslân   \n",
      "31          UMS          D     BU      100.0       N    Smallingerland   \n",
      "...         ...        ...    ...        ...     ...               ...   \n",
      "113135      UMS          D     BU       30.0       N            Voorst   \n",
      "113136      UMS          D     BU      100.0       N           Nijkerk   \n",
      "113140      UMS          D     BU      100.0       N         Rotterdam   \n",
      "113149      UMS          D     BU       30.0       N    Haarlemmermeer   \n",
      "113154      UMS          D     BU      100.0       N         Hoogeveen   \n",
      "\n",
      "             PVE_NAAM           DISTRNAAM  \n",
      "12      Noord-Holland   WNN District Zuid  \n",
      "15      Noord-Brabant    ZN District West  \n",
      "16      Noord-Brabant  ZN District Midden  \n",
      "30          Friesland    NN District West  \n",
      "31          Friesland    NN District West  \n",
      "...               ...                 ...  \n",
      "113135     Gelderland   ON District Noord  \n",
      "113136     Gelderland   ON District Noord  \n",
      "113140   Zuid-Holland   WNZ District Zuid  \n",
      "113149  Noord-Holland   WNN District Zuid  \n",
      "113154        Drenthe    NN District Oost  \n",
      "\n",
      "[7704 rows x 8 columns]\n"
     ]
    }
   ],
   "source": [
    "\n",
    "#local absolute file path of large dataset\n",
    "filename = r\"C:\\Users\\simon\\TIL jaar 1\\TIL programming\\project\\traffic data\\PGS0112-o-CSV-bestand-J-1-N-N-N\\Ongevallengegevens\\ongevallen.txt\"\n",
    "#loading the dataset\n",
    "df = pd.read_csv(filename, encoding = 'latin1', low_memory=False)\n",
    "# alcohol indicator for no was an empty column so that is filled with an n\n",
    "df[\"IND_ALC\"].fillna(\"N\", inplace = True) \n",
    "#selecting the necessary columns\n",
    "data = df[[\"AP3_CODE\", \"WGD_CODE_1\", \"BEBKOM\", \"MAXSNELHD\", \"IND_ALC\", \"GME_NAAM\", \"PVE_NAAM\", \"DISTRNAAM\"]]\n",
    "#dropping rows where either 1 of the columns has no value, reduces the amount of rows by approximately half\n",
    "print(data)\n",
    "data_cleaned = data.dropna()\n",
    "print(data_cleaned)\n",
    "#converting the dataframe to a .pkl file format for easier sharing\n",
    "data_cleaned.to_pickle(\"accidents.pkl\")\n"
   ]
  },
  {
   "cell_type": "markdown",
   "metadata": {},
   "source": [
    "## 3. Descriptive Analysis of the data\n",
    "- accident trend over year (using bar chart) + narrative paragraph\n",
    "- accident distribution in NL (using map) + narrative paragraph\n",
    "- correlation between accident and weather for each weather type (since weather data is categorical) + narrative paragraph\n",
    "     - reference from Julia B. Edwards's paper: **The Relationship Between Road Accident Severity and Recorded Weather**\n",
    "         - define weather classification\n",
    "         - identify severity ratio\n",
    "         - identify the correlation (using chi-square?)\n",
    "     - proposed approach:\n",
    "         - identify impact of weather on 2 things: severity level and number of accident\n",
    "         - using trend line aggregated in monthly basis, every line/colour represent 1 weather type\n",
    "         - to asess the correlation, using chi-square test\n"
   ]
  },
  {
   "cell_type": "code",
   "execution_count": 4,
   "metadata": {},
   "outputs": [
    {
     "name": "stdout",
     "output_type": "stream",
     "text": [
      "       AP3_CODE WGD_CODE_1 BEBKOM  MAXSNELHD IND_ALC          GME_NAAM  \\\n",
      "12          DOD          D     BU      100.0       N         Amsterdam   \n",
      "15          DOD          D     BI      100.0       N           Tilburg   \n",
      "16          DOD          D     BU       80.0       N  's-Hertogenbosch   \n",
      "30          UMS          D     BU       80.0       N   Súdwest-Fryslân   \n",
      "31          UMS          D     BU      100.0       N    Smallingerland   \n",
      "...         ...        ...    ...        ...     ...               ...   \n",
      "113135      UMS          D     BU       30.0       N            Voorst   \n",
      "113136      UMS          D     BU      100.0       N           Nijkerk   \n",
      "113140      UMS          D     BU      100.0       N         Rotterdam   \n",
      "113149      UMS          D     BU       30.0       N    Haarlemmermeer   \n",
      "113154      UMS          D     BU      100.0       N         Hoogeveen   \n",
      "\n",
      "             PVE_NAAM           DISTRNAAM  \n",
      "12      Noord-Holland   WNN District Zuid  \n",
      "15      Noord-Brabant    ZN District West  \n",
      "16      Noord-Brabant  ZN District Midden  \n",
      "30          Friesland    NN District West  \n",
      "31          Friesland    NN District West  \n",
      "...               ...                 ...  \n",
      "113135     Gelderland   ON District Noord  \n",
      "113136     Gelderland   ON District Noord  \n",
      "113140   Zuid-Holland   WNZ District Zuid  \n",
      "113149  Noord-Holland   WNN District Zuid  \n",
      "113154        Drenthe    NN District Oost  \n",
      "\n",
      "[7704 rows x 8 columns]\n"
     ]
    }
   ],
   "source": [
    "df_accidents = pd.read_pickle(\"accidents.pkl\")\n",
    "print(df_accidents)"
   ]
  },
  {
   "cell_type": "code",
   "execution_count": null,
   "metadata": {},
   "outputs": [],
   "source": []
  }
 ],
 "metadata": {
  "kernelspec": {
   "display_name": "Python 3 (ipykernel)",
   "language": "python",
   "name": "python3"
  },
  "language_info": {
   "codemirror_mode": {
    "name": "ipython",
    "version": 3
   },
   "file_extension": ".py",
   "mimetype": "text/x-python",
   "name": "python",
   "nbconvert_exporter": "python",
   "pygments_lexer": "ipython3",
   "version": "3.11.4"
  },
  "vscode": {
   "interpreter": {
    "hash": "31f2aee4e71d21fbe5cf8b01ff0e069b9275f58929596ceb00d14d90e3e16cd6"
   }
  }
 },
 "nbformat": 4,
 "nbformat_minor": 4
}
