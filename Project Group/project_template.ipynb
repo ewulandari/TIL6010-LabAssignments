{
 "cells": [
  {
   "cell_type": "markdown",
   "metadata": {},
   "source": [
    "# Project Group - \n",
    "\n",
    "**Members:** \n",
    "\n",
    "Alex van Wijngaarden - 4874277\n",
    "\n",
    "Eka Devi  Wulandari - 5912822\n",
    "\n",
    "Nadhira Zahrani Widiafina - 5835429\n",
    "\n",
    "Simon, van der Horst - 5125227\n",
    "\n",
    "Wiet Kalf  - 4498445"
   ]
  },
  {
   "cell_type": "markdown",
   "metadata": {},
   "source": [
    "# Research Objective\n",
    "\n",
    "*Requires data modeling and quantitative research in Transport, Infrastructure & Logistics*"
   ]
  },
  {
   "cell_type": "markdown",
   "metadata": {},
   "source": [
    "\n",
    "“How does the weather influence traffic accidents in cities and rural areas in the Netherlands during the period of 2021-2022, and how do these areas compare?”\n"
   ]
  },
  {
   "cell_type": "markdown",
   "metadata": {},
   "source": [
    "# Contribution Statement\n",
    "\n",
    "*Be specific. Some of the tasks can be coding (expect everyone to do this), background research, conceptualisation, visualisation, data analysis, data modelling*"
   ]
  },
  {
   "cell_type": "markdown",
   "metadata": {},
   "source": [
    "**Conceptulization:**\n",
    "Alex, Eka, Nadhira, Simon, Wiet\n",
    "\n",
    "**Data modeling (data pipeline):**\n",
    "Wiet, Simon\n",
    "\n",
    "**Data analysis (correlation heatmap):**\n",
    "Wiet, Simon\n",
    "\n",
    "**Data visualizaiton (plotly, seaborne etc):**\n",
    "Nadhira, Eka\n",
    "\n",
    "**Narative section (report):**\n",
    "Alex\n"
   ]
  },
  {
   "cell_type": "markdown",
   "metadata": {},
   "source": [
    "# Data Used"
   ]
  },
  {
   "cell_type": "markdown",
   "metadata": {},
   "source": [
    "Verkeersongevallen - Bestand geRegistreerde Ongevallen Nederland\n",
    "https://data.overheid.nl/dataset/9841-verkeersongevallen---bestand-geregistreerde-ongevallen-nederland\n"
   ]
  },
  {
   "cell_type": "markdown",
   "metadata": {},
   "source": [
    "# Data Pipeline"
   ]
  },
  {
   "cell_type": "markdown",
   "metadata": {},
   "source": [
    "1. Source\n",
    "Verkeersongevallen - Bestand geRegistreerde Ongevallen Nederland\n",
    "3. Staging areag\n",
    "    Transform the data from .txt to pandas?\n",
    "4. Data warehouse\n",
    "   .pkl file?"
   ]
  },
  {
   "cell_type": "markdown",
   "metadata": {},
   "source": [
    "# Report"
   ]
  },
  {
   "cell_type": "markdown",
   "metadata": {},
   "source": [
    "## 1. Introduction\n",
    "Explain the background / reasoning behind the chosen topic"
   ]
  },
  {
   "cell_type": "markdown",
   "metadata": {},
   "source": [
    "## 2. Data Processing\n",
    "- import data from the excel\n",
    "- give explanation for each column, what data does the column is represented for?\n",
    "- merge data into 1 dataset\n",
    "- identify outlier\n",
    "- finalize data and remove the outlier (if any)"
   ]
  },
  {
   "cell_type": "markdown",
   "metadata": {},
   "source": [
    "## 3. Descriptive Analysis of the data\n",
    "- accident trend over year (using bar chart) + narrative paragraph\n",
    "- accident distribution in NL (using map) + narrative paragraph\n",
    "- correlation between accident and weather for each weather type (since weather data is categorical) + narrative paragraph\n",
    "     - reference from Julia B. Edwards's paper: **The Relationship Between Road Accident Severity and Recorded Weather**\n",
    "         - define weather classification\n",
    "         - identify severity ratio\n",
    "         - identify the correlation (using chi-square?)\n",
    "     - proposed approach:\n",
    "         - identify impact of weather on 2 things: severity level and number of accident\n",
    "         - using trend line aggregated in monthly basis, every line/colour represent 1 weather type\n",
    "         - to asess the correlation, using chi-square test\n"
   ]
  },
  {
   "cell_type": "markdown",
   "metadata": {},
   "source": []
  }
 ],
 "metadata": {
  "kernelspec": {
   "display_name": "Python 3 (ipykernel)",
   "language": "python",
   "name": "python3"
  },
  "language_info": {
   "codemirror_mode": {
    "name": "ipython",
    "version": 3
   },
   "file_extension": ".py",
   "mimetype": "text/x-python",
   "name": "python",
   "nbconvert_exporter": "python",
   "pygments_lexer": "ipython3",
   "version": "3.11.4"
  },
  "vscode": {
   "interpreter": {
    "hash": "31f2aee4e71d21fbe5cf8b01ff0e069b9275f58929596ceb00d14d90e3e16cd6"
   }
  }
 },
 "nbformat": 4,
 "nbformat_minor": 4
}
